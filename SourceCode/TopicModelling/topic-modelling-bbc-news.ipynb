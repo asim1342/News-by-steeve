{
 "cells": [
  {
   "cell_type": "code",
   "execution_count": 1,
   "metadata": {
    "execution": {
     "iopub.execute_input": "2021-01-30T06:39:45.119828Z",
     "iopub.status.busy": "2021-01-30T06:39:45.119041Z",
     "iopub.status.idle": "2021-01-30T06:39:48.562087Z",
     "shell.execute_reply": "2021-01-30T06:39:48.560464Z"
    },
    "papermill": {
     "duration": 3.485754,
     "end_time": "2021-01-30T06:39:48.562225",
     "exception": false,
     "start_time": "2021-01-30T06:39:45.076471",
     "status": "completed"
    },
    "tags": []
   },
   "outputs": [],
   "source": [
    "import warnings\n",
    "warnings.filterwarnings('ignore',category=DeprecationWarning)\n",
    "\n",
    "# import libraries\n",
    "import numpy as np\n",
    "import pandas as pd\n",
    "import nltk\n",
    "import matplotlib.pyplot as plt\n",
    "import re,random,os\n",
    "import seaborn as sns\n",
    "from nltk.corpus import stopwords\n",
    "import string\n",
    "from pprint import pprint as pprint\n",
    "\n",
    "# spacy for basic processing, optional, can use nltk as well(lemmatisation etc.)\n",
    "import spacy\n",
    "\n",
    "#gensim for LDA\n",
    "import gensim\n",
    "import gensim.corpora as corpora\n",
    "from gensim.utils import simple_preprocess\n",
    "from gensim.models import CoherenceModel\n",
    "\n",
    "#plotting tools\n",
    "import pyLDAvis\n",
    "import pyLDAvis.gensim #dont skip this\n",
    "import matplotlib.pyplot as plt\n",
    "%matplotlib inline\n"
   ]
  },
  {
   "cell_type": "code",
   "execution_count": 2,
   "metadata": {
    "execution": {
     "iopub.execute_input": "2021-01-30T06:39:48.652480Z",
     "iopub.status.busy": "2021-01-30T06:39:48.651779Z",
     "iopub.status.idle": "2021-01-30T06:40:00.469388Z",
     "shell.execute_reply": "2021-01-30T06:40:00.469864Z"
    },
    "papermill": {
     "duration": 11.867213,
     "end_time": "2021-01-30T06:40:00.470030",
     "exception": false,
     "start_time": "2021-01-30T06:39:48.602817",
     "status": "completed"
    },
    "tags": []
   },
   "outputs": [
    {
     "name": "stdout",
     "output_type": "stream",
     "text": [
      "\u001b[38;5;2m✔ Download and installation successful\u001b[0m\n",
      "You can now load the model via spacy.load('en_core_web_sm')\n",
      "\u001b[38;5;2m✔ Linking successful\u001b[0m\n",
      "/opt/conda/lib/python3.7/site-packages/en_core_web_sm -->\n",
      "/opt/conda/lib/python3.7/site-packages/spacy/data/en\n",
      "You can now load the model via spacy.load('en')\n"
     ]
    }
   ],
   "source": [
    "spacy.cli.download(\"en\")"
   ]
  },
  {
   "cell_type": "markdown",
   "metadata": {
    "papermill": {
     "duration": 0.06164,
     "end_time": "2021-01-30T06:42:14.504015",
     "exception": false,
     "start_time": "2021-01-30T06:42:14.442375",
     "status": "completed"
    },
    "tags": []
   },
   "source": [
    "### BBC News Dataset"
   ]
  },
  {
   "cell_type": "markdown",
   "metadata": {
    "papermill": {
     "duration": 0.043141,
     "end_time": "2021-01-30T06:40:01.643814",
     "exception": false,
     "start_time": "2021-01-30T06:40:01.600673",
     "status": "completed"
    },
    "tags": []
   },
   "source": [
    "### Preprocessing\n",
    "\n",
    "1. Tokenize each review (using gensim)\n",
    "2. Remove stop words (including punctuations)\n",
    "3. Lemmatize (using spacy)\n"
   ]
  },
  {
   "cell_type": "code",
   "execution_count": 37,
   "metadata": {
    "execution": {
     "iopub.execute_input": "2021-01-30T06:42:14.638620Z",
     "iopub.status.busy": "2021-01-30T06:42:14.637756Z",
     "iopub.status.idle": "2021-01-30T06:42:29.053170Z",
     "shell.execute_reply": "2021-01-30T06:42:29.052452Z"
    },
    "papermill": {
     "duration": 14.487332,
     "end_time": "2021-01-30T06:42:29.053312",
     "exception": false,
     "start_time": "2021-01-30T06:42:14.565980",
     "status": "completed"
    },
    "tags": []
   },
   "outputs": [],
   "source": [
    "# Reading the BBC news dataset\n",
    "data_folder=\"../input/bbc-news-summary/BBC News Summary/News Articles\"\n",
    "folders=[\"business\",\"entertainment\",\"politics\",\"sport\",\"tech\"]\n",
    "x=[]\n",
    "y=[]\n",
    "\n",
    "\n",
    "for i in folders:\n",
    "    files=os.listdir(data_folder+'/'+i)\n",
    "    for text_file in files:\n",
    "        file_path=data_folder + '/'+i+'/'+text_file\n",
    "        with open(file_path,'rb') as f:\n",
    "            data=f.read()\n",
    "        x.append(data)\n",
    "        y.append(i)\n",
    "        \n",
    "data={'news':x,'type':y}\n",
    "df = pd.DataFrame(data)\n",
    "df.to_csv('bbc_data.csv', index=False)        "
   ]
  },
  {
   "cell_type": "code",
   "execution_count": 38,
   "metadata": {
    "execution": {
     "iopub.execute_input": "2021-01-30T06:42:29.185212Z",
     "iopub.status.busy": "2021-01-30T06:42:29.184173Z",
     "iopub.status.idle": "2021-01-30T06:42:29.188525Z",
     "shell.execute_reply": "2021-01-30T06:42:29.187995Z"
    },
    "papermill": {
     "duration": 0.07515,
     "end_time": "2021-01-30T06:42:29.188639",
     "exception": false,
     "start_time": "2021-01-30T06:42:29.113489",
     "status": "completed"
    },
    "tags": []
   },
   "outputs": [
    {
     "data": {
      "text/html": [
       "<div>\n",
       "<style scoped>\n",
       "    .dataframe tbody tr th:only-of-type {\n",
       "        vertical-align: middle;\n",
       "    }\n",
       "\n",
       "    .dataframe tbody tr th {\n",
       "        vertical-align: top;\n",
       "    }\n",
       "\n",
       "    .dataframe thead th {\n",
       "        text-align: right;\n",
       "    }\n",
       "</style>\n",
       "<table border=\"1\" class=\"dataframe\">\n",
       "  <thead>\n",
       "    <tr style=\"text-align: right;\">\n",
       "      <th></th>\n",
       "      <th>news</th>\n",
       "      <th>type</th>\n",
       "    </tr>\n",
       "  </thead>\n",
       "  <tbody>\n",
       "    <tr>\n",
       "      <th>0</th>\n",
       "      <td>b'US consumer confidence up\\n\\nConsumers\\' con...</td>\n",
       "      <td>business</td>\n",
       "    </tr>\n",
       "    <tr>\n",
       "      <th>1</th>\n",
       "      <td>b'The \\'ticking budget\\' facing the US\\n\\nThe ...</td>\n",
       "      <td>business</td>\n",
       "    </tr>\n",
       "    <tr>\n",
       "      <th>2</th>\n",
       "      <td>b\"Mitsubishi in Peugeot link talks\\n\\nTrouble-...</td>\n",
       "      <td>business</td>\n",
       "    </tr>\n",
       "    <tr>\n",
       "      <th>3</th>\n",
       "      <td>b'BMW reveals new models pipeline\\n\\nBMW is pr...</td>\n",
       "      <td>business</td>\n",
       "    </tr>\n",
       "    <tr>\n",
       "      <th>4</th>\n",
       "      <td>b'World leaders gather to face uncertainty\\n\\n...</td>\n",
       "      <td>business</td>\n",
       "    </tr>\n",
       "  </tbody>\n",
       "</table>\n",
       "</div>"
      ],
      "text/plain": [
       "                                                news      type\n",
       "0  b'US consumer confidence up\\n\\nConsumers\\' con...  business\n",
       "1  b'The \\'ticking budget\\' facing the US\\n\\nThe ...  business\n",
       "2  b\"Mitsubishi in Peugeot link talks\\n\\nTrouble-...  business\n",
       "3  b'BMW reveals new models pipeline\\n\\nBMW is pr...  business\n",
       "4  b'World leaders gather to face uncertainty\\n\\n...  business"
      ]
     },
     "execution_count": 38,
     "metadata": {},
     "output_type": "execute_result"
    }
   ],
   "source": [
    "df.head()"
   ]
  },
  {
   "cell_type": "code",
   "execution_count": 39,
   "metadata": {
    "execution": {
     "iopub.execute_input": "2021-01-30T06:42:29.318993Z",
     "iopub.status.busy": "2021-01-30T06:42:29.318141Z",
     "iopub.status.idle": "2021-01-30T06:42:29.325627Z",
     "shell.execute_reply": "2021-01-30T06:42:29.324965Z"
    },
    "papermill": {
     "duration": 0.076982,
     "end_time": "2021-01-30T06:42:29.325751",
     "exception": false,
     "start_time": "2021-01-30T06:42:29.248769",
     "status": "completed"
    },
    "tags": []
   },
   "outputs": [
    {
     "data": {
      "text/plain": [
       "sport            511\n",
       "business         510\n",
       "politics         417\n",
       "tech             401\n",
       "entertainment    386\n",
       "Name: type, dtype: int64"
      ]
     },
     "execution_count": 39,
     "metadata": {},
     "output_type": "execute_result"
    }
   ],
   "source": [
    "df.type.astype('category').value_counts()"
   ]
  },
  {
   "cell_type": "code",
   "execution_count": 40,
   "metadata": {
    "execution": {
     "iopub.execute_input": "2021-01-30T06:42:29.455926Z",
     "iopub.status.busy": "2021-01-30T06:42:29.454962Z",
     "iopub.status.idle": "2021-01-30T06:42:29.460060Z",
     "shell.execute_reply": "2021-01-30T06:42:29.459529Z"
    },
    "papermill": {
     "duration": 0.072683,
     "end_time": "2021-01-30T06:42:29.460168",
     "exception": false,
     "start_time": "2021-01-30T06:42:29.387485",
     "status": "completed"
    },
    "tags": []
   },
   "outputs": [
    {
     "data": {
      "text/plain": [
       "(510, 2)"
      ]
     },
     "execution_count": 40,
     "metadata": {},
     "output_type": "execute_result"
    }
   ],
   "source": [
    "# filter business articles\n",
    "df = df[df['type']=='business']\n",
    "df.shape"
   ]
  },
  {
   "cell_type": "code",
   "execution_count": 41,
   "metadata": {
    "execution": {
     "iopub.execute_input": "2021-01-30T06:42:29.610899Z",
     "iopub.status.busy": "2021-01-30T06:42:29.605607Z",
     "iopub.status.idle": "2021-01-30T06:42:38.944822Z",
     "shell.execute_reply": "2021-01-30T06:42:38.945357Z"
    },
    "papermill": {
     "duration": 9.423994,
     "end_time": "2021-01-30T06:42:38.945523",
     "exception": false,
     "start_time": "2021-01-30T06:42:29.521529",
     "status": "completed"
    },
    "tags": []
   },
   "outputs": [],
   "source": [
    "# convert to list\n",
    "data=df['news'].values.tolist()\n",
    "data_words=list(sent_to_words(data))\n",
    "\n",
    "# remove stop words\n",
    "data_words_nostops= remove_stopwords(data_words)\n",
    "\n",
    "#lemmatize\n",
    "nlp = spacy.load('en', disable=['parser','ner'])\n",
    "data_lemmatized = lemmatization(data_words_nostops,allowed_postags=['NOUN', 'ADJ', 'VERB', 'ADV'])\n",
    "\n"
   ]
  },
  {
   "cell_type": "markdown",
   "metadata": {},
   "source": [
    "## Creating Dictionary and Corpus\n",
    "\n",
    "`Gensim's LDA requires the data in a certain format. Firstly, it needs the corpus as a dicionary of id-word mapping, where each word has a unique numeric ID. This is for computationally efficiency purposes. Secondly, it needs the corpus as a term-document frequency matrix which contains the frequency of each word in each document.`"
   ]
  },
  {
   "cell_type": "code",
   "execution_count": null,
   "metadata": {},
   "outputs": [],
   "source": [
    "# create dictionary\n",
    "id2word = corpora.Dictionary(data_lemmatized)\n",
    "\n",
    "#create corpus\n",
    "texts = data_lemmatized\n",
    "\n",
    "#term document frequency\n",
    "corpus = [id2word.doc2bow(text) for text in texts]"
   ]
  },
  {
   "cell_type": "markdown",
   "metadata": {},
   "source": [
    "## Building the Topic Model\n"
   ]
  },
  {
   "cell_type": "code",
   "execution_count": 42,
   "metadata": {
    "execution": {
     "iopub.execute_input": "2021-01-30T06:42:39.079514Z",
     "iopub.status.busy": "2021-01-30T06:42:39.077473Z",
     "iopub.status.idle": "2021-01-30T06:42:45.571975Z",
     "shell.execute_reply": "2021-01-30T06:42:45.571382Z"
    },
    "papermill": {
     "duration": 6.564328,
     "end_time": "2021-01-30T06:42:45.572103",
     "exception": false,
     "start_time": "2021-01-30T06:42:39.007775",
     "status": "completed"
    },
    "tags": []
   },
   "outputs": [],
   "source": [
    "# Build LDA model\n",
    "lda_model = gensim.models.ldamodel.LdaModel(corpus=corpus,\n",
    "                                           id2word=id2word,\n",
    "                                           num_topics=20, \n",
    "                                           random_state=100,\n",
    "                                           update_every=1,\n",
    "                                           chunksize=100,\n",
    "                                           passes=10,\n",
    "                                           alpha='auto',\n",
    "                                           per_word_topics=True)"
   ]
  },
  {
   "cell_type": "markdown",
   "metadata": {},
   "source": [
    "## Computing coherence score\n"
   ]
  },
  {
   "cell_type": "code",
   "execution_count": 43,
   "metadata": {
    "execution": {
     "iopub.execute_input": "2021-01-30T06:42:45.705414Z",
     "iopub.status.busy": "2021-01-30T06:42:45.704713Z",
     "iopub.status.idle": "2021-01-30T06:42:49.725301Z",
     "shell.execute_reply": "2021-01-30T06:42:49.724724Z"
    },
    "papermill": {
     "duration": 4.088699,
     "end_time": "2021-01-30T06:42:49.725433",
     "exception": false,
     "start_time": "2021-01-30T06:42:45.636734",
     "status": "completed"
    },
    "tags": []
   },
   "outputs": [
    {
     "name": "stdout",
     "output_type": "stream",
     "text": [
      "\n",
      "Coherence Score:  0.4499446504324448\n"
     ]
    }
   ],
   "source": [
    "# Compute coherence score\n",
    "coherence_model_lda = CoherenceModel(model=lda_model, texts=data_lemmatized, dictionary=id2word, coherence='c_v')\n",
    "coherence_lda = coherence_model_lda.get_coherence()\n",
    "print('\\nCoherence Score: ', coherence_lda)"
   ]
  },
  {
   "cell_type": "code",
   "execution_count": 44,
   "metadata": {
    "execution": {
     "iopub.execute_input": "2021-01-30T06:42:49.858470Z",
     "iopub.status.busy": "2021-01-30T06:42:49.857612Z",
     "iopub.status.idle": "2021-01-30T06:42:49.872788Z",
     "shell.execute_reply": "2021-01-30T06:42:49.871688Z"
    },
    "papermill": {
     "duration": 0.084001,
     "end_time": "2021-01-30T06:42:49.872969",
     "exception": false,
     "start_time": "2021-01-30T06:42:49.788968",
     "status": "completed"
    },
    "tags": []
   },
   "outputs": [
    {
     "name": "stdout",
     "output_type": "stream",
     "text": [
      "[(0,\n",
      "  '0.022*\"gorge\" + 0.019*\"dam\" + 0.016*\"environmental\" + 0.008*\"power\" + '\n",
      "  '0.007*\"mandatory\" + 0.006*\"sand\" + 0.005*\"draw\" + 0.000*\"sepa\" + '\n",
      "  '0.000*\"downstream\" + 0.000*\"chronic\"'),\n",
      " (1,\n",
      "  '0.030*\"develop\" + 0.023*\"unfair\" + 0.020*\"nationwide\" + 0.019*\"customer\" + '\n",
      "  '0.019*\"decision\" + 0.017*\"position\" + 0.016*\"insurance\" + 0.016*\"private\" + '\n",
      "  '0.015*\"find\" + 0.014*\"evidence\"'),\n",
      " (2,\n",
      "  '0.023*\"company\" + 0.020*\"airline\" + 0.020*\"case\" + 0.018*\"oil\" + '\n",
      "  '0.017*\"court\" + 0.015*\"russian\" + 0.014*\"claim\" + 0.014*\"unit\" + '\n",
      "  '0.013*\"state\" + 0.013*\"sale\"'),\n",
      " (3,\n",
      "  '0.088*\"card\" + 0.071*\"volume\" + 0.032*\"equip\" + 0.026*\"credit\" + '\n",
      "  '0.021*\"creditor\" + 0.014*\"consortium\" + 0.012*\"buying\" + 0.012*\"rescue\" + '\n",
      "  '0.011*\"train\" + 0.011*\"bubble\"'),\n",
      " (4,\n",
      "  '0.013*\"impetus\" + 0.012*\"minute\" + 0.008*\"tube\" + 0.008*\"reap\" + '\n",
      "  '0.007*\"reading\" + 0.005*\"wharf\" + 0.003*\"crossrail\" + 0.001*\"proximity\" + '\n",
      "  '0.001*\"provided\" + 0.001*\"treasury\"'),\n",
      " (5,\n",
      "  '0.000*\"appear\" + 0.000*\"wrongdoing\" + 0.000*\"objectivity\" + '\n",
      "  '0.000*\"quitting\" + 0.000*\"refrain\" + 0.000*\"lifetime\" + 0.000*\"shamrock\" + '\n",
      "  '0.000*\"clara\" + 0.000*\"ante\" + 0.000*\"constructive\"'),\n",
      " (6,\n",
      "  '0.102*\"oil\" + 0.047*\"price\" + 0.038*\"crude\" + 0.037*\"renew\" + '\n",
      "  '0.033*\"supply\" + 0.030*\"evaporate\" + 0.029*\"barrel\" + 0.027*\"weather\" + '\n",
      "  '0.012*\"light\" + 0.011*\"temperature\"'),\n",
      " (7,\n",
      "  '0.043*\"country\" + 0.037*\"deficit\" + 0.031*\"year\" + 0.028*\"rule\" + '\n",
      "  '0.020*\"budget\" + 0.020*\"member\" + 0.017*\"decision\" + 0.017*\"government\" + '\n",
      "  '0.016*\"limit\" + 0.013*\"must\"'),\n",
      " (8,\n",
      "  '0.031*\"work\" + 0.020*\"report\" + 0.017*\"entitle\" + 0.016*\"call\" + '\n",
      "  '0.014*\"campaign\" + 0.014*\"woman\" + 0.013*\"plan\" + 0.013*\"leader\" + '\n",
      "  '0.012*\"new\" + 0.012*\"lack\"'),\n",
      " (9,\n",
      "  '0.041*\"straight\" + 0.031*\"retirement\" + 0.025*\"recall\" + 0.024*\"commitment\" '\n",
      "  '+ 0.021*\"tackle\" + 0.017*\"propose\" + 0.015*\"membership\" + 0.014*\"request\" + '\n",
      "  '0.011*\"pension\" + 0.010*\"transform\"'),\n",
      " (10,\n",
      "  '0.056*\"rise\" + 0.049*\"price\" + 0.031*\"year\" + 0.030*\"rate\" + 0.029*\"fall\" + '\n",
      "  '0.029*\"quarter\" + 0.025*\"figure\" + 0.022*\"month\" + 0.020*\"growth\" + '\n",
      "  '0.019*\"market\"'),\n",
      " (11,\n",
      "  '0.022*\"market\" + 0.022*\"sell\" + 0.021*\"share\" + 0.021*\"deal\" + '\n",
      "  '0.020*\"offer\" + 0.017*\"company\" + 0.017*\"firm\" + 0.017*\"car\" + 0.015*\"make\" '\n",
      "  '+ 0.014*\"buy\"'),\n",
      " (12,\n",
      "  '0.038*\"economy\" + 0.029*\"growth\" + 0.028*\"export\" + 0.028*\"dollar\" + '\n",
      "  '0.023*\"economic\" + 0.017*\"trade\" + 0.016*\"record\" + 0.016*\"deficit\" + '\n",
      "  '0.016*\"fall\" + 0.014*\"year\"'),\n",
      " (13,\n",
      "  '0.083*\"wine\" + 0.029*\"beer\" + 0.027*\"luxury\" + 0.023*\"exposure\" + '\n",
      "  '0.021*\"brother\" + 0.019*\"brewer\" + 0.014*\"wish\" + 0.008*\"brewery\" + '\n",
      "  '0.008*\"bet\" + 0.006*\"interbrew\"'),\n",
      " (14,\n",
      "  '0.058*\"award\" + 0.050*\"procedure\" + 0.049*\"firm\" + 0.042*\"compensation\" + '\n",
      "  '0.042*\"contract\" + 0.026*\"sack\" + 0.025*\"scheme\" + 0.022*\"scrutiny\" + '\n",
      "  '0.018*\"foreign\" + 0.018*\"listing\"'),\n",
      " (15,\n",
      "  '0.023*\"bank\" + 0.023*\"financial\" + 0.023*\"debt\" + 0.018*\"pay\" + '\n",
      "  '0.015*\"money\" + 0.014*\"director\" + 0.013*\"agree\" + 0.013*\"bid\" + '\n",
      "  '0.013*\"proposal\" + 0.013*\"payment\"'),\n",
      " (16,\n",
      "  '0.052*\"fraud\" + 0.045*\"charge\" + 0.034*\"former\" + 0.029*\"ebber\" + '\n",
      "  '0.022*\"trial\" + 0.022*\"guilty\" + 0.021*\"prosecutor\" + 0.020*\"accounting\" + '\n",
      "  '0.020*\"face\" + 0.017*\"accuse\"'),\n",
      " (17,\n",
      "  '0.068*\"facility\" + 0.067*\"engine\" + 0.039*\"joint\" + 0.038*\"venture\" + '\n",
      "  '0.036*\"carmaker\" + 0.011*\"motor\" + 0.009*\"union\" + 0.007*\"romeo\" + '\n",
      "  '0.007*\"alliance\" + 0.006*\"petrol\"'),\n",
      " (18,\n",
      "  '0.038*\"year\" + 0.034*\"profit\" + 0.025*\"company\" + 0.023*\"revenue\" + '\n",
      "  '0.023*\"sale\" + 0.021*\"share\" + 0.021*\"firm\" + 0.020*\"cost\" + 0.018*\"result\" '\n",
      "  '+ 0.016*\"cut\"'),\n",
      " (19,\n",
      "  '0.015*\"make\" + 0.014*\"year\" + 0.010*\"could\" + 0.009*\"many\" + '\n",
      "  '0.009*\"government\" + 0.008*\"job\" + 0.008*\"may\" + 0.007*\"world\" + '\n",
      "  '0.007*\"new\" + 0.007*\"country\"')]\n"
     ]
    }
   ],
   "source": [
    "# print keywords\n",
    "pprint(lda_model.print_topics())\n"
   ]
  },
  {
   "cell_type": "code",
   "execution_count": 45,
   "metadata": {
    "execution": {
     "iopub.execute_input": "2021-01-30T06:42:50.014819Z",
     "iopub.status.busy": "2021-01-30T06:42:50.013999Z",
     "iopub.status.idle": "2021-01-30T06:42:50.017831Z",
     "shell.execute_reply": "2021-01-30T06:42:50.017110Z"
    },
    "papermill": {
     "duration": 0.078245,
     "end_time": "2021-01-30T06:42:50.017961",
     "exception": false,
     "start_time": "2021-01-30T06:42:49.939716",
     "status": "completed"
    },
    "tags": []
   },
   "outputs": [],
   "source": [
    "doc_lda = lda_model[corpus]\n"
   ]
  },
  {
   "cell_type": "markdown",
   "metadata": {},
   "source": [
    "## Visualize the topics\n"
   ]
  },
  {
   "cell_type": "code",
   "execution_count": 46,
   "metadata": {
    "execution": {
     "iopub.execute_input": "2021-01-30T06:42:50.181881Z",
     "iopub.status.busy": "2021-01-30T06:42:50.179225Z",
     "iopub.status.idle": "2021-01-30T06:42:52.080438Z",
     "shell.execute_reply": "2021-01-30T06:42:52.081132Z"
    },
    "papermill": {
     "duration": 2.000032,
     "end_time": "2021-01-30T06:42:52.081329",
     "exception": false,
     "start_time": "2021-01-30T06:42:50.081297",
     "status": "completed"
    },
    "tags": []
   },
   "outputs": [
    {
     "data": {
      "text/html": [
       "\n",
       "<link rel=\"stylesheet\" type=\"text/css\" href=\"https://cdn.rawgit.com/bmabey/pyLDAvis/files/ldavis.v1.0.0.css\">\n",
       "\n",
       "\n",
       "<div id=\"ldavis_el151397640108158247654104352\"></div>\n",
       "<script type=\"text/javascript\">\n",
       "\n",
       "var ldavis_el151397640108158247654104352_data = {\"mdsDat\": {\"x\": [0.2444248106046185, 0.2493035731444994, 0.28897124917530265, 0.20402132494887476, 0.24465089947775495, 0.18901867768290384, 0.1363753800284661, 0.05958685264278964, -0.016003288944997297, -0.011153864397598785, -0.08737272104292838, -0.14653167066783523, -0.14985887310304544, -0.171020556795921, -0.17687695326475308, -0.17777295735991924, -0.1755315372927763, -0.16952236320322037, -0.16893616727665403, -0.16577181435556107], \"y\": [-0.04625347306169772, 0.04970059893666584, -0.19709529663767972, 0.14991736374323678, -0.21684180354619387, 0.18620612300140732, -0.055649049867895505, 0.1431928000255039, 0.0460702306417115, 0.15350419389867762, 0.10920509824157222, 0.0007695967987115679, -0.06201937240006011, -0.042845201686138305, -0.040837008622737904, -0.03955314356437136, -0.04166966856550765, -0.032406269838405305, -0.03311597038615992, -0.030279747110639972], \"topics\": [1, 2, 3, 4, 5, 6, 7, 8, 9, 10, 11, 12, 13, 14, 15, 16, 17, 18, 19, 20], \"cluster\": [1, 1, 1, 1, 1, 1, 1, 1, 1, 1, 1, 1, 1, 1, 1, 1, 1, 1, 1, 1], \"Freq\": [28.651353446885487, 11.569925027365967, 10.86286307499251, 10.51841731814437, 9.264143578807413, 8.826581561607828, 5.764433929031807, 4.470296820944618, 3.064542604912974, 2.87569211226623, 1.5658224455435859, 0.6337842730379943, 0.5043578495671642, 0.5032184390153842, 0.27155190584311895, 0.26588409592025203, 0.24928255788323989, 0.06965448147013761, 0.05985861787786725, 0.008335858882058948]}, \"tinfo\": {\"Term\": [\"price\", \"oil\", \"firm\", \"rise\", \"country\", \"year\", \"economy\", \"profit\", \"growth\", \"company\", \"deficit\", \"fall\", \"rate\", \"quarter\", \"foreign\", \"export\", \"share\", \"dollar\", \"former\", \"sale\", \"revenue\", \"figure\", \"work\", \"economic\", \"market\", \"rule\", \"sell\", \"cost\", \"report\", \"executive\", \"import\", \"property\", \"impact\", \"anticipate\", \"view\", \"remove\", \"expansion\", \"comment\", \"affect\", \"measure\", \"track\", \"job\", \"least\", \"gap\", \"improve\", \"pretty\", \"example\", \"describe\", \"project\", \"recognise\", \"widely\", \"other\", \"surge\", \"personal\", \"margin\", \"outlook\", \"threat\", \"rest\", \"sharply\", \"single\", \"effort\", \"many\", \"world\", \"estimate\", \"far\", \"thing\", \"likely\", \"almost\", \"area\", \"long\", \"foreign\", \"people\", \"warn\", \"make\", \"need\", \"accord\", \"could\", \"government\", \"account\", \"investment\", \"may\", \"much\", \"new\", \"find\", \"go\", \"year\", \"time\", \"move\", \"see\", \"add\", \"country\", \"take\", \"cost\", \"increase\", \"economic\", \"expect\", \"profit\", \"revenue\", \"name\", \"pre\", \"trader\", \"post\", \"disappointing\", \"reserve\", \"turnover\", \"publication\", \"division\", \"return\", \"uphold\", \"guidance\", \"pointed\", \"marketing\", \"forward\", \"full\", \"extend\", \"worldwide\", \"failure\", \"confident\", \"regulatory\", \"suit\", \"tie\", \"distance\", \"severe\", \"reuter\", \"wholesale\", \"penny\", \"earning\", \"nshare\", \"operate\", \"result\", \"loss\", \"service\", \"offset\", \"cut\", \"focus\", \"reduce\", \"cost\", \"share\", \"executive\", \"sale\", \"boost\", \"company\", \"year\", \"firm\", \"product\", \"chief\", \"well\", \"analyst\", \"expect\", \"total\", \"hit\", \"early\", \"business\", \"high\", \"big\", \"low\", \"report\", \"price\", \"market\", \"house\", \"slowdown\", \"expectation\", \"mortgage\", \"inflation\", \"housing\", \"quarterly\", \"halifax\", \"monthly\", \"upward\", \"indicate\", \"pound\", \"lending\", \"committee\", \"respectable\", \"cool\", \"steady\", \"figure\", \"optimism\", \"household\", \"quarter\", \"ons\", \"unchanged\", \"discount\", \"statistic\", \"inflationary\", \"rate\", \"direction\", \"hike\", \"indicator\", \"rise\", \"survey\", \"manufacturing\", \"period\", \"price\", \"confidence\", \"annual\", \"index\", \"forecast\", \"consumer\", \"fall\", \"fuel\", \"show\", \"economist\", \"month\", \"slow\", \"capital\", \"interest\", \"growth\", \"high\", \"year\", \"market\", \"sale\", \"strong\", \"first\", \"late\", \"increase\", \"recent\", \"remain\", \"however\", \"nthe\", \"takeover\", \"store\", \"negotiation\", \"competitor\", \"speculation\", \"undervalue\", \"conclude\", \"merger\", \"bond\", \"field\", \"history\", \"date\", \"fortune\", \"naccorde\", \"found\", \"rumour\", \"pull\", \"resign\", \"oppose\", \"clothing\", \"coffee\", \"flotation\", \"cancellation\", \"altogether\", \"capitalisation\", \"mid\", \"shop\", \"quality\", \"unveil\", \"journalist\", \"car\", \"list\", \"document\", \"talk\", \"offer\", \"sell\", \"deal\", \"investor\", \"approve\", \"observer\", \"shareholder\", \"exchange\", \"bid\", \"buy\", \"announcement\", \"stock\", \"plant\", \"share\", \"rival\", \"stake\", \"maker\", \"consider\", \"market\", \"statement\", \"cash\", \"hold\", \"plan\", \"factory\", \"firm\", \"company\", \"make\", \"may\", \"public\", \"could\", \"large\", \"say\", \"include\", \"sale\", \"new\", \"big\", \"report\", \"export\", \"currency\", \"japanese\", \"excessive\", \"yen\", \"recession\", \"weakness\", \"rally\", \"extensive\", \"poverty\", \"downturn\", \"stagnate\", \"spark\", \"asian\", \"imbalance\", \"usual\", \"dollar\", \"textile\", \"crisis\", \"consumption\", \"labour\", \"euro\", \"picture\", \"adjust\", \"highlight\", \"slip\", \"estate\", \"slide\", \"unemployment\", \"israeli\", \"weak\", \"recovery\", \"trade\", \"fresh\", \"weaken\", \"economy\", \"mark\", \"strength\", \"record\", \"policy\", \"economic\", \"growth\", \"ever\", \"deficit\", \"global\", \"demand\", \"domestic\", \"next\", \"help\", \"close\", \"fall\", \"grow\", \"nthe\", \"hit\", \"oil\", \"time\", \"first\", \"year\", \"debt\", \"expect\", \"show\", \"airline\", \"court\", \"russian\", \"passenger\", \"carrier\", \"gas\", \"commission\", \"sue\", \"auction\", \"flight\", \"bill\", \"authority\", \"air\", \"fly\", \"additional\", \"protection\", \"aircraft\", \"route\", \"side\", \"gazprom\", \"plane\", \"bankrupt\", \"rosneft\", \"indian\", \"matter\", \"tell\", \"mail\", \"test\", \"repeatedly\", \"unknown\", \"bankruptcy\", \"legal\", \"lawsuit\", \"right\", \"case\", \"unit\", \"production\", \"local\", \"state\", \"seek\", \"oil\", \"claim\", \"former\", \"company\", \"tax\", \"control\", \"group\", \"sale\", \"firm\", \"help\", \"fuel\", \"take\", \"pay\", \"buy\", \"year\", \"sell\", \"pact\", \"ruling\", \"breach\", \"tobacco\", \"appeal\", \"parliament\", \"legislation\", \"stability\", \"original\", \"advantage\", \"subsidy\", \"sanction\", \"prediction\", \"federal\", \"member\", \"suitable\", \"structural\", \"cap\", \"social\", \"age\", \"contribution\", \"smoking\", \"borrow\", \"population\", \"lie\", \"limit\", \"military\", \"president\", \"promote\", \"fiscal\", \"must\", \"budget\", \"exceed\", \"rule\", \"deficit\", \"critic\", \"country\", \"act\", \"break\", \"decision\", \"law\", \"put\", \"call\", \"year\", \"government\", \"run\", \"reform\", \"action\", \"meet\", \"target\", \"nation\", \"spend\", \"big\", \"nthe\", \"could\", \"european\", \"change\", \"club\", \"connection\", \"penalty\", \"accept\", \"rank\", \"prison\", \"independent\", \"rich\", \"let\", \"team\", \"complaint\", \"game\", \"trust\", \"repayment\", \"tycoon\", \"funding\", \"profitability\", \"video\", \"football\", \"supporter\", \"unite\", \"match\", \"wealth\", \"detailed\", \"lend\", \"arrest\", \"split\", \"violation\", \"possibility\", \"advise\", \"payment\", \"subsidiary\", \"creditor\", \"receive\", \"understand\", \"involve\", \"proposal\", \"package\", \"director\", \"financial\", \"bank\", \"debt\", \"pay\", \"agree\", \"money\", \"separate\", \"bid\", \"child\", \"fund\", \"interest\", \"support\", \"shareholder\", \"lead\", \"case\", \"help\", \"entitle\", \"leadership\", \"regard\", \"apart\", \"forum\", \"person\", \"proportion\", \"panel\", \"wage\", \"african\", \"woman\", \"initiative\", \"tv\", \"patient\", \"attend\", \"protest\", \"festive\", \"publish\", \"fair\", \"dozen\", \"higher\", \"wrong\", \"deputy\", \"fan\", \"palestinian\", \"campaigner\", \"chain\", \"letter\", \"speech\", \"choice\", \"sluggish\", \"lack\", \"campaign\", \"advance\", \"fight\", \"union\", \"responsibility\", \"leader\", \"work\", \"anti\", \"retailer\", \"staff\", \"important\", \"call\", \"report\", \"hear\", \"issue\", \"plan\", \"new\", \"people\", \"base\", \"develop\", \"nationwide\", \"insurance\", \"replace\", \"organisation\", \"experience\", \"mainly\", \"continent\", \"troubled\", \"persuade\", \"falter\", \"insurer\", \"rating\", \"negotiate\", \"transaction\", \"paper\", \"party\", \"broker\", \"mini\", \"attorney\", \"invite\", \"co\", \"tumble\", \"heat\", \"fierce\", \"unfair\", \"commodity\", \"ally\", \"argentine\", \"valuation\", \"centre\", \"practice\", \"evidence\", \"allegation\", \"regulator\", \"customer\", \"position\", \"officer\", \"information\", \"criticism\", \"employee\", \"private\", \"decision\", \"lose\", \"find\", \"german\", \"week\", \"firm\", \"executive\", \"company\", \"fraud\", \"ebber\", \"guilty\", \"accounting\", \"plead\", \"false\", \"auditor\", \"sentence\", \"prosecutor\", \"conspiracy\", \"entry\", \"convict\", \"witness\", \"trial\", \"unaware\", \"reply\", \"admit\", \"firmly\", \"mastermind\", \"paint\", \"portray\", \"juror\", \"orchestrate\", \"jail\", \"charge\", \"prosecution\", \"darling\", \"innocence\", \"petere\", \"answer\", \"collapse\", \"accuse\", \"allege\", \"hide\", \"expense\", \"question\", \"former\", \"substantial\", \"inflate\", \"emerge\", \"lawyer\", \"telecom\", \"face\", \"boss\", \"officer\", \"executive\", \"financial\", \"company\", \"firm\", \"know\", \"finance\", \"chief\", \"award\", \"procedure\", \"sack\", \"compliance\", \"oblige\", \"compensation\", \"scrutiny\", \"secondary\", \"section\", \"scheme\", \"apologise\", \"nfirm\", \"unnamed\", \"prop\", \"steer\", \"recruit\", \"unwilling\", \"subsequently\", \"accomodate\", \"rethink\", \"prohibit\", \"aware\", \"delegation\", \"internal\", \"listing\", \"procurement\", \"nboee\", \"fsa\", \"mislead\", \"waive\", \"contract\", \"requirement\", \"act\", \"jail\", \"firm\", \"investigate\", \"foreign\", \"senior\", \"official\", \"governance\", \"scandal\", \"top\", \"european\", \"already\", \"responsibility\", \"executive\", \"pay\", \"crude\", \"renew\", \"evaporate\", \"barrel\", \"weather\", \"temperature\", \"noil\", \"watch\", \"northern\", \"panic\", \"cold\", \"brent\", \"winter\", \"supply\", \"mild\", \"blast\", \"broken\", \"essentially\", \"militant\", \"achille\", \"briefly\", \"light\", \"oil\", \"rebound\", \"unlikely\", \"day\", \"heating\", \"dependence\", \"fathi\", \"shiver\", \"snowfall\", \"trading\", \"nfreeze\", \"price\", \"week\", \"high\", \"card\", \"volume\", \"equip\", \"consortium\", \"rescue\", \"train\", \"bubble\", \"saudi\", \"eventually\", \"door\", \"burst\", \"inch\", \"nearli\", \"injection\", \"university\", \"excuse\", \"liquidation\", \"purpose\", \"educate\", \"dog\", \"korean\", \"converted\", \"lg\", \"redemption\", \"educational\", \"delist\", \"ministry\", \"pitiful\", \"professionally\", \"ruler\", \"segregated\", \"credit\", \"rightful\", \"shall\", \"creditor\", \"buying\", \"avoid\", \"threaten\", \"collapse\", \"capital\", \"consumer\", \"almost\", \"firm\", \"straight\", \"retirement\", \"recall\", \"commitment\", \"tackle\", \"membership\", \"request\", \"transform\", \"wto\", \"overhaul\", \"faulty\", \"inadequate\", \"bilateral\", \"nmeanwhile\", \"workplace\", \"multilateral\", \"piracy\", \"propose\", \"summit\", \"pensioner\", \"ntalk\", \"counterfeit\", \"pinpoint\", \"substance\", \"dislike\", \"democracy\", \"adequately\", \"combination\", \"pension\", \"proposal\", \"facility\", \"engine\", \"joint\", \"venture\", \"carmaker\", \"motor\", \"romeo\", \"petrol\", \"cylinder\", \"alliance\", \"arese\", \"powertrain\", \"shout\", \"union\", \"boss\", \"venerable\", \"forbe\", \"sugar\", \"millennium\", \"vw\", \"mercede\", \"sweetener\", \"artificial\", \"vaunted\", \"fre\", \"lyle\", \"tate\", \"ntate\", \"sag\", \"career\", \"model\", \"plant\", \"subsidiary\", \"pull\", \"source\", \"wine\", \"beer\", \"exposure\", \"brother\", \"brewer\", \"wish\", \"brewery\", \"luxury\", \"bet\", \"interbrew\", \"litre\", \"voting\", \"changyu\", \"yantai\", \"kharkov\", \"nbrewe\", \"beermaker\", \"illva\", \"liqueur\", \"saronno\", \"brazilian\", \"employ\", \"drink\", \"vintner\", \"foster\", \"diageo\", \"chalone\", \"spirit\", \"reliance\", \"malt\", \"flavour\", \"consumption\", \"brand\", \"maker\", \"buy\", \"easy\", \"gorge\", \"dam\", \"mandatory\", \"sand\", \"environmental\", \"draw\", \"power\", \"sepa\", \"downstream\", \"chronic\", \"shutdown\", \"builder\", \"accordance\", \"defy\", \"electrical\", \"underground\", \"comply\", \"abide\", \"crunch\", \"shipping\", \"allowed\", \"crackdown\", \"documentary\", \"megawatt\", \"out\", \"typical\", \"scenic\", \"parallel\", \"ndeficit\", \"budgetary\", \"bide\", \"whereby\", \"chide\", \"managing\", \"disclosure\", \"contingent\", \"disclose\", \"criticism\", \"impetus\", \"tube\", \"reap\", \"reading\", \"wharf\", \"crossrail\", \"treasury\", \"provided\", \"allocate\", \"proximity\", \"overcrowding\", \"minute\", \"surprised\", \"buenos\", \"machine\", \"underground\", \"warrant\", \"acting\", \"pan\", \"dissent\", \"stronger\", \"revaluation\", \"cheapness\", \"curbs\", \"formulate\", \"renminbi\", \"speculating\", \"stoke\", \"suck\", \"evolve\", \"ism\", \"strike\", \"body\", \"nhowever\", \"downside\", \"traffic\", \"peg\", \"nchina\", \"insee\", \"nfrench\", \"carmaking\", \"congruent\", \"lean\", \"utilisation\", \"wiete\", \"cpi\", \"regularly\", \"noth\", \"empower\", \"august\", \"traction\", \"forecaster\", \"pencil\", \"dockland\", \"cup\", \"finalise\", \"pare\", \"recoup\", \"hustler\", \"andrei\", \"logic\", \"nationalise\", \"privatize\", \"unjustified\", \"qualitatively\", \"webs\", \"isg\", \"spokeman\", \"ndemocrat\", \"treatment\", \"regard\", \"romeo\", \"shout\", \"venture\", \"absorb\", \"afternoon\", \"allergy\", \"cancer\", \"clinical\", \"depression\", \"diabetes\", \"difficult\", \"discontinue\", \"experimental\", \"failure\", \"forward\", \"jean\", \"lift\", \"ncheap\", \"obesity\", \"paxil\", \"pull\", \"powertrain\", \"partner\", \"sweet\", \"gasoline\", \"instability\", \"mechanical\"], \"Freq\": [491.0, 269.0, 465.0, 483.0, 366.0, 1090.0, 372.0, 270.0, 400.0, 557.0, 246.0, 354.0, 250.0, 240.0, 152.0, 180.0, 358.0, 186.0, 150.0, 439.0, 190.0, 202.0, 131.0, 290.0, 481.0, 156.0, 214.0, 324.0, 289.0, 195.0, 125.66545339027498, 123.89101689015244, 87.7130286754044, 69.41623220911522, 65.19001343973142, 64.1449807322636, 61.682376530544104, 61.68786605051011, 59.92030069196118, 55.793683440142395, 54.324747043582526, 165.5377129514384, 60.271348100494315, 73.85528077657496, 79.66042965739302, 49.02346031439166, 47.33659274766623, 46.605114212196064, 47.94011186655507, 42.36669650955447, 41.3066785215734, 40.70326568126976, 38.89122042441043, 37.954612667483296, 37.26334440368331, 36.51680896517507, 36.150194054314106, 35.57237586981156, 35.458204944457975, 34.97244942918329, 49.732842145756244, 175.24457049375087, 147.05430515196142, 72.89479961484618, 57.13598197122386, 61.10474317836364, 106.6596817237298, 62.33199745136967, 57.825498948772065, 135.05302233779705, 120.59691676267306, 112.27095998191008, 95.00003373209626, 287.8643830003693, 107.08523966210456, 75.72174991067303, 189.10178237884625, 171.93830839947813, 83.21490307699736, 116.96497087526566, 161.78330640903178, 95.25835538544604, 146.22999920353075, 97.14217565378009, 99.20639226847175, 275.82985809307746, 119.95014225960765, 110.53428472519006, 118.35686915997937, 107.16180645152939, 144.1430574548384, 126.7859438932351, 127.35753784929133, 109.76501260066101, 114.88439660006925, 117.91962057723258, 269.4758768477632, 188.24770409160053, 41.06837404699395, 38.09509428152894, 33.34352068103379, 59.79331088769417, 27.660442773373045, 27.165329671501656, 26.122949765523988, 22.7140457060928, 20.904575339508437, 95.0400330541196, 19.22491077957776, 18.509990814884677, 18.485184685456744, 17.14884262934013, 16.28234292055583, 88.73230493679324, 14.545061114914628, 14.228662610011021, 13.442304202024092, 13.391709512963336, 12.25616200939753, 12.222288226445071, 10.439927522219193, 10.380997570622363, 10.13959963486471, 9.800566049998299, 9.418779491049385, 24.069941202127822, 53.746489362900626, 26.059538700656418, 64.05750207642023, 143.0110419571351, 68.40449729700231, 49.811443081223665, 25.237844526686583, 131.19465134736444, 44.375512145334376, 49.048002446791266, 164.23507225107343, 170.49360608554755, 102.85599772500733, 187.21545263985297, 58.6770387953658, 202.05367540622106, 301.7959907478399, 168.6788139887745, 64.84174448088893, 89.2133803892223, 82.0437185777581, 84.43177969118281, 92.96996957700512, 48.46440345176492, 61.8214050957329, 61.977033982358996, 65.16715372740586, 66.95732255925256, 60.85689561199733, 53.3671462842049, 55.53869955969348, 56.40279777242138, 54.80849921333308, 79.34425738646745, 65.84471510362744, 50.30780977329298, 46.072130238612914, 44.86946438526051, 44.65339868823517, 35.758401588151855, 32.92608916565191, 24.432443777214022, 23.69585824418292, 35.24797988461713, 19.544236377087994, 18.647876454184082, 16.759445093255138, 16.635271700943765, 10.999505545591564, 10.9034909463418, 189.26417425745063, 9.063896424545897, 8.429255778483936, 219.75013485533947, 7.363425401487751, 6.952357478411991, 6.720603235883844, 6.622887073281806, 6.585066816645475, 225.75712913823347, 6.322067315948004, 6.270970047352649, 6.118061476555834, 418.86310670991475, 70.27911971853922, 19.170975133180374, 93.49745928242453, 366.5859508730024, 50.30309357401955, 95.8549072006667, 62.85778422530435, 73.94851196185725, 85.1248040269816, 220.1756159178738, 106.47423224936759, 95.21160500586484, 77.92985310659691, 164.89845278682228, 49.611812986460556, 45.54738474411995, 81.63430500068011, 152.5303918815256, 113.30637920424847, 230.1971679644615, 140.36174281356136, 113.91031199709175, 66.20354568876267, 71.16789553050157, 64.90669600445202, 73.36375230603046, 57.60316738489566, 57.55880497850569, 63.33344761027114, 61.31788559686235, 66.29697929777203, 49.76927635929877, 37.69006913832199, 36.22189621888094, 34.302737242112656, 31.860988001617386, 31.463583807908766, 24.55295344957811, 23.14312752561489, 22.82537686214791, 16.051435727675855, 37.564282549728276, 14.26149681293774, 13.245364251091116, 12.440247809653783, 11.60901983665976, 11.286420918705916, 10.430814266484917, 10.503763702348644, 9.624629105549081, 9.612276065250505, 9.609259053142427, 9.543167234060766, 9.292373543555188, 9.27008989382131, 9.182378557836985, 9.853996666489818, 9.086225186004558, 9.034724780837783, 7.922689063231795, 123.21543268936823, 81.63684970868313, 15.694485111555828, 77.29950421179134, 147.93911492702236, 160.62959916630035, 152.65718241516518, 85.61962461081426, 23.39146570584414, 18.2574271431814, 70.08836859066321, 36.98280753801391, 89.90549514824161, 103.59756973047588, 29.96016010881867, 94.52191553741565, 23.90769624036495, 154.07963110387183, 33.996825615756876, 37.24127141139644, 41.287938775736514, 37.888800073638954, 163.66867100193068, 46.75405562866681, 43.922831075313724, 65.30996425311916, 71.38875933435982, 42.06928808299324, 123.92867233334731, 126.48514437105655, 112.71589806274937, 87.00331440570852, 47.21316056142237, 68.94522550194006, 57.652782433679086, 59.21851417591209, 58.786622573624776, 61.14798375127071, 50.85215723934757, 48.32285442622251, 47.81473767798955, 179.27015822164316, 53.15524419747239, 87.67289079670998, 30.946467931491483, 29.502604900620174, 28.900598373321603, 22.151688409706395, 19.569482259248904, 19.25750337749413, 18.924885074488447, 18.357317425127732, 16.917458567483038, 25.068762969467812, 16.244454164230937, 15.979994957652453, 15.921141081693667, 177.8787976710641, 14.014588364014687, 13.987365962451662, 24.563407920473878, 12.606302711080739, 12.12301991995127, 11.627684268590798, 10.971914992299743, 10.555380872401235, 9.906726474059859, 9.846616064637049, 30.776422049675297, 31.95135404916691, 7.969585159937421, 59.58583284823321, 59.26056847829521, 111.98446162083613, 24.889731603403547, 22.705658305135987, 245.4073384134983, 35.781321834911274, 27.913336594221228, 101.99078631807375, 75.78212188846923, 149.11963028193327, 184.91199048691848, 28.244944889353334, 100.18827487003479, 53.81106800821224, 73.92260177116361, 56.55052013301114, 60.89507796577694, 67.83242163206653, 63.481618484342796, 99.66755305923648, 58.23976726613848, 71.98893870900817, 59.388474919184745, 72.12524793729564, 61.39181657186122, 55.05680813365747, 91.44929230688697, 51.35004935573381, 58.491235321147784, 47.13421672763672, 123.93791346518283, 102.07210255138845, 90.0917611599786, 64.83709917246816, 59.08705164584829, 49.114957735057395, 48.78873688209022, 44.37278066849797, 42.710145308493466, 42.17887696070556, 40.92953382915736, 53.02489325340849, 39.82692488396543, 38.01795677186368, 35.504013159872585, 33.80526010476115, 32.498936084842306, 32.1145613582937, 26.478859960365263, 25.933253861311513, 22.88261684493262, 21.487998640912913, 21.29735153249064, 20.80732984305537, 19.742152507229545, 18.236238790181908, 18.080277309970864, 17.062091982389347, 16.903105509978154, 16.884149841207705, 48.56613731487991, 45.66380178669841, 22.968895316583872, 62.29237039279685, 121.22038004873004, 85.53550509638052, 59.42008264596159, 39.61498467750558, 81.35591394391643, 51.10926605161805, 108.47236538968336, 85.88040830117582, 72.66163937360164, 142.43760985840032, 63.745431446123455, 47.311894407730335, 56.15416725525963, 76.52192800820102, 76.14362888951605, 56.492453912409616, 50.97355280155051, 55.84835406731897, 50.34201414760063, 50.62398043232391, 58.907391309096965, 50.400800066611176, 48.11151550187241, 34.72376077470553, 32.138571563250615, 27.15123427500521, 26.030301626499718, 22.376152114230788, 21.463768923156593, 20.7220994245175, 20.619121587348598, 20.368636514224907, 19.612391628008766, 19.10164691708572, 18.699630990362547, 17.865602360824802, 80.92255926511851, 17.15261880165995, 16.50305928199511, 16.397602940981308, 15.665213421854524, 15.516387911911705, 14.122000799998938, 12.671687448101972, 12.29521889034277, 12.310702566838222, 11.869214653525805, 63.35325060399421, 11.568761604162098, 11.317980895546029, 24.632107510369064, 44.7554576737136, 51.37410789021455, 81.63491808512966, 21.16840303547305, 113.57799463618159, 146.13870021437882, 20.829534106184695, 172.7321056427787, 22.599327161492553, 35.858599447409105, 68.15521142311967, 33.233910359224154, 47.092922935983076, 45.06390775611327, 124.98787354563186, 66.95194150097286, 34.643619384815786, 29.42127419224262, 35.142964465526454, 30.587959687043345, 30.765960143595603, 24.179141874450053, 30.69505782767834, 36.866140080174574, 36.077975857495225, 36.13380820067209, 27.67166244281067, 26.95303949717801, 38.87147893018642, 27.21656596476883, 26.433820455628865, 25.535502713083503, 25.198628512932505, 24.901623215037958, 21.667783736396302, 21.655166995175907, 20.11607885100874, 19.098173146566694, 18.48780116076299, 13.289351951118743, 12.965747678905037, 13.403697116320876, 11.950907482101224, 11.762754380759771, 11.29469130539909, 10.85474914382707, 9.882476389987591, 9.641029452774543, 9.552975413405793, 9.309801064080512, 8.673972820233898, 8.642246402282769, 8.579433054921223, 8.420819710038245, 8.25924539623, 8.123799272054235, 8.11170882918189, 7.280445821918051, 39.094254532306564, 31.90031269297876, 28.246210285242334, 34.95626332997924, 18.037102326104783, 33.92005830407112, 39.535240639094994, 15.786888505531037, 43.34738251022802, 70.05392067642386, 72.30261904613786, 70.02717030121005, 54.19425303988044, 41.41388061637844, 46.5659521272098, 21.23765667853711, 41.109697474164456, 17.695893734627095, 24.864064257859802, 29.364947543604508, 21.323084272862094, 23.911673325313746, 22.737742510330502, 22.57912051396783, 21.710917130323953, 36.665462989088695, 24.34767166403474, 22.89710505230253, 21.92806523028732, 20.73228559721474, 20.630096403349874, 20.227725216905373, 17.65795859317912, 16.872216807294087, 16.864000550963997, 29.13467888164779, 12.233718027454916, 10.758497704326077, 9.729306819967427, 9.678468239684356, 9.660250529847545, 9.384192422702927, 14.870183413468128, 8.454127428748249, 8.11732171081274, 7.4902415480835085, 6.818021399602361, 6.804109019944293, 6.58430488772957, 6.437239138371687, 6.35447063605125, 14.837350019548458, 5.869281028982091, 5.790146183816298, 5.6088735458117664, 10.932702701238195, 25.702331868864793, 29.542184239817328, 20.533316179003567, 20.517719921499214, 12.86941428718863, 11.219172481617274, 26.8881990117451, 66.46885735886893, 12.179722237990143, 22.0115998055933, 22.469628418520248, 23.566880192358212, 33.88134222463905, 42.4129715274923, 14.999524210903125, 24.38465272537032, 27.482430459094953, 26.519934383098175, 20.879972607051865, 17.84390378215482, 59.35660970933479, 40.54455443401651, 31.927414888866057, 28.628627662718404, 27.172225440867003, 24.9240763658118, 23.266035975580323, 20.38825830714326, 18.2453899123013, 18.028893979867238, 17.25433308323681, 16.238875683489074, 15.520941808817188, 15.344755144237672, 28.705315170580025, 11.120836967560498, 10.91408326860496, 10.750753606619545, 10.71679167797223, 8.667248555621459, 7.928666117732826, 7.510514856933982, 7.507030916255572, 7.147817246166578, 6.7805258611154064, 45.07400381944278, 5.585471133882268, 5.469176062405506, 5.130696291673409, 5.086404979800647, 15.845329521839819, 19.63614452563997, 28.779863709537388, 21.41010293146808, 18.508842983421157, 38.72384851958603, 34.07239071534309, 24.384494096492432, 14.62450420784729, 23.948114757886938, 20.723453100262844, 30.876366753274176, 37.79192592538043, 28.257793900284152, 30.49481588471683, 21.905302987374085, 22.294650981954522, 24.434553018359434, 21.012345616815633, 20.120061659711, 56.82767111302391, 31.480341921566048, 23.51653347113137, 21.395514581653238, 17.494796155078, 12.176374810722976, 10.321329009920689, 10.13909026627093, 22.265309320511847, 7.535145069910958, 7.355879125313154, 7.155332363852607, 6.517594743242245, 24.338923024971894, 3.5273369364068077, 2.8444795394956697, 16.720417861495516, 2.5648808693003478, 2.257929518463383, 2.2045532296750388, 2.167696784208281, 1.846827168017215, 1.6636838570718313, 7.833271965254251, 48.63698445726636, 5.074291712389674, 1.343124980706915, 1.343124980706915, 1.343124980706915, 1.3402002888771314, 15.4036486939262, 18.377108367892372, 11.71096761371459, 6.123424114749479, 6.799094974502911, 11.499719078704626, 36.662945845149885, 5.092537102425668, 4.659606952212701, 11.023591420826925, 11.788337158595803, 10.886819431552814, 21.357976301541537, 7.685545166018044, 9.579387863180328, 13.969978723949934, 12.907552061201825, 17.300839956789208, 13.195529721589455, 8.92985399814974, 8.109319034543466, 8.733797749154522, 25.410163434688478, 21.866984209514754, 11.333174475580824, 5.911556714183512, 5.48608143333832, 18.490344961409072, 9.836349167508084, 2.6143110564202656, 2.189913120711117, 10.861985825617754, 1.6794974552964932, 1.5728395713238355, 1.4919816502016126, 1.4886773488531424, 1.4879811631110558, 1.2980339719866623, 1.25555795345216, 0.9930284668459117, 0.9640500291994233, 0.9640500291994233, 0.9596288255453036, 3.4680095637119206, 1.4923075113300477, 3.3257744520270545, 7.707617393594841, 0.6788877597914001, 0.6384973853582636, 0.6356852999018824, 1.4004377736806681, 0.5382200115141325, 18.338908259227345, 2.6034331414233005, 5.025554207195921, 2.6680260130087072, 21.3590807821223, 2.0659791795412437, 8.118210592615805, 4.088871913114166, 3.8362048363885077, 1.9820030904190074, 2.5855228407185757, 3.654318721811451, 3.197341623872569, 2.4999438174005677, 1.9052744471721053, 2.5729191292057703, 1.8181775324622333, 13.364858316840271, 12.78761558901854, 10.418113671605836, 9.97780038296933, 9.367633915576176, 3.8882435370906836, 1.805678240793107, 1.5302494736645547, 1.3450369262738708, 0.9735997819625407, 3.6302042569186894, 0.5652831037749249, 2.1645250399472507, 11.616661430912904, 0.8722995782027839, 0.25853654040258733, 0.25853654040258733, 0.25853654040258733, 0.25853654040258733, 0.25853654040258733, 0.25853654040258733, 4.162519859456295, 35.46422238457101, 0.593145700941282, 1.0040113741554557, 3.2939880956143366, 0.03211495708230972, 0.032113884392776175, 0.03211350564694561, 0.03211350564694561, 0.03211350564694561, 2.0337038508346015, 0.03211350564694561, 16.573131787724552, 0.8049297136715191, 0.1280463598943417, 30.7672973497217, 24.725954867083885, 11.000787591852479, 4.758713409074149, 4.169793099151254, 3.9502402963808754, 3.6947187585899517, 3.668307794817115, 3.3679956881065736, 2.8779831503530096, 2.345407008925371, 1.8226916813193066, 1.7101343327364575, 1.6399190275098867, 1.2729637684620814, 1.1976028263017213, 1.1495557264986247, 1.1427475756051069, 0.970372025207004, 0.9538330750080698, 2.8622742803483687, 0.7964422251216784, 0.6950306590459969, 0.5516423400867119, 0.5479631402892827, 1.188121180906794, 1.0883168604478302, 0.2519853580191491, 0.2519853580191491, 0.2519853580191491, 0.2519853580191491, 9.224804234144926, 0.2519853580191491, 0.2519853580191491, 7.415903992768627, 4.263059767082712, 2.2774636302689073, 1.8904706346263727, 1.6870889756958616, 1.821064146296197, 1.5165477499508115, 1.4244598153730796, 1.553146917406757, 7.7021566547451625, 5.7698048986168695, 4.777970340335181, 4.468211367141322, 3.9046965078116065, 2.827052084426345, 2.7172361914515966, 1.8383290812619093, 1.5830715483258566, 1.432197475082064, 1.3016673700343768, 1.239687038500627, 1.0397783812395471, 0.8261919849600659, 0.5411803157030652, 0.45214034211406046, 0.45025912307817506, 3.280523316198921, 1.1280811517082852, 0.516348662380498, 0.1738685216180325, 0.1738684887716985, 0.17386837928391852, 0.17386837928391852, 0.17386810556446852, 0.17386703258422456, 0.31786135358176587, 0.7000598726494681, 2.095575262643579, 1.7829452570875617, 12.451709382993073, 12.332443876700617, 7.252715249784056, 6.957558644495641, 6.685662764849417, 2.015174335063853, 1.2892905376740653, 1.039106778373593, 0.5991177996862143, 1.1980212800150714, 0.45442418928052847, 0.30971351222733806, 0.1648790698189712, 1.699244103518346, 0.8775219038509504, 0.020472299962249276, 0.020472299962249276, 0.020472299962249276, 0.020470083549327427, 0.020470138490639275, 0.020470233632911013, 0.020470693263885738, 0.020470598121614, 0.020470598121614, 0.020470598121614, 0.020470598121614, 0.020470598121614, 0.020470598121614, 0.020470598121614, 0.020470598121614, 0.5991429708472324, 0.4525502456559058, 0.4138722053306202, 0.022475748299088525, 0.02085518998461053, 14.392908323058736, 4.981147418523875, 4.030725245457126, 3.683640059302397, 3.296208494573445, 2.384256801249295, 1.4343325092612178, 4.735469158116283, 1.3126224562710374, 0.9884961651480226, 0.7949924164405973, 0.7687809717458741, 0.44588977466500035, 0.30388003183747914, 0.1617171334891892, 0.1617171334891892, 0.1617171334891892, 0.161712178398512, 0.161712178398512, 0.16171213819493654, 0.4147779563593099, 0.93865128983228, 0.02009019403099192, 0.02008880952036153, 0.02008825923392223, 0.020087810712783344, 0.020087575773139167, 0.020087554414989696, 0.02008791499080723, 0.020087306911728185, 0.020087306911728185, 0.5500679328695695, 0.8828582151179875, 0.5102819921374563, 0.02009452973533446, 0.020087979065255644, 1.0414846904937274, 0.9250071194972523, 0.31483955489456006, 0.2741859640181929, 0.7509633905183052, 0.265236274998051, 0.38004097206945225, 0.007106971058584175, 0.007106406566422588, 0.007106406566422588, 0.007106299846511442, 0.007106299846511442, 0.007106299846511442, 0.007106299846511442, 0.007106299846511442, 0.007106299846511442, 0.007106299846511442, 0.007106299846511442, 0.0071057451838153545, 0.007105735354349854, 0.007105735354349854, 0.007105735354349854, 0.007105735354349854, 0.007105735354349854, 0.007105735354349854, 0.007105735354349854, 0.007105735354349854, 0.007105735354349854, 0.007105635655485494, 0.007105635655485494, 0.0071056468891603514, 0.0071056468891603514, 0.0071056468891603514, 0.0071056468891603514, 0.007105664441777316, 0.0071056468891603514, 0.007105664441777316, 0.0071056602291492445, 0.5591464408068636, 0.34713003893666616, 0.3352770712606291, 0.3039395933061273, 0.19493144660521672, 0.13845203632124808, 0.050148928304729536, 0.050148928304729536, 0.050148928304729536, 0.050148928304729536, 0.05014890899707735, 0.47768761070186466, 0.006238001945460346, 0.006237991688270123, 0.006237991688270123, 0.006237991688270123, 0.006237921094666823, 0.006237921094666823, 0.006237921094666823, 0.006237921094666823, 0.006237921094666823, 0.006237923508123347, 0.006237923508123347, 0.006237923508123347, 0.006237923508123347, 0.006237923508123347, 0.006237923508123347, 0.006237923508123347, 0.006237923508123347, 0.006237921094666823, 0.0062379416090472695, 0.006238064091965815, 0.006237931955221178, 0.006237921094666823, 0.006237921094666823, 0.0062379192845744315, 0.006237923508123347, 0.006237923508123347, 0.0009251854115735571, 0.0009251854115735571, 0.0009251854115735571, 0.0009251854115735571, 0.0009251854115735571, 0.0009251854115735571, 0.0009251854115735571, 0.0009251854115735571, 0.0009251854115735571, 0.0009251854115735571, 0.0009251854115735571, 0.0009251854115735571, 0.0009251854115735571, 0.0009251854115735571, 0.0009251854115735571, 0.0009251854115735571, 0.0009251854115735571, 0.0009251854115735571, 0.0009251854115735571, 0.0009251854115735571, 0.0009251854115735571, 0.0009251854115735571, 0.0009251854115735571, 0.0009251854115735571, 0.0009251854115735571, 0.0009251854115735571, 0.0009251854115735571, 0.0009251854115735571, 0.0009251854115735571, 0.0009251854115735571, 0.0009251854115735571, 0.0009251854115735571, 0.0009251854115735571, 0.0009251854115735571, 0.0009251854115735571, 0.0009251854115735571, 0.0009251854115735571, 0.0009251854115735571, 0.0009251854115735571, 0.0009251854115735571, 0.0009251854115735571, 0.0009251854115735571, 0.0009251854115735571, 0.0009251854115735571, 0.0009251854115735571, 0.0009251854115735571, 0.0009251854115735571, 0.0009251854115735571, 0.0009251854115735571, 0.0009251854115735571, 0.0009251854115735571, 0.0009251854115735571, 0.0009251854115735571, 0.0009251854115735571, 0.0009251854115735571, 0.0009251854115735571, 0.0009251854115735571, 0.0009251854115735571, 0.0009251854115735571, 0.0009251854115735571], \"Total\": [491.0, 269.0, 465.0, 483.0, 366.0, 1090.0, 372.0, 270.0, 400.0, 557.0, 246.0, 354.0, 250.0, 240.0, 152.0, 180.0, 358.0, 186.0, 150.0, 439.0, 190.0, 202.0, 131.0, 290.0, 481.0, 156.0, 214.0, 324.0, 289.0, 195.0, 126.36833950909717, 124.59667282158146, 88.41593357326117, 70.11911836787972, 65.89720469845457, 64.84786689779816, 62.38526269697415, 62.398426455630435, 60.62318693944323, 56.496584312097106, 55.027633490113814, 167.80437838456166, 61.10133269054126, 74.87854677852275, 80.80231613572361, 49.72635960649966, 48.039478924066785, 47.308009610258566, 48.68956724012291, 43.06958273775943, 42.009564785338355, 41.41268575722703, 39.594106905377615, 38.657536915952576, 37.96623053506599, 37.219695120776244, 36.853080313518326, 36.275262612698626, 36.1611025511491, 35.679686513347384, 51.013985217045835, 188.21975220843356, 159.32528484123202, 78.57737714297771, 60.32759684911742, 64.93510196622627, 119.45980806897389, 66.44577715415683, 61.20456758899525, 165.0367874776449, 152.9428425365012, 141.07528733759747, 114.73359544053169, 469.6137722545167, 135.94586165207053, 89.78790152293281, 314.87691125253497, 298.82475606960213, 104.09838570936499, 174.97319037617677, 300.3773920953773, 138.68502734443578, 300.40887838275574, 145.61106678322588, 152.2542243794495, 1090.177719931421, 223.9395838860868, 193.3549394944973, 223.43594128461416, 184.07890539927362, 366.8333214888359, 288.1891239054131, 324.7122514980511, 235.8132720830663, 290.4810514751776, 337.30931911917656, 270.1820153604624, 190.11441645267334, 41.77710443471777, 38.80121823482519, 34.0496425963584, 61.31441888981288, 28.366565828639683, 27.88507179773693, 26.82907165642307, 23.420167620490368, 21.61071096801102, 98.26643719611175, 19.931032740133, 19.21611270578376, 19.191306647268856, 17.85496815454829, 16.98846482914359, 92.71824432690289, 15.26131889706621, 14.93478519571978, 14.148426109609618, 14.097831476924467, 12.962283906923098, 12.92841192778362, 11.146056576582232, 11.087119482338357, 10.845721544495214, 10.50668811964394, 10.12490143644236, 25.99496557977221, 61.900598658467, 29.662148237170605, 78.87636476957077, 197.2325697967805, 90.53153772868555, 64.64320590997046, 29.871110516761405, 208.0338185549715, 58.82950262873641, 69.68697308489395, 324.7122514980511, 358.74001044078267, 195.4558852767824, 439.3435111202486, 95.7433836715394, 557.0590331986855, 1090.177719931421, 465.66556315336834, 122.92751437748218, 206.54297703618695, 192.9908929862364, 221.63498079983862, 337.30931911917656, 89.9716819565217, 167.19986577667078, 173.28285226300176, 241.90174595363558, 298.0678422279439, 251.7478313871406, 161.03576328949814, 289.4067018193318, 491.12911018853157, 481.8600461656939, 80.06343774724454, 66.56389332968475, 51.02779295863255, 46.79131641733794, 45.58867319580761, 45.37257678706589, 36.477579847149464, 33.645267242394475, 25.151621877290655, 24.415036401604393, 36.535508663894696, 20.263414465503153, 19.367112086392815, 17.478623169997686, 17.354449794868298, 11.718683644654654, 11.622669298367155, 202.91269953092902, 9.783074521105497, 9.1747609542834, 240.2901610180516, 8.082603517248518, 7.671535555154542, 7.439782385125439, 7.342065410451769, 7.304244893388026, 250.56486184365252, 7.041807098047437, 6.990148683646175, 6.837274859670706, 483.56124028464876, 80.41900049149754, 21.824402370368876, 110.78959173946632, 491.12911018853157, 61.282017288503575, 122.58765925781688, 78.99637648613984, 96.37157604964958, 116.85052775866258, 354.40453474047894, 158.12395526683977, 156.14877341989447, 122.32094335664843, 323.64226885773235, 70.24441084143338, 64.13665482748203, 148.84267115009888, 400.9006461184301, 298.0678422279439, 1090.177719931421, 481.8600461656939, 439.3435111202486, 140.1335082160014, 176.41926479125212, 140.04040291852994, 235.8132720830663, 126.96367260076593, 130.28221953913604, 307.90027311681683, 244.11203913164175, 66.98988352168188, 50.46098779291475, 38.3817796621154, 36.91360643721423, 34.994447264271436, 32.55269799040279, 32.155293890204625, 25.246957564356276, 23.834856463642677, 23.517086815583887, 16.743145864563637, 39.200758957682744, 14.953206769208444, 13.937074212837578, 13.13195793387106, 12.30072979248022, 11.980137756378411, 11.122524233432713, 11.22321017532374, 10.316339053662817, 10.303986082276875, 10.301225110578086, 10.234877223055907, 9.984083562576615, 9.961800837915542, 9.874088550849795, 10.602360821150661, 9.777941976050158, 9.72736233063762, 8.614418675836676, 140.64971947961362, 93.30257238730728, 17.212701894507564, 91.10733303705315, 186.79554817054105, 214.52004740806115, 204.3214875579538, 114.83466327133962, 27.529804154235357, 21.47292909782124, 102.10550503887156, 48.65242791663046, 139.02796764802198, 169.21684942814647, 38.76858155653039, 161.5779853187659, 30.24568407598629, 358.74001044078267, 48.387146036332005, 55.22905557803293, 63.83257117139892, 57.53290632311836, 481.8600461656939, 78.53206689730392, 72.0414186824029, 136.2141674985954, 160.18968142778243, 68.14709078142663, 465.66556315336834, 557.0590331986855, 469.6137722545167, 300.3773920953773, 91.99859302528371, 314.87691125253497, 180.13809877979978, 201.1677858544804, 200.39907688210124, 439.3435111202486, 300.40887838275574, 251.7478313871406, 289.4067018193318, 180.12427331691478, 53.872187291800856, 88.88938195913138, 31.663411021815595, 30.219547981411097, 29.61754154969151, 22.868631475055338, 20.286425439455257, 19.974446776067037, 19.645561696930717, 19.074260498817644, 17.634752841080587, 26.163954722981888, 16.961397654611453, 16.69693802022107, 16.638084144262283, 186.51146978915233, 14.731531435975482, 14.706290936127628, 25.899728576005963, 13.323246031120497, 12.839963011463215, 12.34471486664583, 11.707155415419082, 11.317547409570095, 10.623707967355006, 10.56355915052538, 33.10990409275523, 34.68610101108692, 8.686528248405585, 67.63006952591931, 67.83809019562935, 136.39303329123345, 28.369411930112474, 25.92057786165015, 372.8457525528709, 43.60492755985824, 34.43132704039279, 171.99355608830868, 119.72204457566173, 290.4810514751776, 400.9006461184301, 37.1793992026096, 246.99626402600157, 107.36965449241865, 186.21355995998562, 121.71235333566817, 138.29631519010763, 167.89025739322926, 153.06321988373978, 354.40453474047894, 136.57377677386148, 244.11203913164175, 167.19986577667078, 269.22358163226113, 223.9395838860868, 176.41926479125212, 1090.177719931421, 174.70567788831286, 337.30931911917656, 156.14877341989447, 124.65793652387791, 102.7921276207066, 90.81179498883363, 65.55712213905564, 59.807074616059076, 49.834984846399664, 49.50875988384811, 45.09280373066863, 43.43020569646129, 42.898899916896134, 41.64956153268709, 53.97130123842803, 40.5469478356435, 38.73797972354175, 36.22403612566532, 34.52983144209409, 33.21895904016483, 32.8345843866844, 27.198892637997222, 26.65327859907463, 23.602639804746484, 22.208021606115043, 22.017374601493895, 21.527352815976823, 20.462175555064068, 18.956261875659507, 18.800300300228184, 17.782115054037714, 17.623128531640788, 17.60417298635689, 50.787633191729576, 49.651908606389554, 24.382427535129924, 72.51842366207623, 158.7475769011637, 110.27843408559868, 82.17271679603618, 51.92117161150495, 142.88847060086502, 76.12268499804068, 269.22358163226113, 191.7596519953815, 150.5341967560322, 557.0590331986855, 143.39842774025254, 87.14944856906463, 140.33254873098946, 439.3435111202486, 465.66556315336834, 167.89025739322926, 158.12395526683977, 288.1891239054131, 150.55018916054294, 169.21684942814647, 1090.177719931421, 214.52004740806115, 48.827007277635836, 35.439252632414124, 32.85406331793693, 27.866726025745702, 26.745793403735952, 23.09164386497128, 22.179260692311214, 21.437591175257992, 21.334613347607835, 21.08412835096014, 20.32788337874926, 19.817138670606536, 19.415124018303306, 18.58109560574035, 84.17363480855273, 17.868110631166378, 17.218551157124587, 17.113094768280238, 16.380705645757093, 16.231914444202932, 14.837492561180262, 13.387179209512157, 13.010710666405355, 13.027771966225782, 12.584706418884029, 67.23062427133216, 12.284254997822895, 12.033472652849134, 26.19708893591181, 47.62432682638736, 54.79605303517709, 92.90948375973336, 23.333383432126215, 156.33864567760264, 246.99626402600157, 24.95332787137413, 366.8333214888359, 28.310445492714024, 57.697877915172484, 160.8682896440607, 56.60703769141584, 112.3775929239901, 112.41053161270804, 1090.177719931421, 298.82475606960213, 79.138108693922, 54.74678418464631, 88.13078170968626, 70.54603008881705, 86.40212063789888, 37.85442761216194, 92.54616744735957, 251.7478313871406, 244.11203913164175, 314.87691125253497, 77.49686875375991, 85.86555366800128, 39.5692519699154, 27.91433686580631, 27.13159435941577, 26.233278473660143, 25.896399393982232, 25.59939401567874, 22.365554546254682, 22.35293777527349, 20.813849659197714, 19.7959439294446, 19.18557198094965, 13.98712273483963, 13.66351846539105, 14.142808895793188, 12.648678785691116, 12.460525168350134, 11.99246329996432, 11.552519934794573, 10.580247176711655, 10.338800243130136, 10.250752732815785, 10.00757205795324, 9.3717436090185, 9.340017186326152, 9.27720387950398, 9.118590490135825, 8.957016207419047, 8.821570052151815, 8.809479626830313, 7.978217918980595, 43.521316116628064, 37.50299525520143, 36.32854919844025, 48.08764706651365, 22.449212634162425, 47.68992221813211, 58.94994105299952, 19.444436209761268, 76.29671039800387, 155.43263152034865, 167.04693977169424, 174.70567788831286, 150.55018916054294, 104.13737718504669, 131.77099802790804, 35.00997747937326, 139.02796764802198, 25.97801076180747, 65.86487568739098, 148.84267115009888, 51.639621152266066, 102.10550503887156, 123.24336443486388, 158.7475769011637, 167.89025739322926, 37.37293201121785, 25.05514066665094, 23.604574061210513, 22.63553424197563, 21.439754611683373, 21.337565408863078, 20.935194355893294, 18.365427588251492, 17.579685803960814, 17.571469546749743, 30.65419764790274, 12.941187030960316, 11.465966719088064, 10.43677581212164, 10.385937238465056, 10.367719597189978, 10.09166141485714, 16.06716442314953, 9.161596420902463, 8.824790738324209, 8.19771055983782, 7.525490430390337, 7.511578041816879, 7.291773892142745, 7.1447081305259035, 7.061939628205466, 16.50259522697671, 6.576750047290285, 6.497615184624802, 6.316342548729309, 12.355687304121924, 30.27718059618685, 35.063716636504665, 24.266823551074967, 24.93599861050347, 15.255658487920241, 13.80132732098102, 40.287951201959835, 131.90926646768798, 15.711241718834192, 37.53428267229442, 42.17989367077304, 47.79678059041233, 112.41053161270804, 289.4067018193318, 27.428958756493742, 96.50560420398632, 160.18968142778243, 300.40887838275574, 141.07528733759747, 138.5936547654133, 60.071255351054155, 41.25855490809994, 32.64141534611861, 29.342628148311192, 27.886226052931715, 25.63807683458647, 23.980036447035058, 21.1022587630272, 18.959390427829412, 18.742894576406744, 17.96833358257823, 16.952876143885522, 16.234942269213636, 16.05875560952842, 30.199484304834975, 11.834861218181844, 11.628083744857637, 11.464754065421637, 11.430792140482653, 9.381249018645418, 8.642666582785168, 8.224515312817921, 8.221031378702126, 7.861817739668214, 7.4945263311315475, 50.70917735202654, 6.299471602691512, 6.183176534329261, 5.844696753189822, 5.800405490931644, 20.170946495936764, 26.815632638336268, 42.3252645826231, 30.228822171471638, 26.148241904491368, 66.0103450315339, 58.374447164725645, 42.25776181249901, 20.99074236200456, 44.27627622258077, 36.694466418830075, 103.12926487361032, 160.8682896440607, 115.20109908633985, 145.61106678322588, 65.97874941330132, 132.70359810319067, 465.66556315336834, 195.4558852767824, 557.0590331986855, 57.53803115406799, 32.19069855613513, 24.226890102055982, 22.10640593651836, 18.20515278600261, 12.886731447280058, 11.03168564647777, 10.849446897195538, 24.359206823882385, 8.245501700835566, 8.06623578728801, 7.865688994777215, 7.227951374166853, 28.78093546058826, 4.237693567331416, 3.5548361704202796, 20.916895895929308, 3.2752375179208415, 2.9682861493879926, 2.9149099637078284, 2.8780534151328903, 2.557183798941825, 2.374040487996441, 11.181106023155662, 70.20386885102192, 7.721532053625049, 2.053481611631524, 2.053481611631524, 2.053481611631524, 2.050556923446202, 26.346043683361394, 33.83502479399449, 21.31747916695945, 10.646678451651194, 12.39822934981767, 25.575463460165288, 150.5341967560322, 9.53907517227136, 8.426131470505883, 32.06762800765489, 36.02587016206047, 35.10926084807669, 127.13631615800514, 21.207732022981027, 42.25776181249901, 195.4558852767824, 155.43263152034865, 557.0590331986855, 465.66556315336834, 63.0155001714302, 39.64711448945876, 206.54297703618695, 26.142720724460546, 22.599541525739617, 12.065731771559939, 6.644114002916012, 6.218646775184366, 21.540603713315907, 12.448394312831125, 3.3468683479179973, 2.922470405582364, 15.35765488219891, 2.4120547480593446, 2.3053969021740404, 2.2245389483258293, 2.2212346440732036, 2.223098723991237, 2.030591285068268, 1.9881152383234062, 1.7255857517171578, 1.6966073140706694, 1.6966073140706694, 1.6921861335899, 6.268990656319287, 2.718245128982699, 6.499133695703041, 15.399194233303085, 1.4114450446626463, 1.3710546702295099, 1.3682426072765348, 3.1718286296832034, 1.2707772963853785, 44.07884890800513, 9.464823397401181, 28.310445492714024, 11.181106023155662, 465.66556315336834, 7.813526998188202, 152.9428425365012, 47.313375141861535, 69.44386094946731, 9.257421394441486, 24.169059840829306, 89.59795083007573, 77.49686875375991, 70.85318176378354, 13.80132732098102, 195.4558852767824, 150.55018916054294, 14.09589436486533, 13.518650473152986, 11.149148552198472, 10.739650574524298, 10.098684498377294, 4.619278398314404, 2.5367130981555737, 2.2612843498885242, 2.076071791066999, 1.7046346474608223, 6.570833334288813, 1.2963179611373912, 6.131167369092344, 37.48023473184107, 2.846254726376438, 0.9895713977650538, 0.9895713977650538, 0.9895713977650538, 0.9895713977650538, 0.9895713977650538, 0.9895713977650538, 30.82395234568711, 269.22358163226113, 8.210708230469615, 15.997685550351921, 74.58778695329636, 0.7631515904302684, 0.7631529129763897, 0.763149254580648, 0.763149254580648, 0.763149254580648, 52.42844531983705, 0.763149254580648, 491.12911018853157, 132.70359810319067, 298.0678422279439, 31.499107391529936, 25.4577648778408, 11.732597641349843, 5.490523464349219, 4.901603118745383, 4.682050314610632, 4.426528769786377, 4.400117802152286, 4.099805707251707, 3.609793178425714, 3.077217022887028, 2.5545016960851394, 2.4419443878623457, 2.371729036213656, 2.004773805923907, 1.9294128336368928, 1.881365733833796, 1.8745576102166421, 1.7021820680794786, 1.6856430823432411, 5.428440313860507, 1.5282522324568497, 1.4268406663811681, 1.283452347421883, 1.279773152136962, 4.132190758996664, 3.787233392441228, 0.9837953653543206, 0.9837953653543206, 0.9837953653543206, 0.9837953653543206, 37.39204904237204, 0.9837953653543206, 0.9837953653543206, 36.32854919844025, 23.78481454242664, 13.852667217314874, 13.515264733107355, 26.346043683361394, 64.13665482748203, 116.85052775866258, 66.44577715415683, 465.66556315336834, 8.443669851095036, 6.511317866832469, 5.519483305632627, 5.209724342926508, 4.6567294458657, 3.568565049723792, 3.458749167176824, 2.5798420772309316, 2.32458452176734, 2.1737104499241493, 2.0431803353318236, 1.9812000074425349, 1.7812913465369937, 1.5677049643685597, 1.2826933235882028, 1.193653307411507, 1.1917720915698373, 10.295503598088215, 4.517240225805349, 2.108509972352211, 0.915381486915479, 0.915381454069145, 0.915381344581365, 0.915381344581365, 0.915381070861915, 0.915379997881671, 1.80630297265133, 6.65977761434716, 20.61878860005154, 58.94994105299952, 13.194386393558775, 13.078839157640614, 7.99539226015266, 7.700235644361412, 7.428339891134884, 2.757851340562098, 2.0319675375398365, 1.781783905399318, 1.341794799551985, 3.125804901254597, 1.1971011891462993, 1.0523905120931087, 0.9075560696847421, 15.255658487920241, 21.207732022981027, 0.7632038966470811, 0.7632038966470811, 0.7632057092059927, 0.7631506846750382, 0.7631554143630145, 0.7631595153010042, 0.7631783365777766, 0.7631748805147145, 0.7631748805147145, 0.7631748805147145, 0.7631748805147145, 0.7631748805147145, 0.7631748805147145, 0.7631748805147145, 0.7631791978485538, 30.743364969189876, 30.24568407598629, 37.50299525520143, 11.980137756378411, 18.88821103431544, 15.135968537091237, 5.724207629638224, 4.773785470577712, 4.426700270416746, 4.039268705687794, 3.127317043628966, 2.1773927203755674, 7.362274804541838, 2.0556826701657105, 1.7315563762623718, 1.5380526275549462, 1.511841211397248, 1.1889499857793493, 1.0469402429518282, 0.9047773446035384, 0.9047773446035384, 0.9047773446035384, 0.9047723895128612, 0.9047723895128612, 0.9047723493092857, 6.719134920413594, 22.617202306486202, 0.763171560696435, 0.763154376434892, 0.7631655431060161, 0.7631529890595535, 0.7631506841217192, 0.7631524904175603, 0.7631667730360759, 0.7631489475370127, 0.7631489475370127, 25.899728576005963, 51.68006027692614, 63.83257117139892, 169.21684942814647, 10.077713378777604, 1.797524955261797, 1.6810473842653217, 1.0708798269174657, 1.0302262287862622, 9.659249854900922, 12.90721507378917, 23.75609622720903, 0.7631497604516151, 0.7631484965533494, 0.7631484965533494, 0.7631478242671711, 0.7631485129064156, 0.7631493368375999, 0.7631495606423587, 0.7631495941388745, 0.7631525567042635, 0.7631546785183434, 0.7631787402378641, 0.7631463215163585, 0.7631465593487923, 0.7631465593487923, 0.7631465593487923, 0.7631465593487923, 0.7631465593487923, 0.7631465593487923, 0.7631465593487923, 0.7631465593487923, 0.7631479675201506, 0.7631465820219496, 0.7631465820219496, 0.7631479059603482, 0.7631479059603482, 0.7631479059603482, 0.7631479059603482, 0.7631568846861052, 0.7631479059603482, 0.7631688305866072, 44.27627622258077, 1.3160544893360664, 1.104038087465869, 1.092185123211573, 1.0608476481752243, 0.951839512609265, 0.8953600848504512, 0.8070569768339325, 0.8070569768339325, 0.8070569768339325, 0.8070569768339325, 0.8070569575262804, 8.111134387343489, 0.763149471536348, 0.7631506220898848, 0.7631506220898848, 0.7631525567042635, 0.7631465870578664, 0.7631465870578664, 0.7631465870578664, 0.7631465870578664, 0.7631477342959088, 0.7631482572019033, 0.7631482572019033, 0.7631482572019033, 0.7631482572019033, 0.7631482572019033, 0.7631482572019033, 0.7631482572019033, 0.7631482572019033, 0.7631480918300783, 0.7631511608532471, 0.7631710538700355, 0.763164626469383, 0.7631775609344089, 0.7631481196035577, 0.7631749643892574, 0.7631502899886446, 0.7631509810449615, 0.763146237597018, 0.763146237597018, 0.7631462394468618, 0.7631462394468618, 0.7631462394468618, 0.7631462394468618, 0.7631462394468618, 0.7631462396344989, 0.7631462396344989, 0.7631462403240481, 0.7631462403240481, 0.7631462403240481, 0.7631462494226342, 0.7631462494226342, 0.7631462494226342, 0.7631462612414569, 0.7631462612414569, 0.7631462612414569, 0.7631462612414569, 0.7631462612414569, 0.7631462656902817, 0.7631462656902817, 0.7631462656902817, 0.7631462656902817, 0.7631462656902817, 0.7631462656902817, 0.7631462656902817, 0.7631462656902817, 0.7631462796200736, 0.7631462796200736, 0.763166709215302, 5.3683190770493585, 23.604574061210513, 2.0319675375398365, 0.9075560696847421, 7.700235644361412, 3.7057619255300787, 3.8455741664649383, 0.7631464455409251, 3.7202158935370453, 4.100193633340916, 1.7063500131677347, 0.7631464418964635, 57.39036451928073, 0.763146438252002, 1.8982067133357576, 14.148426109609618, 16.98846482914359, 0.7631464418964635, 14.512418117512249, 0.7631464346075405, 3.10210215682058, 0.763146438252002, 11.980137756378411, 1.0523905120931087, 14.767720663287882, 1.9577640160396748, 2.766894656852562, 2.583934929207767, 0.763146543692126], \"Category\": [\"Default\", \"Default\", \"Default\", \"Default\", \"Default\", \"Default\", \"Default\", \"Default\", \"Default\", \"Default\", \"Default\", \"Default\", \"Default\", \"Default\", \"Default\", \"Default\", \"Default\", \"Default\", \"Default\", \"Default\", \"Default\", \"Default\", \"Default\", \"Default\", \"Default\", \"Default\", \"Default\", \"Default\", \"Default\", \"Default\", \"Topic1\", \"Topic1\", \"Topic1\", \"Topic1\", \"Topic1\", \"Topic1\", \"Topic1\", \"Topic1\", \"Topic1\", \"Topic1\", \"Topic1\", \"Topic1\", \"Topic1\", \"Topic1\", \"Topic1\", \"Topic1\", \"Topic1\", \"Topic1\", \"Topic1\", \"Topic1\", \"Topic1\", \"Topic1\", \"Topic1\", \"Topic1\", \"Topic1\", \"Topic1\", \"Topic1\", \"Topic1\", \"Topic1\", \"Topic1\", \"Topic1\", \"Topic1\", \"Topic1\", \"Topic1\", \"Topic1\", \"Topic1\", \"Topic1\", \"Topic1\", \"Topic1\", \"Topic1\", \"Topic1\", \"Topic1\", \"Topic1\", \"Topic1\", \"Topic1\", \"Topic1\", \"Topic1\", \"Topic1\", \"Topic1\", \"Topic1\", \"Topic1\", \"Topic1\", \"Topic1\", \"Topic1\", \"Topic1\", \"Topic1\", \"Topic1\", \"Topic1\", \"Topic1\", \"Topic1\", \"Topic1\", \"Topic1\", \"Topic1\", \"Topic1\", \"Topic1\", \"Topic1\", \"Topic2\", \"Topic2\", \"Topic2\", \"Topic2\", \"Topic2\", \"Topic2\", \"Topic2\", \"Topic2\", \"Topic2\", \"Topic2\", \"Topic2\", \"Topic2\", \"Topic2\", \"Topic2\", \"Topic2\", \"Topic2\", \"Topic2\", \"Topic2\", \"Topic2\", \"Topic2\", \"Topic2\", \"Topic2\", \"Topic2\", \"Topic2\", \"Topic2\", \"Topic2\", \"Topic2\", \"Topic2\", \"Topic2\", \"Topic2\", \"Topic2\", \"Topic2\", \"Topic2\", \"Topic2\", \"Topic2\", \"Topic2\", \"Topic2\", \"Topic2\", \"Topic2\", \"Topic2\", \"Topic2\", \"Topic2\", \"Topic2\", \"Topic2\", \"Topic2\", \"Topic2\", \"Topic2\", \"Topic2\", \"Topic2\", \"Topic2\", \"Topic2\", \"Topic2\", \"Topic2\", \"Topic2\", \"Topic2\", \"Topic2\", \"Topic2\", \"Topic2\", \"Topic2\", \"Topic2\", \"Topic2\", \"Topic2\", \"Topic2\", \"Topic3\", \"Topic3\", \"Topic3\", \"Topic3\", \"Topic3\", \"Topic3\", \"Topic3\", \"Topic3\", \"Topic3\", \"Topic3\", \"Topic3\", \"Topic3\", \"Topic3\", \"Topic3\", \"Topic3\", \"Topic3\", \"Topic3\", \"Topic3\", \"Topic3\", \"Topic3\", \"Topic3\", \"Topic3\", \"Topic3\", \"Topic3\", \"Topic3\", \"Topic3\", \"Topic3\", \"Topic3\", \"Topic3\", \"Topic3\", \"Topic3\", \"Topic3\", \"Topic3\", \"Topic3\", \"Topic3\", \"Topic3\", \"Topic3\", \"Topic3\", \"Topic3\", \"Topic3\", \"Topic3\", \"Topic3\", \"Topic3\", \"Topic3\", \"Topic3\", \"Topic3\", \"Topic3\", \"Topic3\", \"Topic3\", \"Topic3\", \"Topic3\", \"Topic3\", \"Topic3\", \"Topic3\", \"Topic3\", \"Topic3\", \"Topic3\", \"Topic3\", \"Topic3\", \"Topic3\", \"Topic3\", \"Topic4\", \"Topic4\", \"Topic4\", \"Topic4\", \"Topic4\", \"Topic4\", \"Topic4\", \"Topic4\", \"Topic4\", \"Topic4\", \"Topic4\", \"Topic4\", \"Topic4\", \"Topic4\", \"Topic4\", \"Topic4\", \"Topic4\", \"Topic4\", \"Topic4\", \"Topic4\", \"Topic4\", \"Topic4\", \"Topic4\", \"Topic4\", \"Topic4\", \"Topic4\", \"Topic4\", \"Topic4\", \"Topic4\", \"Topic4\", \"Topic4\", \"Topic4\", \"Topic4\", \"Topic4\", \"Topic4\", \"Topic4\", \"Topic4\", \"Topic4\", \"Topic4\", \"Topic4\", \"Topic4\", \"Topic4\", \"Topic4\", \"Topic4\", \"Topic4\", \"Topic4\", \"Topic4\", \"Topic4\", \"Topic4\", \"Topic4\", \"Topic4\", \"Topic4\", \"Topic4\", \"Topic4\", \"Topic4\", \"Topic4\", \"Topic4\", \"Topic4\", \"Topic4\", \"Topic4\", \"Topic4\", \"Topic4\", \"Topic4\", \"Topic4\", \"Topic4\", \"Topic4\", \"Topic4\", \"Topic4\", \"Topic4\", \"Topic4\", \"Topic4\", \"Topic5\", \"Topic5\", \"Topic5\", \"Topic5\", \"Topic5\", \"Topic5\", \"Topic5\", \"Topic5\", \"Topic5\", \"Topic5\", \"Topic5\", \"Topic5\", \"Topic5\", \"Topic5\", \"Topic5\", \"Topic5\", \"Topic5\", \"Topic5\", \"Topic5\", \"Topic5\", \"Topic5\", \"Topic5\", \"Topic5\", \"Topic5\", \"Topic5\", \"Topic5\", \"Topic5\", \"Topic5\", \"Topic5\", \"Topic5\", \"Topic5\", \"Topic5\", \"Topic5\", \"Topic5\", \"Topic5\", \"Topic5\", \"Topic5\", \"Topic5\", \"Topic5\", \"Topic5\", \"Topic5\", \"Topic5\", \"Topic5\", \"Topic5\", \"Topic5\", \"Topic5\", \"Topic5\", \"Topic5\", \"Topic5\", \"Topic5\", \"Topic5\", \"Topic5\", \"Topic5\", \"Topic5\", \"Topic5\", \"Topic5\", \"Topic5\", \"Topic5\", \"Topic5\", \"Topic5\", \"Topic5\", \"Topic6\", \"Topic6\", \"Topic6\", \"Topic6\", \"Topic6\", \"Topic6\", \"Topic6\", \"Topic6\", \"Topic6\", \"Topic6\", \"Topic6\", \"Topic6\", \"Topic6\", \"Topic6\", \"Topic6\", \"Topic6\", \"Topic6\", \"Topic6\", \"Topic6\", \"Topic6\", \"Topic6\", \"Topic6\", \"Topic6\", \"Topic6\", \"Topic6\", \"Topic6\", \"Topic6\", \"Topic6\", \"Topic6\", \"Topic6\", \"Topic6\", \"Topic6\", \"Topic6\", \"Topic6\", \"Topic6\", \"Topic6\", \"Topic6\", \"Topic6\", \"Topic6\", \"Topic6\", \"Topic6\", \"Topic6\", \"Topic6\", \"Topic6\", \"Topic6\", \"Topic6\", \"Topic6\", \"Topic6\", \"Topic6\", \"Topic6\", \"Topic6\", \"Topic6\", \"Topic6\", \"Topic6\", \"Topic6\", \"Topic6\", \"Topic7\", \"Topic7\", \"Topic7\", \"Topic7\", \"Topic7\", \"Topic7\", \"Topic7\", \"Topic7\", \"Topic7\", \"Topic7\", \"Topic7\", \"Topic7\", \"Topic7\", \"Topic7\", \"Topic7\", \"Topic7\", \"Topic7\", \"Topic7\", \"Topic7\", \"Topic7\", \"Topic7\", \"Topic7\", \"Topic7\", \"Topic7\", \"Topic7\", \"Topic7\", \"Topic7\", \"Topic7\", \"Topic7\", \"Topic7\", \"Topic7\", \"Topic7\", \"Topic7\", \"Topic7\", \"Topic7\", \"Topic7\", \"Topic7\", \"Topic7\", \"Topic7\", \"Topic7\", \"Topic7\", \"Topic7\", \"Topic7\", \"Topic7\", \"Topic7\", \"Topic7\", \"Topic7\", \"Topic7\", \"Topic7\", \"Topic7\", \"Topic7\", \"Topic7\", \"Topic7\", \"Topic7\", \"Topic7\", \"Topic7\", \"Topic7\", \"Topic8\", \"Topic8\", \"Topic8\", \"Topic8\", \"Topic8\", \"Topic8\", \"Topic8\", \"Topic8\", \"Topic8\", \"Topic8\", \"Topic8\", \"Topic8\", \"Topic8\", \"Topic8\", \"Topic8\", \"Topic8\", \"Topic8\", \"Topic8\", \"Topic8\", \"Topic8\", \"Topic8\", \"Topic8\", \"Topic8\", \"Topic8\", \"Topic8\", \"Topic8\", \"Topic8\", \"Topic8\", \"Topic8\", \"Topic8\", \"Topic8\", \"Topic8\", \"Topic8\", \"Topic8\", \"Topic8\", \"Topic8\", \"Topic8\", \"Topic8\", \"Topic8\", \"Topic8\", \"Topic8\", \"Topic8\", \"Topic8\", \"Topic8\", \"Topic8\", \"Topic8\", \"Topic8\", \"Topic8\", \"Topic8\", \"Topic8\", \"Topic8\", \"Topic8\", \"Topic8\", \"Topic8\", \"Topic8\", \"Topic9\", \"Topic9\", \"Topic9\", \"Topic9\", \"Topic9\", \"Topic9\", \"Topic9\", \"Topic9\", \"Topic9\", \"Topic9\", \"Topic9\", \"Topic9\", \"Topic9\", \"Topic9\", \"Topic9\", \"Topic9\", \"Topic9\", \"Topic9\", \"Topic9\", \"Topic9\", \"Topic9\", \"Topic9\", \"Topic9\", \"Topic9\", \"Topic9\", \"Topic9\", \"Topic9\", \"Topic9\", \"Topic9\", \"Topic9\", \"Topic9\", \"Topic9\", \"Topic9\", \"Topic9\", \"Topic9\", \"Topic9\", \"Topic9\", \"Topic9\", \"Topic9\", \"Topic9\", \"Topic9\", \"Topic9\", \"Topic9\", \"Topic9\", \"Topic9\", \"Topic9\", \"Topic9\", \"Topic9\", \"Topic9\", \"Topic9\", \"Topic9\", \"Topic10\", \"Topic10\", \"Topic10\", \"Topic10\", \"Topic10\", \"Topic10\", \"Topic10\", \"Topic10\", \"Topic10\", \"Topic10\", \"Topic10\", \"Topic10\", \"Topic10\", \"Topic10\", \"Topic10\", \"Topic10\", \"Topic10\", \"Topic10\", \"Topic10\", \"Topic10\", \"Topic10\", \"Topic10\", \"Topic10\", \"Topic10\", \"Topic10\", \"Topic10\", \"Topic10\", \"Topic10\", \"Topic10\", \"Topic10\", \"Topic10\", \"Topic10\", \"Topic10\", \"Topic10\", \"Topic10\", \"Topic10\", \"Topic10\", \"Topic10\", \"Topic10\", \"Topic10\", \"Topic10\", \"Topic10\", \"Topic10\", \"Topic10\", \"Topic10\", \"Topic10\", \"Topic10\", \"Topic10\", \"Topic10\", \"Topic10\", \"Topic11\", \"Topic11\", \"Topic11\", \"Topic11\", \"Topic11\", \"Topic11\", \"Topic11\", \"Topic11\", \"Topic11\", \"Topic11\", \"Topic11\", \"Topic11\", \"Topic11\", \"Topic11\", \"Topic11\", \"Topic11\", \"Topic11\", \"Topic11\", \"Topic11\", \"Topic11\", \"Topic11\", \"Topic11\", \"Topic11\", \"Topic11\", \"Topic11\", \"Topic11\", \"Topic11\", \"Topic11\", \"Topic11\", \"Topic11\", \"Topic11\", \"Topic11\", \"Topic11\", \"Topic11\", \"Topic11\", \"Topic11\", \"Topic11\", \"Topic11\", \"Topic11\", \"Topic11\", \"Topic11\", \"Topic11\", \"Topic11\", \"Topic11\", \"Topic11\", \"Topic11\", \"Topic11\", \"Topic11\", \"Topic11\", \"Topic11\", \"Topic11\", \"Topic11\", \"Topic12\", \"Topic12\", \"Topic12\", \"Topic12\", \"Topic12\", \"Topic12\", \"Topic12\", \"Topic12\", \"Topic12\", \"Topic12\", \"Topic12\", \"Topic12\", \"Topic12\", \"Topic12\", \"Topic12\", \"Topic12\", \"Topic12\", \"Topic12\", \"Topic12\", \"Topic12\", \"Topic12\", \"Topic12\", \"Topic12\", \"Topic12\", \"Topic12\", \"Topic12\", \"Topic12\", \"Topic12\", \"Topic12\", \"Topic12\", \"Topic12\", \"Topic12\", \"Topic12\", \"Topic12\", \"Topic12\", \"Topic12\", \"Topic12\", \"Topic12\", \"Topic12\", \"Topic12\", \"Topic12\", \"Topic12\", \"Topic12\", \"Topic12\", \"Topic12\", \"Topic12\", \"Topic12\", \"Topic13\", \"Topic13\", \"Topic13\", \"Topic13\", \"Topic13\", \"Topic13\", \"Topic13\", \"Topic13\", \"Topic13\", \"Topic13\", \"Topic13\", \"Topic13\", \"Topic13\", \"Topic13\", \"Topic13\", \"Topic13\", \"Topic13\", \"Topic13\", \"Topic13\", \"Topic13\", \"Topic13\", \"Topic13\", \"Topic13\", \"Topic13\", \"Topic13\", \"Topic13\", \"Topic13\", \"Topic13\", \"Topic13\", \"Topic13\", \"Topic13\", \"Topic13\", \"Topic13\", \"Topic13\", \"Topic13\", \"Topic13\", \"Topic14\", \"Topic14\", \"Topic14\", \"Topic14\", \"Topic14\", \"Topic14\", \"Topic14\", \"Topic14\", \"Topic14\", \"Topic14\", \"Topic14\", \"Topic14\", \"Topic14\", \"Topic14\", \"Topic14\", \"Topic14\", \"Topic14\", \"Topic14\", \"Topic14\", \"Topic14\", \"Topic14\", \"Topic14\", \"Topic14\", \"Topic14\", \"Topic14\", \"Topic14\", \"Topic14\", \"Topic14\", \"Topic14\", \"Topic14\", \"Topic14\", \"Topic14\", \"Topic14\", \"Topic14\", \"Topic14\", \"Topic14\", \"Topic14\", \"Topic14\", \"Topic14\", \"Topic14\", \"Topic14\", \"Topic14\", \"Topic14\", \"Topic15\", \"Topic15\", \"Topic15\", \"Topic15\", \"Topic15\", \"Topic15\", \"Topic15\", \"Topic15\", \"Topic15\", \"Topic15\", \"Topic15\", \"Topic15\", \"Topic15\", \"Topic15\", \"Topic15\", \"Topic15\", \"Topic15\", \"Topic15\", \"Topic15\", \"Topic15\", \"Topic15\", \"Topic15\", \"Topic15\", \"Topic15\", \"Topic15\", \"Topic15\", \"Topic15\", \"Topic15\", \"Topic15\", \"Topic15\", \"Topic16\", \"Topic16\", \"Topic16\", \"Topic16\", \"Topic16\", \"Topic16\", \"Topic16\", \"Topic16\", \"Topic16\", \"Topic16\", \"Topic16\", \"Topic16\", \"Topic16\", \"Topic16\", \"Topic16\", \"Topic16\", \"Topic16\", \"Topic16\", \"Topic16\", \"Topic16\", \"Topic16\", \"Topic16\", \"Topic16\", \"Topic16\", \"Topic16\", \"Topic16\", \"Topic16\", \"Topic16\", \"Topic16\", \"Topic16\", \"Topic16\", \"Topic16\", \"Topic16\", \"Topic16\", \"Topic16\", \"Topic17\", \"Topic17\", \"Topic17\", \"Topic17\", \"Topic17\", \"Topic17\", \"Topic17\", \"Topic17\", \"Topic17\", \"Topic17\", \"Topic17\", \"Topic17\", \"Topic17\", \"Topic17\", \"Topic17\", \"Topic17\", \"Topic17\", \"Topic17\", \"Topic17\", \"Topic17\", \"Topic17\", \"Topic17\", \"Topic17\", \"Topic17\", \"Topic17\", \"Topic17\", \"Topic17\", \"Topic17\", \"Topic17\", \"Topic17\", \"Topic17\", \"Topic17\", \"Topic17\", \"Topic17\", \"Topic17\", \"Topic17\", \"Topic18\", \"Topic18\", \"Topic18\", \"Topic18\", \"Topic18\", \"Topic18\", \"Topic18\", \"Topic18\", \"Topic18\", \"Topic18\", \"Topic18\", \"Topic18\", \"Topic18\", \"Topic18\", \"Topic18\", \"Topic18\", \"Topic18\", \"Topic18\", \"Topic18\", \"Topic18\", \"Topic18\", \"Topic18\", \"Topic18\", \"Topic18\", \"Topic18\", \"Topic18\", \"Topic18\", \"Topic18\", \"Topic18\", \"Topic18\", \"Topic18\", \"Topic18\", \"Topic18\", \"Topic18\", \"Topic18\", \"Topic18\", \"Topic18\", \"Topic18\", \"Topic19\", \"Topic19\", \"Topic19\", \"Topic19\", \"Topic19\", \"Topic19\", \"Topic19\", \"Topic19\", \"Topic19\", \"Topic19\", \"Topic19\", \"Topic19\", \"Topic19\", \"Topic19\", \"Topic19\", \"Topic19\", \"Topic19\", \"Topic19\", \"Topic19\", \"Topic19\", \"Topic19\", \"Topic19\", \"Topic19\", \"Topic19\", \"Topic19\", \"Topic19\", \"Topic19\", \"Topic19\", \"Topic19\", \"Topic19\", \"Topic19\", \"Topic19\", \"Topic19\", \"Topic19\", \"Topic19\", \"Topic19\", \"Topic19\", \"Topic19\", \"Topic20\", \"Topic20\", \"Topic20\", \"Topic20\", \"Topic20\", \"Topic20\", \"Topic20\", \"Topic20\", \"Topic20\", \"Topic20\", \"Topic20\", \"Topic20\", \"Topic20\", \"Topic20\", \"Topic20\", \"Topic20\", \"Topic20\", \"Topic20\", \"Topic20\", \"Topic20\", \"Topic20\", \"Topic20\", \"Topic20\", \"Topic20\", \"Topic20\", \"Topic20\", \"Topic20\", \"Topic20\", \"Topic20\", \"Topic20\", \"Topic20\", \"Topic20\", \"Topic20\", \"Topic20\", \"Topic20\", \"Topic20\", \"Topic20\", \"Topic20\", \"Topic20\", \"Topic20\", \"Topic20\", \"Topic20\", \"Topic20\", \"Topic20\", \"Topic20\", \"Topic20\", \"Topic20\", \"Topic20\", \"Topic20\", \"Topic20\", \"Topic20\", \"Topic20\", \"Topic20\", \"Topic20\", \"Topic20\", \"Topic20\", \"Topic20\", \"Topic20\", \"Topic20\", \"Topic20\"], \"logprob\": [30.0, 29.0, 28.0, 27.0, 26.0, 25.0, 24.0, 23.0, 22.0, 21.0, 20.0, 19.0, 18.0, 17.0, 16.0, 15.0, 14.0, 13.0, 12.0, 11.0, 10.0, 9.0, 8.0, 7.0, 6.0, 5.0, 4.0, 3.0, 2.0, 1.0, -5.062099933624268, -5.076399803161621, -5.4217000007629395, -5.655600070953369, -5.718500137329102, -5.734600067138672, -5.773799896240234, -5.77370023727417, -5.802800178527832, -5.874100208282471, -5.9008002281188965, -4.786600112915039, -5.796899795532227, -5.593699932098389, -5.51800012588501, -6.003499984741211, -6.03849983215332, -6.054100036621094, -6.0258002281188965, -6.149400234222412, -6.174699783325195, -6.189499855041504, -6.235000133514404, -6.259399890899658, -6.2778000831604, -6.297999858856201, -6.30810022354126, -6.32420015335083, -6.327400207519531, -6.34119987487793, -5.989099979400635, -4.729599952697754, -4.90500020980835, -5.606800079345703, -5.850299835205078, -5.783199787139893, -5.226099967956543, -5.763299942016602, -5.8383002281188965, -4.990099906921387, -5.103300094604492, -5.174900054931641, -5.341899871826172, -4.23330020904541, -5.222099781036377, -5.568699836730957, -4.653500080108643, -4.748600006103516, -5.474299907684326, -5.133900165557861, -4.809500217437744, -5.339200019836426, -4.910600185394287, -5.3196001052856445, -5.298600196838379, -4.276000022888184, -5.108699798583984, -5.190400123596191, -5.122099876403809, -5.221399784088135, -4.925000190734863, -5.053299903869629, -5.048799991607666, -5.197400093078613, -5.151800155639648, -5.125800132751465, -3.3924999237060547, -3.751199960708618, -5.27370023727417, -5.348899841308594, -5.482100009918213, -4.898099899291992, -5.669000148773193, -5.686999797821045, -5.726200103759766, -5.866000175476074, -5.948999881744385, -4.434700012207031, -6.032800197601318, -6.070700168609619, -6.072000026702881, -6.146999835968018, -6.19890022277832, -4.503399848937988, -6.311699867248535, -6.333700180053711, -6.390600204467773, -6.3942999839782715, -6.482900142669678, -6.4857001304626465, -6.6433000564575195, -6.64900016784668, -6.672500133514404, -6.706500053405762, -6.746300220489502, -5.808000087738037, -5.004700183868408, -5.728600025177002, -4.82919979095459, -4.026100158691406, -4.763500213623047, -5.080699920654297, -5.7606000900268555, -4.112299919128418, -5.196300029754639, -5.096199989318848, -3.887700080871582, -3.8503000736236572, -4.355599880218506, -3.756700038909912, -4.916900157928467, -3.6803998947143555, -3.2792000770568848, -3.8610000610351562, -4.816999912261963, -4.497900009155273, -4.581699848175049, -4.552999973297119, -4.456699848175049, -5.108099937438965, -4.864699840545654, -4.862199783325195, -4.811999797821045, -4.784900188446045, -4.880499839782715, -5.0117998123168945, -4.97189998626709, -4.956500053405762, -4.985099792480469, -4.55210018157959, -4.73859977722168, -5.007800102233887, -5.095699787139893, -5.122200012207031, -5.126999855041504, -5.349100112915039, -5.431700229644775, -5.730000019073486, -5.7606000900268555, -5.363500118255615, -5.953199863433838, -6.000199794769287, -6.10699987411499, -6.1143999099731445, -6.52810001373291, -6.536799907684326, -3.682800054550171, -6.72160005569458, -6.7941999435424805, -3.533400058746338, -6.9293999671936035, -6.986800193786621, -7.020699977874756, -7.035399913787842, -7.041100025177002, -3.506500005722046, -7.081900119781494, -7.090000152587891, -7.114699840545654, -2.888400077819824, -4.673399925231934, -5.972499847412109, -4.388000011444092, -3.021699905395508, -5.007900238037109, -4.363100051879883, -4.784999847412109, -4.622499942779541, -4.481800079345703, -3.5315001010894775, -4.257999897003174, -4.369800090789795, -4.570099830627441, -3.8206000328063965, -5.021699905395508, -5.1072001457214355, -4.52370023727417, -3.8986001014709473, -4.195799827575684, -3.486999988555908, -3.9816999435424805, -4.190499782562256, -4.7332000732421875, -4.660900115966797, -4.752999782562256, -4.630499839782715, -4.872300148010254, -4.8730998039245605, -4.777500152587891, -4.809800148010254, -4.6996002197265625, -4.986299991607666, -5.2642998695373535, -5.303999900817871, -5.358500003814697, -5.432300090789795, -5.444900035858154, -5.69290018081665, -5.751999855041504, -5.7657999992370605, -6.1178998947143555, -5.267600059509277, -6.236100196838379, -6.309999942779541, -6.372799873352051, -6.44189977645874, -6.470099925994873, -6.548900127410889, -6.541999816894531, -6.62939977645874, -6.63070011138916, -6.63100004196167, -6.637899875640869, -6.6645002365112305, -6.666900157928467, -6.676400184631348, -6.605800151824951, -6.6869001388549805, -6.692599773406982, -6.823999881744385, -4.079800128936768, -4.491399765014648, -6.140399932861328, -4.546000003814697, -3.896899938583374, -3.8145999908447266, -3.865499973297119, -4.44379997253418, -5.741300106048584, -5.989099979400635, -4.643899917602539, -5.283199787139893, -4.394899845123291, -4.253200054168701, -5.493800163269043, -4.344900131225586, -5.7195000648498535, -3.8561999797821045, -5.367400169372559, -5.276299953460693, -5.173099994659424, -5.258999824523926, -3.7959001064300537, -5.048799991607666, -5.111299991607666, -4.714600086212158, -4.6255998611450195, -5.154399871826172, -4.073999881744385, -4.053599834442139, -4.168799877166748, -4.427700042724609, -5.039000034332275, -4.660399913787842, -4.839300155639648, -4.8125, -4.819799900054932, -4.780399799346924, -4.964799880981445, -5.0157999992370605, -5.026400089263916, -3.5778000354766846, -4.793499946594238, -4.293099880218506, -5.334499835968018, -5.382199764251709, -5.402900218963623, -5.668799877166748, -5.792699813842773, -5.808800220489502, -5.826200008392334, -5.8566999435424805, -5.938399791717529, -5.545100212097168, -5.979000091552734, -5.9953999519348145, -5.999100208282471, -3.585599899291992, -6.1265997886657715, -6.128600120544434, -5.565499782562256, -6.232500076293945, -6.271599769592285, -6.313300132751465, -6.371399879455566, -6.410099983215332, -6.473499774932861, -6.479599952697754, -5.340000152587891, -5.302499771118164, -6.691100120544434, -4.679299831390381, -4.684800148010254, -4.048399925231934, -5.552299976348877, -5.644100189208984, -3.2637999057769775, -5.189300060272217, -5.437600135803223, -4.1417999267578125, -4.438899993896484, -3.76200008392334, -3.546799898147583, -5.42579984664917, -4.1596999168396, -4.781199932098389, -4.463699817657471, -4.731599807739258, -4.657599925994873, -4.549699783325195, -4.616000175476074, -4.164899826049805, -4.702199935913086, -4.490200042724609, -4.682600021362305, -4.48829984664917, -4.649400234222412, -4.758399963378906, -4.250899791717529, -4.828100204467773, -4.697800159454346, -4.913700103759766, -3.8986001014709473, -4.092700004577637, -4.21750020980835, -4.546500205993652, -4.6392998695373535, -4.82420015335083, -4.8308000564575195, -4.9257001876831055, -4.963900089263916, -4.976399898529053, -5.006499767303467, -4.747600078582764, -5.03380012512207, -5.0802998542785645, -5.14870023727417, -5.197700023651123, -5.237100124359131, -5.249000072479248, -5.441999912261963, -5.462800025939941, -5.5879998207092285, -5.6508002281188965, -5.659800052642822, -5.683000087738037, -5.735599994659424, -5.814899921417236, -5.823500156402588, -5.881499767303467, -5.8907999992370605, -5.892000198364258, -4.835400104522705, -4.896999835968018, -5.584199905395508, -4.58650016784668, -3.9207000732421875, -4.269400119781494, -4.633699893951416, -5.039100170135498, -4.319499969482422, -4.78439998626709, -4.031799793243408, -4.265399932861328, -4.432499885559082, -3.759399890899658, -4.563399791717529, -4.861599922180176, -4.690199851989746, -4.380799770355225, -4.385700225830078, -4.684199810028076, -4.7870001792907715, -4.695700168609619, -4.799499988555908, -4.793900012969971, -4.642399787902832, -4.798299789428711, -4.418799877166748, -4.744900226593018, -4.822199821472168, -4.990900039672852, -5.0329999923706055, -5.184299945831299, -5.225900173187256, -5.261099815368652, -5.26609992980957, -5.278299808502197, -5.316100120544434, -5.34250020980835, -5.363800048828125, -5.40939998626709, -3.8987998962402344, -5.450099945068359, -5.488699913024902, -5.495100021362305, -5.540800094604492, -5.5503997802734375, -5.644499778747559, -5.752900123596191, -5.783100128173828, -5.781799793243408, -5.818299770355225, -4.143499851226807, -5.843999862670898, -5.865900039672852, -5.088200092315674, -4.491099834442139, -4.353099822998047, -3.890000104904175, -5.239799976348877, -3.559799909591675, -3.3076999187469482, -5.255899906158447, -3.140500068664551, -5.1743998527526855, -4.712699890136719, -4.070499897003174, -4.788700103759766, -4.440199851989746, -4.4842000007629395, -3.464099884033203, -4.0883002281188965, -4.747200012207031, -4.910600185394287, -4.732900142669678, -4.871699810028076, -4.865900039672852, -5.106800079345703, -4.868199825286865, -4.684999942779541, -4.706600189208984, -4.704999923706055, -4.97189998626709, -4.998199939727783, -4.377799987792969, -4.7342000007629395, -4.763400077819824, -4.797999858856201, -4.811200141906738, -4.8231000900268555, -4.962200164794922, -4.962800025939941, -5.036499977111816, -5.088399887084961, -5.1209001541137695, -5.451099872589111, -5.4756999015808105, -5.442500114440918, -5.557199954986572, -5.5731000900268555, -5.613699913024902, -5.65339994430542, -5.747300148010254, -5.771999835968018, -5.781199932098389, -5.807000160217285, -5.877699851989746, -5.881400108337402, -5.888700008392334, -5.907299995422363, -5.926700115203857, -5.94320011138916, -5.944699764251709, -6.052800178527832, -4.372000217437744, -4.575399875640869, -4.6971001625061035, -4.48390007019043, -5.145599842071533, -4.513999938964844, -4.360799789428711, -5.278800010681152, -4.268799781799316, -3.788800001144409, -3.757200002670288, -3.789099931716919, -4.045400142669678, -4.3144001960754395, -4.197199821472168, -4.9822001457214355, -4.321800231933594, -5.164700031280518, -4.8246002197265625, -4.658199787139893, -4.9781999588012695, -4.863699913024902, -4.914000034332275, -4.921000003814697, -4.96019983291626, -4.058599948883057, -4.4679999351501465, -4.5295000076293945, -4.572700023651123, -4.628799915313721, -4.633699893951416, -4.65339994430542, -4.789299964904785, -4.834799766540527, -4.835299968719482, -4.28849983215332, -5.156300067901611, -5.284800052642822, -5.385300159454346, -5.390600204467773, -5.392399787902832, -5.42140007019043, -4.961100101470947, -5.5258002281188965, -5.566500186920166, -5.646900177001953, -5.740900039672852, -5.7428998947143555, -5.7758002281188965, -5.798399925231934, -5.811299800872803, -4.9633002281188965, -5.890699863433838, -5.904300212860107, -5.936100006103516, -5.268700122833252, -4.413899898529053, -4.274600028991699, -4.638400077819824, -4.639200210571289, -5.105599880218506, -5.242800235748291, -4.368800163269043, -3.46370005607605, -5.160699844360352, -4.568900108337402, -4.548299789428711, -4.5005998611450195, -4.137599945068359, -3.9130001068115234, -4.952400207519531, -4.4664998054504395, -4.34689998626709, -4.382599830627441, -4.621699810028076, -4.778800010681152, -3.5132999420166016, -3.8945000171661377, -4.133399963378906, -4.242499828338623, -4.2947001457214355, -4.38100004196167, -4.449900150299072, -4.581900119781494, -4.69290018081665, -4.704899787902832, -4.748799800872803, -4.809500217437744, -4.854700088500977, -4.866099834442139, -4.239799976348877, -5.188000202178955, -5.2067999839782715, -5.22189998626709, -5.224999904632568, -5.437300205230713, -5.526400089263916, -5.580599784851074, -5.580999851226807, -5.630099773406982, -5.682799816131592, -3.788599967956543, -5.876699924468994, -5.89769983291626, -5.961599826812744, -5.970300197601318, -4.834000110626221, -4.619500160217285, -4.237199783325195, -4.5329999923706055, -4.678599834442139, -3.9403998851776123, -4.068399906158447, -4.402900218963623, -4.9141998291015625, -4.421000003814697, -4.5655999183654785, -4.166900157928467, -3.9647998809814453, -4.255499839782715, -4.179299831390381, -4.5100998878479, -4.492499828338623, -4.400899887084961, -4.551799774169922, -4.595099925994873, -2.9489998817443848, -3.539599895477295, -3.8313000202178955, -3.925800085067749, -4.127099990844727, -4.489500045776367, -4.654799938201904, -4.672599792480469, -3.8859000205993652, -4.969399929046631, -4.993500232696533, -5.021100044250488, -5.114500045776367, -3.7969000339508057, -5.728400230407715, -5.943600177764893, -4.172299861907959, -6.047100067138672, -6.174499988555908, -6.198500156402588, -6.2153000831604, -6.375500202178955, -6.479899883270264, -4.930600166320801, -3.104599952697754, -5.364799976348877, -6.693999767303467, -6.693999767303467, -6.693999767303467, -6.696199893951416, -4.25439977645874, -4.077899932861328, -4.528500080108643, -5.1768999099731445, -5.072199821472168, -4.5467000007629395, -3.387200117111206, -5.361199855804443, -5.449999809265137, -4.588900089263916, -4.521900177001953, -4.601399898529053, -3.9275999069213867, -4.9496002197265625, -4.729400157928467, -4.352099895477295, -4.43120002746582, -4.138199806213379, -4.40910005569458, -4.799600124359131, -4.895999908447266, -4.821800231933594, -2.849400043487549, -2.999500036239624, -3.6568000316619873, -4.307600021362305, -4.382299900054932, -3.16729998588562, -3.7983999252319336, -5.123499870300293, -5.3007001876831055, -3.6993000507354736, -5.565999984741211, -5.6315999031066895, -5.6844000816345215, -5.686600208282471, -5.687099933624268, -5.823699951171875, -5.856900215148926, -6.0914998054504395, -6.121099948883057, -6.121099948883057, -6.125699996948242, -4.84089994430542, -5.684199810028076, -4.882800102233887, -4.042300224304199, -6.471799850463867, -6.533199787139893, -6.537600040435791, -5.747700214385986, -6.703999996185303, -3.17549991607666, -5.127699851989746, -4.46999979019165, -5.1031999588012695, -3.0230000019073486, -5.35890007019043, -3.9904000759124756, -4.676300048828125, -4.739999771118164, -5.400400161743164, -5.1346001625061035, -4.788599967956543, -4.9222002029418945, -5.168300151824951, -5.439899921417236, -5.139500141143799, -5.486700057983398, -3.2634999752044678, -3.3076000213623047, -3.5125999450683594, -3.5557000637054443, -3.618799924850464, -4.4980998039245605, -5.265200138092041, -5.430699825286865, -5.559700012207031, -5.882900238037109, -4.566800117492676, -6.426499843597412, -5.083899974822998, -3.403700113296509, -5.992700099945068, -7.208799839019775, -7.208799839019775, -7.208799839019775, -7.208799839019775, -7.208799839019775, -7.208799839019775, -4.429999828338623, -2.287600040435791, -6.378399848937988, -5.852099895477295, -4.664000034332275, -9.294500350952148, -9.294599533081055, -9.294599533081055, -9.294599533081055, -9.294599533081055, -5.146200180053711, -9.294599533081055, -3.04830002784729, -6.0731000900268555, -7.911499977111816, -2.4274001121520996, -2.6459999084472656, -3.455899953842163, -4.293900012969971, -4.426000118255615, -4.480100154876709, -4.546899795532227, -4.554100036621094, -4.639500141143799, -4.7967000007629395, -5.001399993896484, -5.253499984741211, -5.317299842834473, -5.3592000007629395, -5.612500190734863, -5.673500061035156, -5.7144999504089355, -5.720399856567383, -5.883900165557861, -5.901100158691406, -4.802199840545654, -6.081399917602539, -6.217599868774414, -6.448699951171875, -6.455399990081787, -5.68149995803833, -5.769199848175049, -7.2322001457214355, -7.2322001457214355, -7.2322001457214355, -7.2322001457214355, -3.6319000720977783, -7.2322001457214355, -7.2322001457214355, -3.8501999378204346, -4.403800010681152, -5.030799865722656, -5.2170000076293945, -5.3308000564575195, -5.25439977645874, -5.437399864196777, -5.5, -5.413599967956543, -3.195499897003174, -3.484299898147583, -3.6730000972747803, -3.740000009536743, -3.874799966812134, -4.197700023651123, -4.237400054931641, -4.6280999183654785, -4.777599811553955, -4.877799987792969, -4.973299980163574, -5.02209997177124, -5.197999954223633, -5.4278998374938965, -5.85099983215332, -6.030700206756592, -6.034900188446045, -4.048999786376953, -5.116399765014648, -5.897900104522705, -6.986400127410889, -6.986400127410889, -6.986400127410889, -6.986400127410889, -6.986400127410889, -6.986400127410889, -6.3831000328063965, -5.593599796295166, -4.497099876403809, -4.658699989318848, -2.694000005722046, -2.7035999298095703, -3.234499931335449, -3.2760000228881836, -3.3159000873565674, -4.515200138092041, -4.9618000984191895, -5.177499771118164, -5.7281999588012695, -5.035200119018555, -6.0046000480651855, -6.388000011444092, -7.018400192260742, -4.685699939727783, -5.346499919891357, -9.104599952697754, -9.104599952697754, -9.104599952697754, -9.104700088500977, -9.104700088500977, -9.104700088500977, -9.104599952697754, -9.104599952697754, -9.104599952697754, -9.104599952697754, -9.104599952697754, -9.104599952697754, -9.104599952697754, -9.104599952697754, -9.104599952697754, -5.728099822998047, -6.008699893951416, -6.098100185394287, -9.011199951171875, -9.086000442504883, -2.4846999645233154, -3.5457000732421875, -3.757499933242798, -3.8475000858306885, -3.9586000442504883, -4.28249979019165, -4.7906999588012695, -3.596299886703491, -4.87939977645874, -5.163000106811523, -5.380799770355225, -5.414299964904785, -5.959099769592285, -6.34250020980835, -6.973299980163574, -6.973299980163574, -6.973299980163574, -6.973299980163574, -6.973299980163574, -6.973299980163574, -6.031400203704834, -5.214700222015381, -9.058899879455566, -9.059000015258789, -9.059000015258789, -9.059000015258789, -9.059100151062012, -9.059100151062012, -9.059000015258789, -9.059100151062012, -9.059100151062012, -5.749100208282471, -5.276000022888184, -5.82420015335083, -9.058699607849121, -9.059000015258789, -3.835700035095215, -3.9542999267578125, -5.032100200653076, -5.170300006866455, -4.162799835205078, -5.203499794006348, -4.843800067901611, -8.822999954223633, -8.823100090026855, -8.823100090026855, -8.823100090026855, -8.823100090026855, -8.823100090026855, -8.823100090026855, -8.823100090026855, -8.823100090026855, -8.823100090026855, -8.823100090026855, -8.823200225830078, -8.823200225830078, -8.823200225830078, -8.823200225830078, -8.823200225830078, -8.823200225830078, -8.823200225830078, -8.823200225830078, -8.823200225830078, -8.823200225830078, -8.823200225830078, -8.823200225830078, -8.823200225830078, -8.823200225830078, -8.823200225830078, -8.823200225830078, -8.823200225830078, -8.823200225830078, -8.823200225830078, -8.823200225830078, -4.306099891662598, -4.782899856567383, -4.817599773406982, -4.9156999588012695, -5.359899997711182, -5.702000141143799, -6.717599868774414, -6.717599868774414, -6.717599868774414, -6.717599868774414, -6.717599868774414, -4.463600158691406, -8.801899909973145, -8.801899909973145, -8.801899909973145, -8.801899909973145, -8.801899909973145, -8.801899909973145, -8.801899909973145, -8.801899909973145, -8.801899909973145, -8.801899909973145, -8.801899909973145, -8.801899909973145, -8.801899909973145, -8.801899909973145, -8.801899909973145, -8.801899909973145, -8.801899909973145, -8.801899909973145, -8.801899909973145, -8.801899909973145, -8.801899909973145, -8.801899909973145, -8.801899909973145, -8.801899909973145, -8.801899909973145, -8.801899909973145, -8.738900184631348, -8.738900184631348, -8.738900184631348, -8.738900184631348, -8.738900184631348, -8.738900184631348, -8.738900184631348, -8.738900184631348, -8.738900184631348, -8.738900184631348, -8.738900184631348, -8.738900184631348, -8.738900184631348, -8.738900184631348, -8.738900184631348, -8.738900184631348, -8.738900184631348, -8.738900184631348, -8.738900184631348, -8.738900184631348, -8.738900184631348, -8.738900184631348, -8.738900184631348, -8.738900184631348, -8.738900184631348, -8.738900184631348, -8.738900184631348, -8.738900184631348, -8.738900184631348, -8.738900184631348, -8.738900184631348, -8.738900184631348, -8.738900184631348, -8.738900184631348, -8.738900184631348, -8.738900184631348, -8.738900184631348, -8.738900184631348, -8.738900184631348, -8.738900184631348, -8.738900184631348, -8.738900184631348, -8.738900184631348, -8.738900184631348, -8.738900184631348, -8.738900184631348, -8.738900184631348, -8.738900184631348, -8.738900184631348, -8.738900184631348, -8.738900184631348, -8.738900184631348, -8.738900184631348, -8.738900184631348, -8.738900184631348, -8.738900184631348, -8.738900184631348, -8.738900184631348, -8.738900184631348, -8.738900184631348], \"loglift\": [30.0, 29.0, 28.0, 27.0, 26.0, 25.0, 24.0, 23.0, 22.0, 21.0, 20.0, 19.0, 18.0, 17.0, 16.0, 15.0, 14.0, 13.0, 12.0, 11.0, 10.0, 9.0, 8.0, 7.0, 6.0, 5.0, 4.0, 3.0, 2.0, 1.0, 1.2444, 1.2443, 1.242, 1.2399, 1.2392, 1.2391, 1.2386, 1.2385, 1.2383, 1.2374, 1.2371, 1.2364, 1.2363, 1.2362, 1.2357, 1.2357, 1.2352, 1.235, 1.2345, 1.2335, 1.2331, 1.2327, 1.2321, 1.2316, 1.2313, 1.2309, 1.2307, 1.2304, 1.2303, 1.2299, 1.2245, 1.1785, 1.1698, 1.1749, 1.1956, 1.1892, 1.1366, 1.1861, 1.1932, 1.0495, 1.0124, 1.0216, 1.0612, 0.7605, 1.0113, 1.0796, 0.7401, 0.6972, 1.0261, 0.8472, 0.6312, 0.8744, 0.53, 0.8452, 0.8216, -0.1243, 0.6257, 0.6908, 0.6145, 0.7089, 0.3159, 0.4289, 0.314, 0.4853, 0.3224, 0.199, 2.1541, 2.1469, 2.1397, 2.1384, 2.1358, 2.1316, 2.1316, 2.1306, 2.1301, 2.1261, 2.1235, 2.1234, 2.1207, 2.1193, 2.1193, 2.1164, 2.1143, 2.1128, 2.1087, 2.1083, 2.1056, 2.1054, 2.1007, 2.1006, 2.0913, 2.091, 2.0894, 2.0872, 2.0845, 2.0798, 2.0155, 2.0273, 1.9487, 1.8353, 1.8765, 1.8961, 1.9882, 1.6957, 1.8748, 1.8055, 1.4751, 1.4129, 1.5148, 1.3037, 1.6671, 1.1426, 0.8724, 1.1413, 1.5171, 1.3173, 1.3014, 1.1917, 0.868, 1.5381, 1.1618, 1.1286, 0.8452, 0.6635, 0.7369, 1.0523, 0.506, -0.0074, -0.017, 2.2108, 2.209, 2.2056, 2.2043, 2.2039, 2.2038, 2.1999, 2.1982, 2.1908, 2.1899, 2.1839, 2.1837, 2.182, 2.1778, 2.1775, 2.1565, 2.1559, 2.1502, 2.1435, 2.1351, 2.1305, 2.1266, 2.1214, 2.1182, 2.1167, 2.1162, 2.1156, 2.112, 2.1112, 2.1087, 2.0762, 2.085, 2.0902, 2.0501, 1.9273, 2.0224, 1.9738, 1.9913, 1.955, 1.903, 1.7438, 1.8243, 1.7251, 1.769, 1.5455, 1.8721, 1.8776, 1.6192, 1.2535, 1.2526, 0.6647, 0.9864, 0.87, 1.47, 1.312, 1.4508, 1.0522, 1.4295, 1.4029, 0.6385, 0.8383, 2.2416, 2.2382, 2.2339, 2.2331, 2.2321, 2.2306, 2.2303, 2.2242, 2.2226, 2.2222, 2.2099, 2.2094, 2.2047, 2.2011, 2.1979, 2.1942, 2.1924, 2.1878, 2.1858, 2.1826, 2.1826, 2.1825, 2.1821, 2.1802, 2.1801, 2.1794, 2.1788, 2.1787, 2.1782, 2.1683, 2.1197, 2.1185, 2.1597, 2.0877, 2.0188, 1.9627, 1.9605, 1.9585, 2.0891, 2.0898, 1.8758, 1.9778, 1.8161, 1.7614, 1.9943, 1.7159, 2.0169, 1.4069, 1.8991, 1.858, 1.8163, 1.8343, 1.1722, 1.7334, 1.7572, 1.517, 1.4438, 1.7697, 0.9283, 0.7695, 0.825, 1.0129, 1.5849, 0.7332, 1.1128, 1.0291, 1.0256, 0.2801, 0.4758, 0.6015, 0.4515, 2.3743, 2.3656, 2.3652, 2.3561, 2.355, 2.3545, 2.3472, 2.343, 2.3425, 2.3416, 2.3407, 2.3375, 2.3363, 2.3358, 2.3351, 2.335, 2.3316, 2.3291, 2.3289, 2.326, 2.3237, 2.3216, 2.3192, 2.3142, 2.3093, 2.3091, 2.3087, 2.3059, 2.2969, 2.2929, 2.2524, 2.2438, 2.1818, 2.2482, 2.2466, 1.9608, 2.1813, 2.1692, 1.8564, 1.9217, 1.7122, 1.6052, 2.1042, 1.4767, 1.6882, 1.4551, 1.6125, 1.5588, 1.4727, 1.4989, 1.1104, 1.5267, 1.1579, 1.3439, 1.0619, 1.0849, 1.2145, -0.0993, 1.1546, 0.6269, 1.1812, 2.4216, 2.4204, 2.4194, 2.4164, 2.4153, 2.4128, 2.4128, 2.4113, 2.4107, 2.4105, 2.41, 2.4097, 2.4095, 2.4086, 2.4073, 2.4062, 2.4055, 2.4052, 2.4006, 2.4, 2.3964, 2.3944, 2.3942, 2.3934, 2.3916, 2.3887, 2.3884, 2.3861, 2.3857, 2.3856, 2.3827, 2.3437, 2.3677, 2.2754, 2.1577, 2.1733, 2.1032, 2.1569, 1.8642, 2.029, 1.5184, 1.6241, 1.699, 1.0636, 1.6167, 1.8165, 1.5115, 0.6797, 0.6166, 1.3382, 1.2953, 0.7864, 1.3319, 1.2206, -0.4907, 0.979, 2.8387, 2.8331, 2.8314, 2.8275, 2.8263, 2.822, 2.8207, 2.8195, 2.8194, 2.8189, 2.8176, 2.8167, 2.8159, 2.8142, 2.8141, 2.8126, 2.811, 2.8108, 2.8088, 2.8084, 2.804, 2.7985, 2.7969, 2.7968, 2.7949, 2.7941, 2.7935, 2.7922, 2.7919, 2.7913, 2.789, 2.7241, 2.7561, 2.5339, 2.3286, 2.6728, 2.1003, 2.6282, 2.3778, 1.9947, 2.3209, 1.9837, 1.9394, 0.6876, 1.3576, 2.0274, 2.2325, 1.9341, 2.0178, 1.8209, 2.4052, 1.7499, 0.9323, 0.9415, 0.6885, 1.8236, 1.6948, 3.0899, 3.0824, 3.0817, 3.0808, 3.0804, 3.0801, 3.076, 3.076, 3.0736, 3.0718, 3.0707, 3.0565, 3.0553, 3.054, 3.051, 3.0501, 3.0478, 3.0454, 3.0395, 3.0378, 3.0372, 3.0354, 3.0303, 3.0301, 3.0295, 3.0281, 3.0266, 3.0253, 3.0252, 3.0162, 3.0004, 2.9459, 2.8561, 2.7888, 2.8889, 2.767, 2.7082, 2.8993, 2.5423, 2.3108, 2.2703, 2.1935, 2.086, 2.1856, 2.0675, 2.6079, 1.8893, 2.7238, 2.1335, 1.4846, 2.2232, 1.6561, 1.4176, 1.1574, 1.0622, 3.4662, 3.4566, 3.4548, 3.4535, 3.4517, 3.4516, 3.4509, 3.446, 3.4442, 3.4442, 3.4344, 3.4291, 3.4216, 3.4151, 3.4147, 3.4146, 3.4126, 3.4079, 3.4049, 3.4017, 3.395, 3.3865, 3.3864, 3.3832, 3.381, 3.3797, 3.3789, 3.3715, 3.37, 3.3665, 3.3629, 3.3215, 3.3139, 3.3182, 3.2902, 3.3152, 3.2781, 3.0809, 2.7999, 3.2307, 2.9516, 2.8555, 2.7782, 2.286, 1.5649, 2.8817, 2.1096, 1.7225, 1.058, 1.5748, 1.4354, 3.5369, 3.5314, 3.5268, 3.5242, 3.5229, 3.5206, 3.5186, 3.5145, 3.5105, 3.51, 3.5083, 3.5058, 3.5039, 3.5034, 3.4981, 3.4866, 3.4855, 3.4846, 3.4844, 3.4697, 3.4627, 3.4581, 3.458, 3.4537, 3.4488, 3.4311, 3.4286, 3.4262, 3.4186, 3.4175, 3.3075, 3.2373, 3.1632, 3.2039, 3.2033, 3.0155, 3.0105, 2.999, 3.1875, 2.9343, 2.9775, 2.3429, 2.1004, 2.1436, 1.9855, 2.4463, 1.7651, 0.6014, 1.3187, 0.2279, 4.1443, 4.1344, 4.127, 4.1241, 4.117, 4.1001, 4.0902, 4.089, 4.0669, 4.0667, 4.0646, 4.0621, 4.0533, 3.9891, 3.9733, 3.9338, 3.9328, 3.9123, 3.8832, 3.8774, 3.8733, 3.8313, 3.8012, 3.8009, 3.7897, 3.7369, 3.7322, 3.7322, 3.7322, 3.7315, 3.62, 3.5464, 3.5578, 3.6036, 3.556, 3.3574, 2.7443, 3.5291, 3.5644, 3.0889, 3.0396, 2.9858, 2.3729, 3.1417, 2.6726, 1.5183, 1.6684, 0.6848, 0.5932, 2.2028, 2.5698, 0.9935, 5.0328, 5.0283, 4.9986, 4.9444, 4.9359, 4.9085, 4.8257, 4.8142, 4.7726, 4.7149, 4.6992, 4.6788, 4.6618, 4.661, 4.6597, 4.6137, 4.6016, 4.5087, 4.496, 4.496, 4.494, 4.4692, 4.4616, 4.3913, 4.3691, 4.3293, 4.297, 4.2946, 4.2437, 4.2021, 4.1843, 3.7705, 3.3325, 3.6283, 1.9792, 3.731, 2.1253, 2.6127, 2.1652, 3.5199, 2.8261, 1.8618, 1.8733, 1.7169, 3.0811, 0.7309, 0.6448, 5.2364, 5.234, 5.2218, 5.2161, 5.2145, 5.1174, 4.9497, 4.8991, 4.8556, 4.7295, 4.6963, 4.4597, 4.2485, 4.1183, 4.107, 3.9474, 3.9474, 3.9474, 3.9474, 3.9474, 3.9474, 3.2875, 3.2626, 2.6619, 2.5212, 2.1698, 2.1215, 2.1215, 2.1215, 2.1215, 2.1215, 2.04, 2.1215, 1.9007, 0.1845, -2.463, 5.2684, 5.2627, 5.2275, 5.1489, 5.1302, 5.1219, 5.1112, 5.11, 5.0953, 5.0653, 5.0203, 4.9544, 4.9357, 4.9229, 4.8377, 4.815, 4.7993, 4.797, 4.7299, 4.7225, 4.6519, 4.6402, 4.5726, 4.4475, 4.4437, 4.0455, 4.0449, 3.9299, 3.9299, 3.9299, 3.9299, 3.8923, 3.9299, 3.9299, 3.7029, 3.5728, 3.4865, 3.3249, 2.5436, 1.7303, 0.9474, 1.4493, -0.4113, 5.8169, 5.7879, 5.7645, 5.7552, 5.7326, 5.6758, 5.6675, 5.5699, 5.5246, 5.4915, 5.4579, 5.4399, 5.3704, 5.2682, 5.0458, 4.938, 4.9354, 4.7651, 4.5214, 4.5018, 4.2477, 4.2477, 4.2477, 4.2477, 4.2477, 4.2477, 4.1713, 3.6561, 3.6224, 2.4104, 5.8719, 5.8711, 5.8324, 5.8284, 5.8245, 5.6161, 5.475, 5.3906, 5.1236, 4.9708, 4.9612, 4.7067, 4.2243, 3.7351, 2.7448, 2.3114, 2.3114, 2.3114, 2.3114, 2.3114, 2.3114, 2.3114, 2.3114, 2.3114, 2.3114, 2.3114, 2.3114, 2.3114, 2.3114, 2.3114, 1.9919, 1.7277, 1.4232, -0.3487, -0.8788, 5.944, 5.8553, 5.8251, 5.8106, 5.791, 5.7231, 5.5769, 5.5531, 5.5458, 5.4337, 5.3344, 5.3181, 5.0136, 4.7573, 4.2725, 4.2725, 4.2725, 4.2725, 4.2725, 4.2725, 3.2094, 2.8123, 2.3571, 2.357, 2.357, 2.357, 2.357, 2.357, 2.357, 2.357, 2.357, 2.1424, 1.9247, 1.1653, -3.0442, -0.2236, 6.7236, 6.672, 6.0452, 5.9457, 4.7151, 3.3845, 3.1341, 2.593, 2.5929, 2.5929, 2.5929, 2.5929, 2.5929, 2.5929, 2.5929, 2.5929, 2.5929, 2.5929, 2.5928, 2.5928, 2.5928, 2.5928, 2.5928, 2.5928, 2.5928, 2.5928, 2.5928, 2.5928, 2.5928, 2.5928, 2.5928, 2.5928, 2.5928, 2.5928, 2.5928, 2.5928, 2.5928, -1.4679, 6.565, 6.2639, 6.24, 6.1709, 5.8352, 5.5542, 4.6425, 4.6425, 4.6425, 4.6425, 4.6425, 4.5889, 2.6141, 2.6141, 2.6141, 2.6141, 2.6141, 2.6141, 2.6141, 2.6141, 2.6141, 2.6141, 2.6141, 2.6141, 2.6141, 2.6141, 2.6141, 2.6141, 2.6141, 2.6141, 2.6141, 2.6141, 2.6141, 2.6141, 2.6141, 2.6141, 2.6141, 2.6141, 2.6771, 2.6771, 2.6771, 2.6771, 2.6771, 2.6771, 2.6771, 2.6771, 2.6771, 2.6771, 2.6771, 2.6771, 2.6771, 2.6771, 2.6771, 2.6771, 2.6771, 2.6771, 2.6771, 2.6771, 2.6771, 2.6771, 2.6771, 2.6771, 2.6771, 2.6771, 2.6771, 2.6771, 2.6771, 2.6771, 2.6771, 0.7263, -0.7546, 1.6978, 2.5038, 0.3656, 1.097, 1.0599, 2.6771, 1.0931, 0.9958, 1.8725, 2.6771, -1.643, 2.6771, 1.7659, -0.2428, -0.4257, 2.6771, -0.2682, 2.6771, 1.2748, 2.6771, -0.0764, 2.3558, -0.2856, 1.735, 1.3891, 1.4575, 2.6771]}, \"token.table\": {\"Topic\": [2, 8, 12, 1, 3, 8, 10, 1, 6, 7, 8, 11, 11, 2, 7, 11, 7, 12, 1, 6, 7, 8, 1, 2, 3, 4, 5, 6, 6, 7, 5, 7, 11, 12, 3, 9, 7, 8, 1, 9, 5, 7, 2, 4, 6, 8, 11, 6, 6, 6, 9, 10, 11, 9, 10, 11, 1, 16, 10, 1, 2, 4, 14, 1, 2, 4, 6, 7, 11, 12, 4, 1, 2, 3, 4, 5, 6, 1, 4, 1, 2, 3, 4, 9, 11, 2, 7, 9, 1, 9, 12, 7, 3, 4, 1, 3, 10, 8, 5, 9, 10, 6, 11, 6, 1, 6, 14, 12, 10, 12, 1, 2, 3, 8, 6, 2, 6, 13, 1, 2, 4, 6, 7, 9, 17, 17, 4, 8, 10, 1, 2, 3, 4, 5, 7, 10, 15, 6, 4, 2, 4, 5, 7, 9, 10, 11, 16, 2, 4, 9, 17, 9, 7, 1, 5, 6, 7, 13, 17, 17, 10, 17, 14, 5, 7, 14, 1, 2, 3, 4, 5, 8, 9, 2, 4, 6, 8, 1, 14, 1, 5, 6, 7, 9, 10, 1, 7, 9, 9, 4, 2, 7, 1, 3, 4, 8, 14, 4, 2, 3, 4, 14, 16, 6, 1, 6, 7, 8, 1, 4, 5, 6, 10, 4, 9, 1, 2, 7, 9, 2, 8, 10, 11, 1, 2, 3, 4, 6, 8, 10, 11, 8, 9, 9, 1, 6, 9, 10, 11, 2, 1, 2, 4, 5, 6, 8, 4, 8, 10, 4, 4, 13, 1, 11, 14, 1, 15, 1, 6, 15, 3, 10, 1, 2, 4, 6, 8, 9, 10, 11, 8, 12, 4, 8, 12, 4, 1, 3, 2, 8, 4, 7, 9, 14, 11, 1, 3, 14, 5, 17, 10, 1, 12, 7, 1, 4, 6, 8, 14, 11, 3, 1, 2, 3, 1, 3, 4, 5, 6, 7, 11, 1, 5, 6, 7, 6, 1, 10, 14, 8, 14, 5, 4, 7, 10, 1, 9, 10, 13, 5, 2, 10, 1, 2, 3, 7, 16, 18, 11, 4, 7, 1, 6, 9, 13, 1, 2, 4, 5, 6, 8, 1, 2, 5, 7, 8, 1, 3, 4, 6, 7, 10, 5, 7, 9, 12, 8, 14, 1, 3, 5, 6, 2, 9, 1, 8, 10, 1, 7, 3, 1, 4, 8, 11, 2, 3, 2, 2, 4, 6, 14, 1, 2, 5, 1, 3, 5, 6, 7, 14, 5, 9, 7, 10, 1, 2, 3, 5, 8, 1, 2, 11, 6, 11, 1, 3, 5, 7, 1, 3, 5, 1, 3, 5, 14, 14, 1, 6, 1, 2, 11, 1, 17, 1, 9, 10, 16, 9, 11, 9, 18, 14, 5, 1, 2, 3, 5, 2, 5, 6, 7, 12, 13, 14, 3, 5, 11, 1, 3, 8, 10, 1, 1, 7, 5, 4, 5, 14, 2, 4, 8, 10, 11, 12, 1, 1, 2, 3, 4, 5, 7, 8, 3, 1, 11, 10, 2, 5, 17, 2, 5, 1, 2, 3, 6, 7, 8, 11, 16, 1, 3, 4, 2, 9, 1, 2, 3, 5, 11, 10, 9, 1, 2, 8, 15, 7, 9, 4, 10, 1, 9, 1, 3, 5, 5, 6, 7, 8, 11, 1, 2, 4, 8, 10, 11, 1, 3, 6, 7, 10, 11, 1, 2, 4, 6, 10, 11, 12, 14, 11, 1, 3, 4, 5, 6, 9, 10, 5, 7, 6, 4, 6, 1, 2, 5, 9, 8, 1, 3, 5, 1, 5, 6, 12, 2, 6, 8, 11, 4, 9, 2, 4, 11, 5, 6, 12, 3, 6, 2, 4, 1, 4, 7, 8, 10, 8, 8, 1, 6, 6, 6, 1, 5, 10, 1, 2, 5, 9, 1, 4, 6, 8, 18, 1, 8, 12, 1, 3, 5, 6, 7, 1, 2, 4, 6, 9, 1, 3, 4, 5, 1, 3, 5, 2, 11, 3, 1, 9, 10, 1, 3, 4, 5, 6, 8, 1, 11, 1, 2, 3, 4, 5, 9, 5, 3, 4, 1, 2, 5, 3, 4, 7, 8, 3, 3, 3, 1, 2, 3, 4, 5, 6, 7, 8, 5, 1, 19, 1, 1, 4, 9, 1, 15, 14, 1, 2, 3, 4, 6, 7, 10, 1, 2, 3, 7, 8, 8, 3, 4, 5, 6, 1, 3, 3, 2, 11, 3, 3, 4, 9, 10, 9, 14, 11, 1, 10, 10, 17, 1, 3, 4, 6, 8, 5, 12, 10, 12, 1, 4, 8, 1, 4, 5, 8, 11, 10, 1, 8, 10, 5, 1, 4, 5, 6, 9, 10, 11, 12, 2, 5, 1, 5, 16, 4, 11, 1, 2, 4, 6, 8, 11, 5, 14, 5, 1, 9, 1, 2, 4, 8, 1, 2, 3, 4, 5, 8, 11, 1, 6, 7, 10, 6, 9, 6, 10, 11, 1, 2, 3, 5, 8, 1, 9, 9, 1, 2, 6, 7, 8, 3, 8, 9, 14, 7, 1, 2, 1, 5, 11, 13, 1, 3, 5, 4, 7, 14, 1, 4, 9, 4, 12, 17, 2, 6, 9, 10, 1, 2, 4, 5, 6, 1, 2, 10, 11, 1, 2, 1, 2, 3, 4, 5, 8, 17, 6, 10, 1, 2, 3, 4, 6, 9, 2, 4, 5, 17, 1, 3, 1, 4, 5, 9, 1, 1, 5, 1, 2, 3, 4, 5, 10, 2, 11, 8, 6, 1, 3, 4, 5, 8, 10, 1, 1, 4, 5, 7, 8, 10, 11, 7, 8, 15, 4, 4, 1, 13, 7, 10, 10, 14, 5, 9, 9, 12, 2, 4, 16, 1, 4, 6, 7, 8, 1, 2, 3, 4, 5, 8, 11, 3, 3, 16, 1, 4, 5, 6, 8, 1, 4, 5, 8, 10, 1, 7, 4, 2, 5, 7, 10, 12, 14, 1, 6, 7, 8, 10, 4, 1, 2, 4, 5, 6, 8, 9, 1, 2, 3, 5, 6, 10, 12, 15, 13, 13, 2, 4, 8, 1, 2, 3, 5, 6, 7, 10, 2, 12, 4, 9, 4, 6, 8, 2, 9, 10, 11, 1, 3, 4, 6, 9, 12, 1, 2, 3, 1, 3, 5, 6, 13, 3, 2, 4, 4, 3, 11, 10, 7, 1, 1, 15, 8, 9, 7, 11, 9, 9, 13, 10, 7, 1, 10, 6, 9, 1, 2, 6, 8, 9, 10, 12, 2, 8, 8, 2, 4, 7, 15, 5, 15, 1, 5, 7, 8, 9, 1, 3, 6, 9, 1, 10, 11, 16, 5, 1, 2, 4, 5, 6, 9, 6, 4, 6, 11, 2, 1, 5, 7, 7, 11, 1, 2, 10, 8, 2, 8, 3, 5, 1, 4, 7, 9, 8, 10, 11, 2, 7, 7, 1, 2, 3, 4, 6, 13, 8, 1, 4, 6, 10, 12, 12, 1, 2, 3, 5, 1, 3, 6, 2, 8, 12, 1, 5, 7, 12, 1, 9, 4, 8, 15, 7, 15, 10, 11, 10, 11, 6, 9, 1, 3, 4, 5, 7, 2, 9, 10, 4, 14, 1, 4, 5, 6, 7, 8, 10, 4, 2, 3, 3, 2, 6, 7, 10, 11, 5, 8, 1, 3, 5, 10, 5, 13, 15, 4, 8, 1, 3, 5, 5, 1, 1, 3, 5, 3, 5, 12, 14, 1, 2, 5, 7, 5, 7, 9, 9, 10, 2, 1, 2, 3, 4, 5, 8, 1, 13, 8, 6, 10, 11, 1, 2, 3, 4, 6, 9, 15, 1, 12, 14, 2, 4, 3, 9, 12, 1, 1, 2, 3, 4, 8, 9, 12, 15, 2, 4, 2, 1, 2, 8, 5, 6, 1, 2, 3, 7, 2, 4, 16, 6, 6, 6, 7, 7, 4, 1, 4, 6, 7, 8, 6, 12, 2, 3, 4, 6, 7, 14, 1, 2, 4, 5, 6, 7, 2, 8, 10, 12, 5, 12, 8, 12, 12, 12, 1, 2, 3, 4, 5, 8, 9, 1, 6, 8, 2, 4, 6, 1, 8, 9, 12, 11, 1, 8, 10, 1, 2, 3, 10, 2, 2, 4, 5, 8, 4, 6, 8, 10, 11, 1, 4, 1, 2, 3, 4, 5, 6, 1, 2, 5, 5, 1, 3, 3, 9, 10, 7, 7, 1, 4, 8, 5, 4, 9, 1, 2, 3, 4, 7, 8, 7, 1, 9, 5, 4, 6, 8, 1, 5, 6, 7, 9, 4, 7, 10, 3, 3, 12, 1, 2, 4, 5, 4, 15, 3, 5, 1, 2, 3, 5, 7, 12, 2, 8, 7, 5, 11, 6, 2, 7, 6, 15, 1, 6, 13, 1, 5, 8, 9, 8, 1, 3, 9, 1, 15, 1, 2, 4, 5, 6, 7, 8, 9, 4, 4, 6, 9, 1, 4, 5, 7, 1, 2, 6, 7, 8, 2, 4, 11, 6, 13, 6, 5, 1, 5, 1, 6, 14, 2, 1, 3, 4, 5, 8, 9, 10, 7, 1, 2, 4, 6, 8, 9, 10, 11, 12, 1, 2, 3, 4, 5, 1, 1, 4, 5, 2, 2, 4, 5, 13, 14, 1, 10, 15, 2, 2, 11, 10, 8, 10, 2, 9, 8, 11, 3, 8, 10, 4, 1, 5, 7, 9, 10, 9, 16, 2, 6, 8, 14, 6, 1, 5, 13, 12, 4, 12, 2, 3, 5, 10, 16, 8, 1, 8, 14, 17, 9, 12, 1, 3, 5, 6, 13, 3, 5, 3, 4, 5, 5, 8, 13, 1, 3, 4, 5, 6, 7, 8, 10, 13, 1, 2, 3, 4, 5, 8, 2, 1, 17, 1, 13, 17, 11, 7, 9, 1, 4, 7, 9, 15, 1, 2, 9, 2, 9, 15, 1, 2, 3, 4, 5, 6, 7, 8, 10, 5], \"Freq\": [0.8095501168955626, 0.9911075364105036, 0.5894115813992928, 0.8464392051816554, 0.06682414777749911, 0.055686789814582596, 0.02227471592583304, 0.7973226427519239, 0.11527556280750707, 0.009606296900625588, 0.03842518760250235, 0.02881889070187677, 0.9499508902670312, 0.11822069067051416, 0.32510689934391396, 0.5319931080173137, 0.8124209845415283, 0.1766132575090279, 0.07942741303553699, 0.45387093163164, 0.397137065177685, 0.056733866453955, 0.5812724699112766, 0.13581132474562535, 0.038027170928775104, 0.07062188886772519, 0.016297358969475043, 0.15210868371510042, 0.9938152632995364, 0.5536169818356544, 0.9395963075293498, 0.14342472300509168, 0.8127400970288529, 0.04780824100169723, 0.12362557438495515, 0.8653790206946861, 0.9485808313763766, 0.8773889195664406, 0.9897203203773214, 0.9674774187082463, 0.7801175767616942, 0.9857124404517942, 0.04801350038915673, 0.2592729021014463, 0.2304648018679523, 0.39371070319108514, 0.05761620046698807, 0.9865107519840816, 0.9633053209556929, 0.994722064697807, 0.06616202208128023, 0.6947012318534425, 0.19848606624384071, 0.1876394468910616, 0.234549308613827, 0.5629183406731848, 0.3199175993353367, 0.3199175993353367, 0.8086458428349548, 0.9330916524033958, 0.030099730722690187, 0.015049865361345094, 0.015049865361345094, 0.23993276768679309, 0.32461492098801414, 0.310501228771144, 0.014113692216870182, 0.04234107665061054, 0.028227384433740364, 0.028227384433740364, 0.9014347629996549, 0.29778692768541554, 0.3790015443268925, 0.16694115642970264, 0.10377423237522056, 0.01804769258699488, 0.02707153888049232, 0.20635266184125933, 0.7738224819047226, 0.05710199576678548, 0.040787139833418196, 0.7831130848016294, 0.11420399153357096, 0.00815742796668364, 0.4876723921028159, 0.1272973858967784, 0.0636486929483892, 0.7637843153806704, 0.9840397541508114, 0.9719231613806099, 0.8291685757170854, 0.9721154877524861, 0.10897280573419776, 0.8354581772955162, 0.9476416921933871, 0.04901594959620968, 0.8554763764726001, 0.8773285749211046, 0.9433184885945959, 0.9628404033643001, 0.9593605267392776, 0.9900943205411448, 0.9064797820080044, 0.9820033755692283, 0.5775061130466308, 0.21656479239248655, 0.1443765282616577, 0.9562891431039404, 0.31903062385073966, 0.47854593577610943, 0.18557658130324448, 0.16163121597379357, 0.2155082879650581, 0.4310165759301162, 0.9456042673435435, 0.03937966536951532, 0.9648018015531253, 0.9311289907067521, 0.10101472555649615, 0.11544540063599561, 0.33190552682848734, 0.18759877603349284, 0.12987607571549506, 0.12987607571549506, 0.8734833401415254, 0.4864564042461812, 0.6473517632643065, 0.29490469215373966, 0.05034958158722384, 0.2701115621346857, 0.24230596015023273, 0.10327795022796805, 0.1906669850362487, 0.015888915419687392, 0.1469724676321084, 0.031777830839374785, 0.5613904777251059, 0.9844041207450094, 0.9649732959409194, 0.6162305711108713, 0.12533503141238062, 0.26111464877579293, 0.9223170284606292, 0.1414578417319284, 0.42437352519578525, 0.3772209112851424, 0.0471526139106428, 0.42569609791694557, 0.5224452110798877, 0.019349822632588436, 0.019349822632588436, 0.8929720970137436, 0.9740043321377955, 0.2773065592381617, 0.017331659952385108, 0.08665829976192553, 0.6239397582858638, 0.771415678852894, 0.7427086976847135, 0.45926487704409846, 0.9594623606603684, 0.9036075983575516, 0.9036426075669759, 0.10763163883097544, 0.8825794384139987, 0.649937909846739, 0.28937368651078954, 0.2687041374743046, 0.02066954903648497, 0.1942937609429587, 0.1322851138335038, 0.04547300788026693, 0.04960691768756392, 0.07091492390121285, 0.6145960071438447, 0.3013884265801546, 0.01772873097530321, 0.7988290161400404, 0.16817452971369273, 0.08895963622388471, 0.044479818111942356, 0.026687890867165415, 0.4003183630074812, 0.302462763161208, 0.13343945433582707, 0.11407803803193012, 0.02851950950798253, 0.8555852852394759, 0.8496249353415501, 0.977051290607883, 0.8064048124765442, 0.934956547406995, 0.09355024854568887, 0.7172185721836146, 0.1403253728185333, 0.015591708090948144, 0.031183416181896288, 0.9034511075291891, 0.08531833582319609, 0.03554930659299837, 0.8745129421877599, 0.9841548719039529, 0.9423370635414686, 0.9865053654397875, 0.08189101373240994, 0.7622163585862771, 0.006299308748646918, 0.14488410121887912, 0.3747844017207717, 0.6107597657671836, 0.04957625564082677, 0.09915251128165355, 0.7932200902532284, 0.060596529591012756, 0.9089479438651913, 0.5939517981470338, 0.02329222737831505, 0.3144450696072532, 0.05823056844578763, 0.1139538337548978, 0.14244229219362226, 0.042732687658086674, 0.697967231748749, 0.0774657179323834, 0.4309030559988826, 0.04357446633696566, 0.21303072431405434, 0.1016737547862532, 0.05809928844928755, 0.03389125159541773, 0.04357446633696566, 0.6928937001775117, 0.3079527556344497, 0.9499168155797774, 0.46933752258878547, 0.448478077140395, 0.03650402953468331, 0.031289168172585695, 0.010429722724195232, 0.7316727618923555, 0.27439642281079274, 0.2547966783243076, 0.039199488972970396, 0.41159463421618914, 0.006533248162161732, 0.013066496324323464, 0.969336113129153, 0.9856137798523914, 0.9727016967835158, 0.9704982052722548, 0.3043753962778707, 0.6087507925557414, 0.3416072677995243, 0.5693454463325404, 0.07591272617767206, 0.7507758200857186, 0.15015516401714374, 0.9936147996309852, 0.9897238410931378, 0.767794942055042, 0.972616654907965, 0.9524608377370001, 0.05564939827291746, 0.36261865971384927, 0.22618787685121292, 0.2549101469275574, 0.014361135038172249, 0.01795141879771531, 0.03590283759543062, 0.030517411956116028, 0.0928479083788931, 0.835631175410038, 0.9752501441773735, 0.9382050229137361, 0.9030549441756539, 0.9640714249370752, 0.16318000683499018, 0.8159000341749509, 0.9221276351103066, 0.9672449010627823, 0.6604915765350536, 0.22595764460409729, 0.10428814366342952, 0.9106599821430033, 0.9702259838463573, 0.2567382499286657, 0.7274250414645528, 0.017115883328577712, 0.9652610808887206, 0.038610443235548825, 0.947765839884475, 0.5671654459982908, 0.4083591211187694, 0.9435556541830109, 0.10327087718595987, 0.2753890058292263, 0.5393034697489015, 0.06884725145730658, 0.654342247151427, 0.889941110644976, 0.9386719817304332, 0.39111551662768795, 0.5050625569050459, 0.09854879159122847, 0.6002345464079447, 0.0031758441608885964, 0.21913324710131316, 0.012703376643554386, 0.041285974091551755, 0.11433038979198948, 0.00952753248266579, 0.39254885411052404, 0.10631531465493359, 0.029986370800109474, 0.47160383167444897, 0.9922938882671106, 0.6953349887441911, 0.05348730682647623, 0.24069288071914305, 0.7707436883056747, 0.1926859220764187, 0.9519735506937004, 0.08014963015391437, 0.8415711166161008, 0.04007481507695718, 0.42912371186062065, 0.022585458518980035, 0.5420510044555208, 0.9222543574392202, 0.983810063492009, 0.3938776564124835, 0.5908164846187253, 0.12017276889715853, 0.6297053090211107, 0.1297865904089312, 0.11536585814127219, 0.7452704395142181, 0.5948672294190185, 0.486977820661118, 0.9693689869887733, 0.025509710183915086, 0.5899089086468123, 0.160884247812767, 0.18769828911489483, 0.04022106195319175, 0.06362522197432943, 0.05383672628597106, 0.7488199201594157, 0.05873097413015025, 0.03425973490925431, 0.0391539827534335, 0.01717173726842388, 0.19461302237547065, 0.291919533563206, 0.0858586863421194, 0.4006738695965572, 0.08702771709064966, 0.06837892057122473, 0.01243253101294995, 0.17405543418129932, 0.42270605444029835, 0.23621808924604906, 0.4048644233318156, 0.5911020580644508, 0.3678844079725249, 0.3678844079725249, 0.4840047608270677, 0.24200238041353386, 0.33832122651829283, 0.0698123165831398, 0.3973931867040265, 0.1933264151533102, 0.5860462345257998, 0.9318947311777992, 0.9934892714194474, 0.9635956573159266, 0.9821669225190355, 0.6795565828284232, 0.2962169720021332, 0.8520540134738551, 0.2359210496245842, 0.14417397477057925, 0.5635891741031733, 0.0393201749374307, 0.987077539422499, 0.9408877353718426, 0.9019475271218891, 0.9717403574128117, 0.9295461048509457, 0.058096631553184105, 0.5932453972461851, 0.005361600555346441, 0.037531203887425084, 0.9543648988516664, 0.14788967189187563, 0.008216092882881979, 0.4683172943242728, 0.34507590108104313, 0.0410804644144099, 0.8310725439700526, 0.9436800971191395, 0.9065370768802125, 0.38738023434300384, 0.5423323280802054, 0.3231710424237792, 0.35779651125489836, 0.115418229437064, 0.173127344155596, 0.028854557359266, 0.03230986522496956, 0.872366361074178, 0.0807746630624239, 0.8930597310847188, 0.9630110991826177, 0.3958950142048321, 0.03098308806820425, 0.512942235795826, 0.05852361079549692, 0.12262822365802753, 0.6376667630217432, 0.2370812324055199, 0.18238105043279887, 0.15824238199316373, 0.65710819641229, 0.5874812211647079, 0.7813884814900223, 0.9801233874842026, 0.019602467749684053, 0.5613137334542863, 0.09355228890904771, 0.3430250593331749, 0.9284968014800655, 0.044214133403812646, 0.027252065436407097, 0.38152891610969936, 0.5722933741645491, 0.9175126213697368, 0.9900213338598666, 0.8678149492024093, 0.8282216652611952, 0.1035277081576494, 0.9375587858934232, 0.946650637110566, 0.9290205737864063, 0.012726309229950772, 0.06363154614975386, 0.9345821315284697, 0.34840117328856646, 0.16774871306486533, 0.07742248295301478, 0.36130492044740226, 0.03871124147650739, 0.8969294788011526, 0.731741993210464, 0.18827630758241715, 0.7531052303296686, 0.053793230737833465, 0.04725310094862614, 0.2362655047431307, 0.02362655047431307, 0.6851699637550791, 0.9783619858635472, 0.04285705083914942, 0.8999980676221379, 0.9790480241892285, 0.7604964764225589, 0.22609354704454454, 0.5182923957829316, 0.5269731318355705, 0.23023097992816188, 0.051162439984035975, 0.10744112396647555, 0.07162741597765036, 0.015348731995210793, 0.9938244598111977, 0.3498272751791621, 0.27571132704798373, 0.13933798248661544, 0.026681741327224232, 0.17194899966433394, 0.026681741327224232, 0.0029646379252471367, 0.9798581733788532, 0.4032833930494704, 0.5645967502692586, 0.9751121412614815, 0.5268130140803683, 0.9937583464115538, 0.8379094587834358, 0.9828770436664916, 0.9512153309179707, 0.15731146382394767, 0.22023604935352675, 0.10225245148556598, 0.22023604935352675, 0.0471934391471843, 0.08652130510317121, 0.16517703701514505, 0.9094776855904532, 0.3081569551861708, 0.07337070361575496, 0.6163139103723416, 0.9188301157519134, 0.87321026079557, 0.02257307459640207, 0.07336249243830673, 0.6207595514010569, 0.2821634324550259, 0.9311903525802724, 0.9461088821549313, 0.9599858832077685, 0.9448412165755596, 0.016576161694308065, 0.016576161694308065, 0.4894330582119637, 0.9687265154827129, 0.8918254021830364, 0.9780122929494297, 0.9340149985093344, 0.1604106602057289, 0.8421559660800767, 0.02956936659888776, 0.9314350478649643, 0.03449759436536905, 0.12611258257721084, 0.3531152312161904, 0.12611258257721084, 0.1765576156080952, 0.20178013212353735, 0.19944331957052144, 0.13510676487035322, 0.09650483205025231, 0.45035588290117745, 0.0321682773500841, 0.08363752111021867, 0.6661581577752318, 0.0549408789917717, 0.006867609873971462, 0.020602829621914384, 0.20602829621914387, 0.02747043949588585, 0.0773087014556481, 0.36292140405568135, 0.26628552723612126, 0.16320725862859042, 0.0515391343037654, 0.02791703108120626, 0.04509674251579473, 0.0042949278586471165, 0.9159641044611734, 0.05668315198928239, 0.402450379123905, 0.18138608636570366, 0.31175733594105315, 0.0056683151989282395, 0.028341575994641197, 0.0056683151989282395, 0.041995344255277824, 0.944895245743751, 0.9790460846633017, 0.9707583217195433, 0.980949452480268, 0.08499136957784942, 0.7479240522850749, 0.06799309566227954, 0.08499136957784942, 0.9451575027482491, 0.09338853185677175, 0.7678612619334565, 0.12451804247569566, 0.791145227807063, 0.11769102562419119, 0.032691951562275334, 0.05230712249964053, 0.2590773448189087, 0.48493964543026497, 0.013286017683020958, 0.24579132713588772, 0.9362540233730144, 0.9794888225332703, 0.9418155295911207, 0.9138012823699794, 0.9906491212285781, 0.8812308151324053, 0.10574769781588864, 0.7308645372405732, 0.6703601603003242, 0.3225317752388352, 0.9598973820751693, 0.03235609153062368, 0.24292158503326536, 0.06073039625831634, 0.13664339158121178, 0.37956497661447713, 0.16700858971036994, 0.9630412713647196, 0.9294263192256925, 0.9882670428805018, 0.9832450065155385, 0.7228320005052411, 0.9754897471001068, 0.25765871816559166, 0.4092226700277044, 0.33344069409664806, 0.15833151443362767, 0.2421540808984894, 0.5029353987891703, 0.09313618496095746, 0.6502282639677124, 0.22331071691820423, 0.03283981131150062, 0.09195147167220175, 0.5563205100840211, 0.32406432333320334, 0.4320857644442711, 0.21604288222213555, 0.5755881884161492, 0.0033464429559078445, 0.08366107389769611, 0.11377906050086672, 0.2242116780458256, 0.03562965288676365, 0.22090384789793466, 0.2850372230941092, 0.399052112331753, 0.05700744461882185, 0.3587804420253683, 0.13179689707054346, 0.08054254820977655, 0.42467889056064, 0.1571461672860192, 0.38164069198033235, 0.4614609674271993, 0.9887535679514039, 0.9906347822151251, 0.980821455875333, 0.4374938220051473, 0.5468672775064342, 0.8903793285209656, 0.06551898943269839, 0.023825087066435775, 0.035737630599653666, 0.4050264801294082, 0.33355121893010087, 0.13103797886539678, 0.37570402996247526, 0.5635560449437129, 0.20129645503360172, 0.22478104145418856, 0.37910832364661656, 0.04025929100672034, 0.1509723412752013, 0.8538969446291947, 0.9719420296572756, 0.8583508408107713, 0.9556149202440813, 0.269138972037852, 0.37081369480770715, 0.35287109667185035, 0.24960692873852933, 0.47718971670601196, 0.12480346436926466, 0.1394862248832958, 0.9867175607597347, 0.8719573229060598, 0.9917885028039206, 0.30204585094575725, 0.07794731637309864, 0.20461170547938393, 0.14939902304843905, 0.05521268243094487, 0.14290341335068085, 0.05846048727982398, 0.00974341454663733, 0.958259531216021, 0.995295716999736, 0.7598469577840109, 0.997085191508189, 0.4184382243521198, 0.08368764487042396, 0.5021258692225438, 0.9900706294807693, 0.5047445973366751, 0.7829315608069738, 0.33932292033463685, 0.1546913313290256, 0.0698606012453664, 0.2944125338197584, 0.0299402576765856, 0.049900429460976004, 0.0598805153531712, 0.46647077591651415, 0.15690380644464566, 0.30956696947186846, 0.05512836442649713, 0.008481286834845711, 0.9836554669145954, 0.7975049337997616, 0.08861165931108463, 0.10127046778409672, 0.9755031275566106, 0.027370633024420568, 0.95797215585472, 0.8775426062495562, 0.35603527081210945, 0.5933921180201824, 0.9870872926422052, 0.9583468383345914, 0.047640049253813176, 0.23820024626906589, 0.7146007388071977, 0.9272719705921386, 0.8432666503897501, 0.486977820661118, 0.7740132994034795, 0.980349646627842, 0.9437926558421061, 0.5775151266853562, 0.08734054488238982, 0.550917283104305, 0.141088572502322, 0.020155510357474576, 0.1948366001222542, 0.3077333216459784, 0.4615999824689676, 0.639915879366565, 0.255966351746626, 0.6686738679706327, 0.26289741817648804, 0.06858193517647515, 0.1654552681110357, 0.7489027925025826, 0.026124516017531952, 0.017416344011687967, 0.034832688023375934, 0.9256402434793379, 0.1677503260208366, 0.7129388855885554, 0.10484395376302287, 0.920966325236829, 0.2383281280886478, 0.15543138788390073, 0.020724185051186766, 0.19687975798627427, 0.24869022061424118, 0.12434511030712059, 0.7154927234776499, 0.2683097713041187, 0.011249937596143591, 0.989994508460636, 0.9892471316783731, 0.011918640140703289, 0.8755042619843076, 0.9286755498011593, 0.7821103828467901, 0.0476073345738535, 0.07934555762308916, 0.3491204535415923, 0.20629844982003184, 0.17456022677079616, 0.1428220037215605, 0.3684299512133115, 0.5526449268199674, 0.9757381924520903, 0.1321126974584868, 0.8587325334801642, 0.5051679828776149, 0.13323111636332702, 0.3219751978780403, 0.03885907560597038, 0.1785199091046891, 0.04998557454931294, 0.46415176367219163, 0.14995672364793883, 0.007140796364187563, 0.10711194546281345, 0.04284477818512538, 0.01766564796150152, 0.3356473112685289, 0.5829663827295501, 0.052996943884504565, 0.9433023010880217, 0.04101314352556616, 0.44412528907767795, 0.22206264453883898, 0.3330939668082585, 0.6328941144837398, 0.040570135543829475, 0.05679818976136126, 0.08114027108765895, 0.18662262350161557, 0.3226771183978104, 0.6701755535954523, 0.9578872583199919, 0.9819753081963177, 0.060420638082257706, 0.9264497839279515, 0.9468304778652958, 0.9701198892355483, 0.981044562309796, 0.9608986481346053, 0.9123047032131144, 0.7008491021890026, 0.9535383345926414, 0.8268780504276889, 0.13781300840461483, 0.5515191500864957, 0.2595384235701156, 0.0648846058925289, 0.1297692117850578, 0.895698743616097, 0.03348406518191017, 0.06696813036382034, 0.04462252184201763, 0.9370729586823703, 0.5315287623327907, 0.10717818109546981, 0.8788610849828524, 0.01071781810954698, 0.4545692387502615, 0.5195077014288703, 0.6501728107897761, 0.07703986400633649, 0.7703986400633648, 0.0962998300079206, 0.05777989800475236, 0.8179994415989614, 0.00605925512295527, 0.018177765368865808, 0.13330361270501592, 0.018177765368865808, 0.27777512761416395, 0.41666269142124596, 0.24305323666239348, 0.06076330916559837, 0.23196336356215458, 0.7511194629631672, 0.2421822283655631, 0.3291194385480729, 0.25460182982020735, 0.018629402181966393, 0.14903521745573114, 0.27165516815077134, 0.6791379203769283, 0.9574315150583808, 0.9591311527319955, 0.613269918847083, 0.08304696817720916, 0.006388228321323782, 0.24062326676986245, 0.04471759824926647, 0.010647047202206304, 0.2506557343121567, 0.6423053191749015, 0.09399590036705877, 0.015665983394509794, 0.091640539157004, 0.870585121991538, 0.9297642672816078, 0.0053129386701806156, 0.03187763202108369, 0.03187763202108369, 0.9745502642361725, 0.16053231576616697, 0.8255947667974302, 0.15564685347290708, 0.11414102588013185, 0.29054079314942655, 0.3403477862607568, 0.06640932414844035, 0.031129370694581417, 0.9521159518657277, 0.6737894863715764, 0.8993190304183221, 0.9774131761395387, 0.5393215477034337, 0.12317837817917929, 0.28963564598888103, 0.0033291453561940347, 0.029962308205746312, 0.009987436068582104, 0.9912103657567352, 0.14175142084409367, 0.1701017050129124, 0.028350284168818733, 0.4394294046166904, 0.1701017050129124, 0.028350284168818733, 0.014175142084409367, 0.9622965692788371, 0.03564061367699397, 0.8406740407414461, 0.9902183237831028, 0.9114765331150927, 0.35133889835401283, 0.35133889835401283, 0.9768602167674578, 0.9623130107530358, 0.5280899782917292, 0.2640449891458646, 0.4931492697546165, 0.36986195231596236, 0.31527554504099364, 0.31527554504099364, 0.29274609363742526, 0.6830742184873256, 0.0325273437374917, 0.18972308303155752, 0.09106707985514761, 0.20490092967408213, 0.15177846642524603, 0.35667939609932814, 0.15449156309672007, 0.14213223804898248, 0.5098221582191762, 0.05561696271481923, 0.10505426290576965, 0.02162881883354081, 0.009269493785803204, 0.9542128184453007, 0.9830883916519877, 0.7252022509641021, 0.5740737748422453, 0.1499832384722983, 0.10343671618779193, 0.10343671618779193, 0.06723386552206476, 0.6850054531413806, 0.007210583717277691, 0.2379492626701638, 0.057684669738221526, 0.014421167434555382, 0.05474846880073841, 0.930723969612553, 0.9327639217150449, 0.9813987961771716, 0.34342085774461256, 0.6340077373746693, 0.993733301889127, 0.7293655181763127, 0.8190194706894126, 0.7870780228224058, 0.05884695497737614, 0.014711738744344035, 0.13240564869909632, 0.9340698846615357, 0.9900531016154982, 0.4860042778561926, 0.1531246354889374, 0.16976861760730017, 0.04660314993141573, 0.003328796423672552, 0.04993194635508828, 0.08987750343915892, 0.20246381808155975, 0.2458489219561797, 0.028923402583079964, 0.44108188939196946, 0.06507765581192992, 0.014461701291539982, 0.867529577277542, 0.6378751249300152, 0.7884218366886606, 0.48167891125096846, 0.8765379969148206, 0.03371299988133925, 0.0674259997626785, 0.2662711770841732, 0.02457887788469291, 0.24988525849437793, 0.2949465346163149, 0.004096479647448819, 0.14747326730815746, 0.008192959294897637, 0.6447240931774628, 0.8040334466258157, 0.8382647713313773, 0.13971079522189622, 0.792310102941418, 0.09100859290543316, 0.11242237947141744, 0.1419857498989764, 0.0473285832996588, 0.5679429995959056, 0.23664291649829397, 0.4464037508305879, 0.33120278287430716, 0.02880024198907019, 0.04320036298360529, 0.08640072596721057, 0.05760048397814038, 0.03347716180283541, 0.8369290450708853, 0.10043148540850623, 0.18571924382276506, 0.011143154629365904, 0.2674357111047817, 0.40115356665717256, 0.13000347067593554, 0.8660575747730035, 0.8113964200425495, 0.1774929668843077, 0.9801117352489301, 0.9199561937899856, 0.842445615444364, 0.9682199358475564, 0.9843159403849541, 0.9900347985241452, 0.9940973422790449, 0.4600428727914956, 0.8228574913356381, 0.15428577962543213, 0.9830625032385585, 0.6861275390667494, 0.8397823802437617, 0.9801024187160631, 0.5866359700535085, 0.9294574560030117, 0.9527255889032983, 0.9480135979822253, 0.9459856190719818, 0.9915017297758449, 0.9581503119369151, 0.03985381907160376, 0.13284606357201253, 0.33211515893003135, 0.35868437164443384, 0.03985381907160376, 0.07970763814320753, 0.013284606357201254, 0.0919089852264769, 0.8961126059581498, 0.9582923751392788, 0.9232556945055324, 0.03846898727106385, 0.8729901813899487, 0.09699890904332763, 0.47426856553323304, 0.47426856553323304, 0.7939023348007124, 0.021265241110733364, 0.007088413703577789, 0.028353654814311156, 0.14885668777513356, 0.14441789836743624, 0.8394290342607231, 0.009026118647964765, 0.9841797598556927, 0.9829907187987128, 0.960363935603528, 0.486977820661118, 0.5612352861476143, 0.972075915047887, 0.0936389901415865, 0.14357978488376597, 0.44322455333684274, 0.012485198685544865, 0.1310945861982211, 0.16855018225485568, 0.9744672710454492, 0.7935016427370184, 0.16531284223687884, 0.933801556066631, 0.9379246723964784, 0.14199557032503207, 0.634803726158967, 0.21716969579122553, 0.9211091529011823, 0.6949141351873251, 0.17130783220578016, 0.2398309650880922, 0.5824466294996525, 0.9081126625953084, 0.978562646215811, 0.016309377436930183, 0.9870004896780059, 0.9671395653181261, 0.5893224150172076, 0.252566749293089, 0.04209445821551483, 0.1262833746465445, 0.03729168032270759, 0.7458336064541518, 0.22375008193624554, 0.9793506938370796, 0.9786185234813872, 0.9141168403615857, 0.9853928658311694, 0.11402297041302045, 0.7472576810996162, 0.06922823203647671, 0.034614116018238356, 0.034614116018238356, 0.9765856170145422, 0.39755931597347655, 0.22302107969243803, 0.07757254945823933, 0.3005936291506774, 0.9734710757270552, 0.7084937552343832, 0.29285551068292376, 0.5287668942886123, 0.040674376483739415, 0.13015800474796613, 0.17037285057460005, 0.09735591461405717, 0.7179998702786716, 0.995625114577351, 0.9172427486213551, 0.5909515390476242, 0.9858374744486398, 0.03817218021614485, 0.9543045054036213, 0.45020007348986935, 0.9952111656911106, 0.9553290817369443, 0.2883802714020695, 0.6785418150636929, 0.03392709075318465, 0.5827786803079887, 0.29138934015399437, 0.25901595513821046, 0.6475398878455262, 0.041052239805262236, 0.9031492757157693, 0.9846558346807278, 0.9645322586377004, 0.02173946290081138, 0.02173946290081138, 0.5108773781690675, 0.31522221206176504, 0.13043677740486828, 0.982059580985972, 0.9335810355178812, 0.06223873570119208, 0.9181864368916317, 0.5334591983462329, 0.195768564066685, 0.2669571328182068, 0.035594284375760905, 0.017797142187880453, 0.4182328414151906, 0.02669571328182068, 0.035594284375760905, 0.9204390885162104, 0.08323270464035985, 0.9155597510439584, 0.9869075785962049, 0.23459985424487878, 0.0781999514149596, 0.0781999514149596, 0.11729992712243939, 0.4300997327822778, 0.9858809310536204, 0.9653851726510467, 0.015963930339505945, 0.9019620641820859, 0.07981965169752972, 0.9855286045790776, 0.8525452133377819, 0.12179217333396884, 0.9058818956653978, 0.2703396983017015, 0.7278376492738117, 0.3150507478290975, 0.45682358435219134, 0.22841179217609567, 0.9791494662494045, 0.9751661690276437, 0.22675268124566114, 0.18023931073373065, 0.5930454740271137, 0.1179278481591957, 0.8697178801740683, 0.4924673947698836, 0.7791485223496891, 0.028699768571718035, 0.7031443300070919, 0.028699768571718035, 0.22959814857374428, 0.4566478263943625, 0.5297114786174605, 0.9743874191653383, 0.26770442255995963, 0.7266262898056046, 0.9257627811709057, 0.1918911121443563, 0.13816160074393652, 0.4451873801749066, 0.09978337831506527, 0.09210773382929102, 0.03837822242887126, 0.9869252924057715, 0.9616344490758906, 0.9191950549418002, 0.9646414352297314, 0.988323194957882, 0.8439207480116636, 0.29715966997090243, 0.19349931998105274, 0.17967793998240614, 0.1658565599837595, 0.01727672499830828, 0.14512448998578956, 0.8673655865159848, 0.6339262496590754, 0.3169631248295377, 0.8160595427856351, 0.9682600136676441, 0.8990764857082921, 0.9795758552384006, 0.7970247892952735, 0.14491359805368612, 0.9924118368035669, 0.2585779825945993, 0.7250323825691706, 0.015210469564388195, 0.3197077217318899, 0.07992693043297247, 0.5861308231751314, 0.5894115813992928, 0.9214724457798268, 0.9667593810326829, 0.02035282907437227, 0.9517747063704494, 0.005259990371371641, 0.9888781898178685, 0.9842106760721222, 0.12410639318276553, 0.8549551530368292, 0.08892358695806142, 0.035155836704349866, 0.8664879752425055, 0.010339951971867607, 0.28933303876793953, 0.7026659512935675, 0.492133846395366, 0.9537921927610359, 0.9745821546922686, 0.2686475875364257, 0.7291863090274412, 0.9876054769842305, 0.9755518739494574, 0.1769059209406559, 0.31590343025117124, 0.01263613721004685, 0.44226480235163973, 0.03790841163014055, 0.9910606877781301, 0.9116728440729994, 0.4256350560935404, 0.2594780555864364, 0.13884352097168964, 0.17526149368557545, 0.9587660618321986, 0.9090665704548703, 0.43247481017131423, 0.004970974829555335, 0.2932875149437648, 0.13421632039799405, 0.00994194965911067, 0.11930339590932806, 0.24825127826710383, 0.41375213044517306, 0.20687606522258653, 0.12412563913355192, 0.260456432357808, 0.716255188983972, 0.16066329116346428, 0.8033164558173215, 0.8963603249784906, 0.6843525245558331, 0.5281155722824863, 0.1790222278923682, 0.15216889370851297, 0.11188889243273013, 0.004475555697309205, 0.022377778486546027, 0.004475555697309205, 0.23646039285744191, 0.6699711130960855, 0.07882013095248064, 0.013984706959780708, 0.7505126068415646, 0.23307844932967844, 0.38044210428932407, 0.2747637419867341, 0.23249239706569805, 0.08454268984207201, 0.9217059721804702, 0.3427594321381672, 0.5998290062417925, 0.02856328601151393, 0.01546952979703257, 0.7734764898516285, 0.18563435756439084, 0.01546952979703257, 0.9220225652091849, 0.4738807912480171, 0.42928024618938015, 0.06690081758795535, 0.027875340661648065, 0.6855653862477935, 0.029381373696334007, 0.23505098957067205, 0.009793791232111335, 0.03917516492844534, 0.9678908421139332, 0.9431861609586979, 0.025616595714419946, 0.03842489357162992, 0.6083941482174737, 0.01921244678581496, 0.3009949996444344, 0.9559212702533944, 0.9809503227251416, 0.06040488653779035, 0.9362757413357504, 0.9412909344579535, 0.2847201615107445, 0.7118004037768612, 0.9915285404522264, 0.89027827665486, 0.08093438878680546, 0.9710783576246556, 0.9767588983044999, 0.42354461126391907, 0.47648768767190897, 0.10588615281597977, 0.9555130432189789, 0.9715827126297621, 0.9234157193854292, 0.09724875970816638, 0.18369210167098093, 0.35657878559661005, 0.03241625323605546, 0.3349679501059064, 0.893154574552812, 0.9795876704765676, 0.450451585968917, 0.5215755205955881, 0.9640055720201581, 0.6699372207754456, 0.25348975921233075, 0.07242564548923736, 0.27993861108453805, 0.020995395831340354, 0.5668756874461895, 0.11197544443381521, 0.006998465277113451, 0.5984816375896704, 0.3056076447266402, 0.08913556304527007, 0.9534101930003479, 0.9464263085886275, 0.4498225783714416, 0.08045650510094682, 0.15472404827105157, 0.587951383429996, 0.17947989599441982, 0.9908644714842566, 0.9474553293864874, 0.17425991141616926, 0.8132129199421232, 0.02140815596635038, 0.21408155966350378, 0.4709794312597083, 0.29257813154012186, 0.987307227238213, 0.5795133617699869, 0.13332268438762987, 0.8532651800808311, 0.9838702646684786, 0.41932786226775853, 0.5241598278346982, 0.9757654516850238, 0.9281882467104541, 0.9514156449394163, 0.6641223069922411, 0.221374102330747, 0.4802531288500236, 0.18676510566389806, 0.32016875256668237, 0.4453944371935174, 0.07745990212061171, 0.40666448613321154, 0.05809492659045879, 0.9672302167405489, 0.9849950674023935, 0.8704410596025859, 0.11191385052033248, 0.5107867913635893, 0.8589719558543921, 0.44068283451835893, 0.10062836378765676, 0.11103819452431091, 0.006939887157769432, 0.1943168404175441, 0.08327864589323318, 0.05898904084104017, 0.003469943578884716, 0.9852233879260069, 0.8451569970628409, 0.05488032448460006, 0.09878458407228011, 0.5323943400970514, 0.09259032001687852, 0.011573790002109815, 0.3587874900654042, 0.2859166634258091, 0.1603922746047222, 0.44630893803053134, 0.11157723450763284, 0.9597925750708604, 0.4557202177862566, 0.2278601088931283, 0.3133076497280514, 0.949554301268259, 0.8659361170912795, 0.9560167588804279, 0.9503424719178192, 0.9393994642793819, 0.046199973653084356, 0.9768518586164044, 0.8138945272047913, 0.14798082312814387, 0.8971782918283326, 0.5358588147642598, 0.04465490123035498, 0.02679294073821299, 0.2723948975051654, 0.04018941110731948, 0.04465490123035498, 0.02679294073821299, 0.9688974576724605, 0.033482908617961125, 0.47992169019077613, 0.18973648216844638, 0.08928775631456301, 0.022321939078640753, 0.11160969539320376, 0.011160969539320376, 0.011160969539320376, 0.044643878157281505, 0.36678207278537994, 0.5335011967787344, 0.0333438247986709, 0.04445843306489454, 0.011114608266223635, 0.98132513748209, 0.01466350554525389, 0.16129856099779277, 0.8211563105342178, 0.9691731684587297, 0.07629446144355806, 0.5722084608266854, 0.30517784577423224, 0.03814723072177903, 0.8543265730224532, 0.03311314822153764, 0.9602812984245914, 0.7752412512577886, 0.931390241197846, 0.1389808891193783, 0.8338853347162698, 0.9493976121499572, 0.951438681985778, 0.9731139113183849, 0.9690980117746792, 0.9593608868310823, 0.948715688280033, 0.9439096849371538, 0.9124639975495734, 0.8018098582490252, 0.17817996849978338, 0.9830214383285301, 0.05765998315465692, 0.9225597304745107, 0.07888118500191256, 0.01972029625047814, 0.8874133312715162, 0.8521428301697812, 0.1310988969491971, 0.2176309466034953, 0.7798442253291914, 0.9755381151656259, 0.4988093903886312, 0.9656801267048943, 0.6875994633960048, 0.18752712638072858, 0.06250904212690953, 0.4495313515425712, 0.9252251220922761, 0.5029889519097033, 0.9532872805803847, 0.9830007871060508, 0.9616491815566199, 0.8620087005670555, 0.9090630888842774, 0.9521732108740657, 0.9863847836556926, 0.906868046470774, 0.9820186540319865, 0.6614451256265181, 0.9670252466156017, 0.7869199448592745, 0.8280050811206389, 0.02614752887749386, 0.1307376443874693, 0.008715842959164619, 0.8844531206783416, 0.10350425556367705, 0.8871793334029462, 0.03857938682298876, 0.07715877364597752, 0.8873258969287415, 0.9620164645180965, 0.9603335703016066, 0.8912051863236409, 0.24867449316889745, 0.04521354421252681, 0.18838976755219503, 0.14317622333966823, 0.037677953510439004, 0.06028472561670241, 0.09796267912714142, 0.1657829954459316, 0.007535590702087801, 0.27980594920533963, 0.4248905154599602, 0.1813557078182757, 0.015544774955852204, 0.07772387477926102, 0.015544774955852204, 0.8888975420152215, 0.9759682160361085, 0.9249490685510144, 0.48930323042936585, 0.3262021536195772, 0.6395258210466511, 0.968462519686897, 0.03262195969002688, 0.9460368310107795, 0.46243908129791883, 0.015161937091735044, 0.007580968545867522, 0.5003439240272565, 0.779609577449583, 0.9226407481178258, 0.056488209068438315, 0.01882940302281277, 0.9374088623659828, 0.9301719356032613, 0.860368801939469, 0.2531697309108116, 0.27701905338791705, 0.21097477575900966, 0.0009172816337348246, 0.08347262866986904, 0.054119616390354654, 0.11466020421685308, 0.004586408168674123, 0.0009172816337348246, 0.992734901873908], \"Term\": [\"absorb\", \"accept\", \"accomodate\", \"accord\", \"accord\", \"accord\", \"accord\", \"account\", \"account\", \"account\", \"account\", \"account\", \"accounting\", \"accuse\", \"accuse\", \"accuse\", \"act\", \"act\", \"action\", \"action\", \"action\", \"action\", \"add\", \"add\", \"add\", \"add\", \"add\", \"add\", \"additional\", \"adequately\", \"adjust\", \"admit\", \"admit\", \"admit\", \"advance\", \"advance\", \"advantage\", \"advise\", \"affect\", \"african\", \"afternoon\", \"age\", \"agree\", \"agree\", \"agree\", \"agree\", \"agree\", \"air\", \"aircraft\", \"airline\", \"allegation\", \"allegation\", \"allegation\", \"allege\", \"allege\", \"allege\", \"alliance\", \"alliance\", \"ally\", \"almost\", \"almost\", \"almost\", \"almost\", \"already\", \"already\", \"already\", \"already\", \"already\", \"already\", \"already\", \"altogether\", \"analyst\", \"analyst\", \"analyst\", \"analyst\", \"analyst\", \"analyst\", \"announcement\", \"announcement\", \"annual\", \"annual\", \"annual\", \"annual\", \"annual\", \"answer\", \"anti\", \"anti\", \"anti\", \"anticipate\", \"apart\", \"apologise\", \"appeal\", \"approve\", \"approve\", \"area\", \"area\", \"argentine\", \"arrest\", \"asian\", \"attend\", \"attorney\", \"auction\", \"auditor\", \"authority\", \"avoid\", \"avoid\", \"avoid\", \"award\", \"aware\", \"aware\", \"bank\", \"bank\", \"bank\", \"bank\", \"bankrupt\", \"bankruptcy\", \"bankruptcy\", \"barrel\", \"base\", \"base\", \"base\", \"base\", \"base\", \"base\", \"beer\", \"bet\", \"bid\", \"bid\", \"bid\", \"big\", \"big\", \"big\", \"big\", \"big\", \"big\", \"big\", \"bilateral\", \"bill\", \"bond\", \"boost\", \"boost\", \"boost\", \"borrow\", \"boss\", \"boss\", \"boss\", \"boss\", \"brand\", \"brand\", \"brand\", \"brand\", \"brazilian\", \"breach\", \"break\", \"break\", \"break\", \"break\", \"brent\", \"brewer\", \"brewery\", \"broker\", \"brother\", \"bubble\", \"budget\", \"budget\", \"burst\", \"business\", \"business\", \"business\", \"business\", \"business\", \"business\", \"business\", \"buy\", \"buy\", \"buy\", \"buy\", \"buying\", \"buying\", \"call\", \"call\", \"call\", \"call\", \"call\", \"call\", \"campaign\", \"campaign\", \"campaign\", \"campaigner\", \"cancellation\", \"cancer\", \"cap\", \"capital\", \"capital\", \"capital\", \"capital\", \"capital\", \"capitalisation\", \"car\", \"car\", \"car\", \"card\", \"carmaker\", \"carrier\", \"case\", \"case\", \"case\", \"case\", \"cash\", \"cash\", \"centre\", \"centre\", \"centre\", \"chain\", \"chain\", \"change\", \"change\", \"change\", \"change\", \"charge\", \"charge\", \"charge\", \"charge\", \"chief\", \"chief\", \"chief\", \"chief\", \"chief\", \"chief\", \"chief\", \"chief\", \"child\", \"child\", \"choice\", \"claim\", \"claim\", \"claim\", \"claim\", \"claim\", \"clinical\", \"close\", \"close\", \"close\", \"close\", \"close\", \"close\", \"clothing\", \"club\", \"co\", \"coffee\", \"cold\", \"cold\", \"collapse\", \"collapse\", \"collapse\", \"combination\", \"combination\", \"comment\", \"commission\", \"commitment\", \"committee\", \"commodity\", \"company\", \"company\", \"company\", \"company\", \"company\", \"company\", \"company\", \"company\", \"compensation\", \"compensation\", \"competitor\", \"complaint\", \"compliance\", \"conclude\", \"confidence\", \"confidence\", \"confident\", \"connection\", \"consider\", \"consider\", \"consider\", \"consortium\", \"conspiracy\", \"consumer\", \"consumer\", \"consumer\", \"consumption\", \"consumption\", \"continent\", \"contract\", \"contract\", \"contribution\", \"control\", \"control\", \"control\", \"control\", \"converted\", \"convict\", \"cool\", \"cost\", \"cost\", \"cost\", \"could\", \"could\", \"could\", \"could\", \"could\", \"could\", \"could\", \"country\", \"country\", \"country\", \"country\", \"court\", \"credit\", \"credit\", \"credit\", \"creditor\", \"creditor\", \"crisis\", \"critic\", \"critic\", \"critic\", \"criticism\", \"criticism\", \"criticism\", \"crude\", \"currency\", \"customer\", \"customer\", \"cut\", \"cut\", \"cut\", \"cut\", \"cylinder\", \"dam\", \"darling\", \"date\", \"date\", \"day\", \"day\", \"day\", \"day\", \"deal\", \"deal\", \"deal\", \"deal\", \"deal\", \"deal\", \"debt\", \"debt\", \"debt\", \"debt\", \"debt\", \"decision\", \"decision\", \"decision\", \"decision\", \"decision\", \"decision\", \"deficit\", \"deficit\", \"delegation\", \"delegation\", \"delist\", \"delist\", \"demand\", \"demand\", \"demand\", \"demand\", \"depression\", \"deputy\", \"describe\", \"detailed\", \"develop\", \"difficult\", \"difficult\", \"direction\", \"director\", \"director\", \"director\", \"director\", \"disappointing\", \"discount\", \"distance\", \"division\", \"document\", \"document\", \"dog\", \"dollar\", \"dollar\", \"dollar\", \"domestic\", \"domestic\", \"domestic\", \"domestic\", \"domestic\", \"door\", \"downturn\", \"dozen\", \"draw\", \"draw\", \"early\", \"early\", \"early\", \"early\", \"early\", \"earning\", \"earning\", \"earning\", \"easy\", \"ebber\", \"economic\", \"economic\", \"economic\", \"economic\", \"economist\", \"economist\", \"economist\", \"economy\", \"economy\", \"economy\", \"educate\", \"educational\", \"effort\", \"effort\", \"emerge\", \"emerge\", \"emerge\", \"employ\", \"employ\", \"employee\", \"employee\", \"employee\", \"engine\", \"entitle\", \"entry\", \"environmental\", \"environmental\", \"equip\", \"estate\", \"estimate\", \"estimate\", \"estimate\", \"euro\", \"european\", \"european\", \"european\", \"european\", \"european\", \"evaporate\", \"eventually\", \"ever\", \"ever\", \"ever\", \"evidence\", \"evidence\", \"evidence\", \"evidence\", \"example\", \"exceed\", \"exceed\", \"excessive\", \"exchange\", \"exchange\", \"excuse\", \"executive\", \"executive\", \"executive\", \"executive\", \"executive\", \"executive\", \"expansion\", \"expect\", \"expect\", \"expect\", \"expect\", \"expect\", \"expect\", \"expect\", \"expectation\", \"expense\", \"expense\", \"experience\", \"experimental\", \"export\", \"exposure\", \"extend\", \"extensive\", \"face\", \"face\", \"face\", \"face\", \"face\", \"face\", \"face\", \"facility\", \"factory\", \"factory\", \"factory\", \"failure\", \"fair\", \"fall\", \"fall\", \"fall\", \"fall\", \"false\", \"falter\", \"fan\", \"far\", \"far\", \"far\", \"faulty\", \"federal\", \"festive\", \"field\", \"fierce\", \"fight\", \"fight\", \"figure\", \"figure\", \"figure\", \"finance\", \"finance\", \"finance\", \"finance\", \"finance\", \"financial\", \"financial\", \"financial\", \"financial\", \"financial\", \"financial\", \"find\", \"find\", \"find\", \"find\", \"find\", \"find\", \"firm\", \"firm\", \"firm\", \"firm\", \"firm\", \"firm\", \"firm\", \"firm\", \"firmly\", \"first\", \"first\", \"first\", \"first\", \"first\", \"first\", \"first\", \"fiscal\", \"fiscal\", \"flight\", \"flotation\", \"fly\", \"focus\", \"focus\", \"focus\", \"focus\", \"football\", \"forecast\", \"forecast\", \"forecast\", \"foreign\", \"foreign\", \"foreign\", \"foreign\", \"former\", \"former\", \"former\", \"former\", \"fortune\", \"forum\", \"forward\", \"found\", \"fraud\", \"fresh\", \"fresh\", \"fsa\", \"fuel\", \"fuel\", \"full\", \"full\", \"fund\", \"fund\", \"fund\", \"fund\", \"fund\", \"funding\", \"game\", \"gap\", \"gas\", \"gasoline\", \"gazprom\", \"german\", \"german\", \"german\", \"global\", \"global\", \"global\", \"global\", \"go\", \"go\", \"go\", \"go\", \"gorge\", \"governance\", \"governance\", \"governance\", \"government\", \"government\", \"government\", \"government\", \"government\", \"group\", \"group\", \"group\", \"group\", \"group\", \"grow\", \"grow\", \"grow\", \"grow\", \"growth\", \"growth\", \"growth\", \"guidance\", \"guilty\", \"halifax\", \"hear\", \"hear\", \"heat\", \"help\", \"help\", \"help\", \"help\", \"help\", \"help\", \"hide\", \"hide\", \"high\", \"high\", \"high\", \"high\", \"high\", \"higher\", \"highlight\", \"hike\", \"history\", \"hit\", \"hit\", \"hit\", \"hold\", \"hold\", \"hold\", \"hold\", \"house\", \"household\", \"housing\", \"however\", \"however\", \"however\", \"however\", \"however\", \"however\", \"however\", \"however\", \"imbalance\", \"impact\", \"impetus\", \"import\", \"important\", \"important\", \"important\", \"improve\", \"inadequate\", \"inch\", \"include\", \"include\", \"include\", \"include\", \"include\", \"include\", \"include\", \"increase\", \"increase\", \"increase\", \"increase\", \"increase\", \"independent\", \"index\", \"index\", \"index\", \"indian\", \"indicate\", \"indicate\", \"indicator\", \"inflate\", \"inflate\", \"inflation\", \"inflationary\", \"information\", \"information\", \"information\", \"initiative\", \"injection\", \"innocence\", \"instability\", \"insurance\", \"insurer\", \"interbrew\", \"interest\", \"interest\", \"interest\", \"interest\", \"interest\", \"internal\", \"internal\", \"investigate\", \"investigate\", \"investment\", \"investment\", \"investment\", \"investor\", \"investor\", \"investor\", \"investor\", \"investor\", \"invite\", \"involve\", \"involve\", \"involve\", \"israeli\", \"issue\", \"issue\", \"issue\", \"issue\", \"issue\", \"issue\", \"jail\", \"jail\", \"japanese\", \"japanese\", \"job\", \"job\", \"joint\", \"journalist\", \"juror\", \"know\", \"know\", \"know\", \"know\", \"know\", \"know\", \"korean\", \"korean\", \"labour\", \"lack\", \"lack\", \"large\", \"large\", \"large\", \"large\", \"late\", \"late\", \"late\", \"late\", \"late\", \"late\", \"late\", \"law\", \"law\", \"law\", \"law\", \"lawsuit\", \"lawsuit\", \"lawyer\", \"lawyer\", \"lawyer\", \"lead\", \"lead\", \"lead\", \"lead\", \"lead\", \"leader\", \"leader\", \"leadership\", \"least\", \"legal\", \"legal\", \"legislation\", \"lend\", \"lending\", \"let\", \"letter\", \"lg\", \"lie\", \"lift\", \"lift\", \"light\", \"light\", \"light\", \"light\", \"likely\", \"likely\", \"likely\", \"limit\", \"limit\", \"liquidation\", \"list\", \"list\", \"list\", \"listing\", \"listing\", \"litre\", \"local\", \"local\", \"local\", \"local\", \"long\", \"long\", \"long\", \"long\", \"long\", \"lose\", \"lose\", \"lose\", \"lose\", \"loss\", \"loss\", \"low\", \"low\", \"low\", \"low\", \"low\", \"luxury\", \"luxury\", \"mail\", \"mainly\", \"make\", \"make\", \"make\", \"make\", \"make\", \"make\", \"maker\", \"maker\", \"maker\", \"maker\", \"manufacturing\", \"manufacturing\", \"many\", \"many\", \"many\", \"many\", \"margin\", \"mark\", \"mark\", \"market\", \"market\", \"market\", \"market\", \"market\", \"market\", \"marketing\", \"mastermind\", \"match\", \"matter\", \"may\", \"may\", \"may\", \"may\", \"may\", \"may\", \"measure\", \"meet\", \"meet\", \"meet\", \"meet\", \"meet\", \"meet\", \"meet\", \"member\", \"member\", \"membership\", \"merger\", \"mid\", \"mild\", \"mild\", \"military\", \"mini\", \"ministry\", \"ministry\", \"minute\", \"minute\", \"mislead\", \"mislead\", \"model\", \"model\", \"model\", \"money\", \"money\", \"money\", \"money\", \"money\", \"month\", \"month\", \"month\", \"month\", \"month\", \"month\", \"month\", \"monthly\", \"mortgage\", \"motor\", \"move\", \"move\", \"move\", \"move\", \"move\", \"much\", \"much\", \"much\", \"much\", \"much\", \"must\", \"must\", \"naccorde\", \"name\", \"nation\", \"nation\", \"nationwide\", \"nboee\", \"nearli\", \"need\", \"need\", \"need\", \"need\", \"negotiate\", \"negotiation\", \"new\", \"new\", \"new\", \"new\", \"new\", \"new\", \"new\", \"next\", \"next\", \"next\", \"next\", \"next\", \"next\", \"nfirm\", \"nmeanwhile\", \"noil\", \"northern\", \"nshare\", \"nshare\", \"nshare\", \"nthe\", \"nthe\", \"nthe\", \"nthe\", \"nthe\", \"nthe\", \"nthe\", \"obesity\", \"oblige\", \"observer\", \"observer\", \"offer\", \"offer\", \"offer\", \"officer\", \"officer\", \"officer\", \"officer\", \"official\", \"official\", \"official\", \"official\", \"official\", \"official\", \"offset\", \"offset\", \"offset\", \"oil\", \"oil\", \"oil\", \"oil\", \"oil\", \"ons\", \"operate\", \"operate\", \"oppose\", \"optimism\", \"orchestrate\", \"organisation\", \"original\", \"other\", \"outlook\", \"overhaul\", \"package\", \"package\", \"pact\", \"paint\", \"palestinian\", \"panel\", \"panic\", \"paper\", \"parliament\", \"partner\", \"party\", \"passenger\", \"patient\", \"pay\", \"pay\", \"pay\", \"pay\", \"pay\", \"pay\", \"pay\", \"payment\", \"payment\", \"penalty\", \"penny\", \"penny\", \"pension\", \"pension\", \"pensioner\", \"pensioner\", \"people\", \"people\", \"people\", \"people\", \"people\", \"period\", \"period\", \"period\", \"person\", \"personal\", \"persuade\", \"petere\", \"petrol\", \"picture\", \"plan\", \"plan\", \"plan\", \"plan\", \"plan\", \"plan\", \"plane\", \"plant\", \"plant\", \"plead\", \"pointed\", \"policy\", \"policy\", \"policy\", \"population\", \"portray\", \"position\", \"position\", \"position\", \"possibility\", \"post\", \"post\", \"pound\", \"poverty\", \"power\", \"power\", \"power\", \"power\", \"practice\", \"practice\", \"practice\", \"pre\", \"prediction\", \"president\", \"pretty\", \"price\", \"price\", \"price\", \"price\", \"price\", \"prison\", \"private\", \"private\", \"private\", \"private\", \"procedure\", \"procurement\", \"product\", \"product\", \"product\", \"product\", \"production\", \"production\", \"production\", \"profit\", \"profitability\", \"prohibit\", \"project\", \"promote\", \"promote\", \"prop\", \"property\", \"proportion\", \"proposal\", \"proposal\", \"proposal\", \"propose\", \"propose\", \"prosecution\", \"prosecution\", \"prosecutor\", \"prosecutor\", \"protection\", \"protest\", \"public\", \"public\", \"public\", \"public\", \"public\", \"publication\", \"publish\", \"publish\", \"pull\", \"purpose\", \"put\", \"put\", \"put\", \"put\", \"put\", \"put\", \"put\", \"quality\", \"quarter\", \"quarter\", \"quarterly\", \"question\", \"question\", \"question\", \"question\", \"question\", \"rally\", \"rank\", \"rate\", \"rate\", \"rate\", \"rating\", \"rebound\", \"rebound\", \"recall\", \"receive\", \"receive\", \"recent\", \"recent\", \"recent\", \"recession\", \"recognise\", \"record\", \"record\", \"record\", \"recovery\", \"recovery\", \"recruit\", \"redemption\", \"reduce\", \"reduce\", \"reduce\", \"reduce\", \"reform\", \"reform\", \"regard\", \"regulator\", \"regulator\", \"regulatory\", \"remain\", \"remain\", \"remain\", \"remain\", \"remain\", \"remain\", \"remove\", \"renew\", \"repayment\", \"repeatedly\", \"replace\", \"reply\", \"report\", \"report\", \"report\", \"report\", \"report\", \"report\", \"request\", \"requirement\", \"requirement\", \"rescue\", \"reserve\", \"resign\", \"respectable\", \"responsibility\", \"responsibility\", \"rest\", \"result\", \"result\", \"result\", \"retailer\", \"retailer\", \"retailer\", \"rethink\", \"retirement\", \"return\", \"return\", \"reuter\", \"revenue\", \"revenue\", \"rich\", \"right\", \"right\", \"rise\", \"rise\", \"rise\", \"rise\", \"rival\", \"rival\", \"romeo\", \"rosneft\", \"route\", \"rule\", \"rule\", \"ruling\", \"rumour\", \"run\", \"run\", \"run\", \"run\", \"run\", \"russian\", \"sack\", \"sale\", \"sale\", \"sale\", \"sale\", \"sanction\", \"saudi\", \"say\", \"say\", \"say\", \"say\", \"say\", \"say\", \"scandal\", \"scandal\", \"scandal\", \"scandal\", \"scheme\", \"scheme\", \"scrutiny\", \"scrutiny\", \"secondary\", \"section\", \"see\", \"see\", \"see\", \"see\", \"see\", \"see\", \"see\", \"seek\", \"seek\", \"seek\", \"sell\", \"sell\", \"sell\", \"senior\", \"senior\", \"senior\", \"senior\", \"sentence\", \"separate\", \"separate\", \"separate\", \"service\", \"service\", \"service\", \"service\", \"severe\", \"share\", \"share\", \"share\", \"share\", \"shareholder\", \"shareholder\", \"shareholder\", \"shareholder\", \"shareholder\", \"sharply\", \"shop\", \"show\", \"show\", \"show\", \"show\", \"show\", \"side\", \"single\", \"slide\", \"slide\", \"slip\", \"slow\", \"slow\", \"slowdown\", \"sluggish\", \"sluggish\", \"smoking\", \"social\", \"source\", \"source\", \"source\", \"spark\", \"speculation\", \"speech\", \"spend\", \"spend\", \"spend\", \"spend\", \"spend\", \"split\", \"stability\", \"staff\", \"staff\", \"stagnate\", \"stake\", \"stake\", \"stake\", \"state\", \"state\", \"state\", \"state\", \"state\", \"statement\", \"statement\", \"statement\", \"statistic\", \"steady\", \"steer\", \"stock\", \"stock\", \"stock\", \"stock\", \"store\", \"straight\", \"strength\", \"strength\", \"strong\", \"strong\", \"strong\", \"strong\", \"structural\", \"subsequently\", \"subsidiary\", \"subsidiary\", \"subsidy\", \"substantial\", \"substantial\", \"sue\", \"suit\", \"suitable\", \"summit\", \"summit\", \"supply\", \"supply\", \"supply\", \"support\", \"support\", \"support\", \"support\", \"supporter\", \"surge\", \"survey\", \"survey\", \"sweet\", \"tackle\", \"take\", \"take\", \"take\", \"take\", \"take\", \"take\", \"take\", \"take\", \"takeover\", \"talk\", \"talk\", \"talk\", \"target\", \"target\", \"target\", \"target\", \"tax\", \"tax\", \"tax\", \"tax\", \"team\", \"telecom\", \"telecom\", \"telecom\", \"tell\", \"temperature\", \"test\", \"textile\", \"thing\", \"thing\", \"threat\", \"threaten\", \"threaten\", \"tie\", \"time\", \"time\", \"time\", \"time\", \"time\", \"time\", \"time\", \"tobacco\", \"top\", \"top\", \"top\", \"top\", \"top\", \"top\", \"top\", \"top\", \"top\", \"total\", \"total\", \"total\", \"total\", \"total\", \"track\", \"trade\", \"trade\", \"trade\", \"trader\", \"trading\", \"trading\", \"trading\", \"trading\", \"train\", \"transaction\", \"transaction\", \"transform\", \"treatment\", \"trial\", \"trial\", \"troubled\", \"trust\", \"tumble\", \"turnover\", \"tv\", \"tycoon\", \"unaware\", \"unchanged\", \"understand\", \"understand\", \"undervalue\", \"unemployment\", \"unemployment\", \"unfair\", \"unfair\", \"unfair\", \"union\", \"union\", \"unit\", \"unit\", \"unite\", \"university\", \"unknown\", \"unlikely\", \"unlikely\", \"unlikely\", \"unnamed\", \"unveil\", \"unwilling\", \"uphold\", \"upward\", \"usual\", \"valuation\", \"venture\", \"video\", \"view\", \"violation\", \"volume\", \"voting\", \"wage\", \"waive\", \"warn\", \"warn\", \"warn\", \"warn\", \"watch\", \"weak\", \"weak\", \"weaken\", \"weaken\", \"weaken\", \"weakness\", \"wealth\", \"weather\", \"week\", \"week\", \"week\", \"week\", \"week\", \"week\", \"week\", \"week\", \"week\", \"well\", \"well\", \"well\", \"well\", \"well\", \"well\", \"wholesale\", \"widely\", \"wine\", \"winter\", \"winter\", \"wish\", \"witness\", \"woman\", \"woman\", \"work\", \"work\", \"work\", \"work\", \"workplace\", \"world\", \"world\", \"world\", \"worldwide\", \"wrong\", \"wto\", \"year\", \"year\", \"year\", \"year\", \"year\", \"year\", \"year\", \"year\", \"year\", \"yen\"]}, \"R\": 30, \"lambda.step\": 0.01, \"plot.opts\": {\"xlab\": \"PC1\", \"ylab\": \"PC2\"}, \"topic.order\": [20, 19, 11, 12, 13, 3, 8, 16, 9, 2, 17, 15, 7, 4, 10, 18, 14, 1, 5, 6]};\n",
       "\n",
       "function LDAvis_load_lib(url, callback){\n",
       "  var s = document.createElement('script');\n",
       "  s.src = url;\n",
       "  s.async = true;\n",
       "  s.onreadystatechange = s.onload = callback;\n",
       "  s.onerror = function(){console.warn(\"failed to load library \" + url);};\n",
       "  document.getElementsByTagName(\"head\")[0].appendChild(s);\n",
       "}\n",
       "\n",
       "if(typeof(LDAvis) !== \"undefined\"){\n",
       "   // already loaded: just create the visualization\n",
       "   !function(LDAvis){\n",
       "       new LDAvis(\"#\" + \"ldavis_el151397640108158247654104352\", ldavis_el151397640108158247654104352_data);\n",
       "   }(LDAvis);\n",
       "}else if(typeof define === \"function\" && define.amd){\n",
       "   // require.js is available: use it to load d3/LDAvis\n",
       "   require.config({paths: {d3: \"https://cdnjs.cloudflare.com/ajax/libs/d3/3.5.5/d3.min\"}});\n",
       "   require([\"d3\"], function(d3){\n",
       "      window.d3 = d3;\n",
       "      LDAvis_load_lib(\"https://cdn.rawgit.com/bmabey/pyLDAvis/files/ldavis.v1.0.0.js\", function(){\n",
       "        new LDAvis(\"#\" + \"ldavis_el151397640108158247654104352\", ldavis_el151397640108158247654104352_data);\n",
       "      });\n",
       "    });\n",
       "}else{\n",
       "    // require.js not available: dynamically load d3 & LDAvis\n",
       "    LDAvis_load_lib(\"https://cdnjs.cloudflare.com/ajax/libs/d3/3.5.5/d3.min.js\", function(){\n",
       "         LDAvis_load_lib(\"https://cdn.rawgit.com/bmabey/pyLDAvis/files/ldavis.v1.0.0.js\", function(){\n",
       "                 new LDAvis(\"#\" + \"ldavis_el151397640108158247654104352\", ldavis_el151397640108158247654104352_data);\n",
       "            })\n",
       "         });\n",
       "}\n",
       "</script>"
      ],
      "text/plain": [
       "PreparedData(topic_coordinates=              x         y  topics  cluster       Freq\n",
       "topic                                                \n",
       "19     0.244425 -0.046253       1        1  28.651353\n",
       "18     0.249304  0.049701       2        1  11.569925\n",
       "10     0.288971 -0.197095       3        1  10.862863\n",
       "11     0.204021  0.149917       4        1  10.518417\n",
       "12     0.244651 -0.216842       5        1   9.264144\n",
       "2      0.189019  0.186206       6        1   8.826582\n",
       "7      0.136375 -0.055649       7        1   5.764434\n",
       "15     0.059587  0.143193       8        1   4.470297\n",
       "8     -0.016003  0.046070       9        1   3.064543\n",
       "1     -0.011154  0.153504      10        1   2.875692\n",
       "16    -0.087373  0.109205      11        1   1.565822\n",
       "14    -0.146532  0.000770      12        1   0.633784\n",
       "6     -0.149859 -0.062019      13        1   0.504358\n",
       "3     -0.171021 -0.042845      14        1   0.503218\n",
       "9     -0.176877 -0.040837      15        1   0.271552\n",
       "17    -0.177773 -0.039553      16        1   0.265884\n",
       "13    -0.175532 -0.041670      17        1   0.249283\n",
       "0     -0.169522 -0.032406      18        1   0.069654\n",
       "4     -0.168936 -0.033116      19        1   0.059859\n",
       "5     -0.165772 -0.030280      20        1   0.008336, topic_info=             Term        Freq       Total Category  logprob  loglift\n",
       "641         price  491.000000  491.000000  Default  30.0000  30.0000\n",
       "833           oil  269.000000  269.000000  Default  29.0000  29.0000\n",
       "364          firm  465.000000  465.000000  Default  28.0000  28.0000\n",
       "57           rise  483.000000  483.000000  Default  27.0000  27.0000\n",
       "487       country  366.000000  366.000000  Default  26.0000  26.0000\n",
       "...           ...         ...         ...      ...      ...      ...\n",
       "2070      partner    0.000925   14.767721  Topic20  -8.7389  -0.2856\n",
       "2058        sweet    0.000925    1.957764  Topic20  -8.7389   1.7350\n",
       "2049     gasoline    0.000925    2.766895  Topic20  -8.7389   1.3891\n",
       "2050  instability    0.000925    2.583935  Topic20  -8.7389   1.4575\n",
       "2051   mechanical    0.000925    0.763147  Topic20  -8.7389   2.6771\n",
       "\n",
       "[1036 rows x 6 columns], token_table=      Topic      Freq        Term\n",
       "term                             \n",
       "2077      2  0.809550      absorb\n",
       "1264      8  0.991108      accept\n",
       "2508     12  0.589412  accomodate\n",
       "0         1  0.846439      accord\n",
       "0         3  0.066824      accord\n",
       "...     ...       ...         ...\n",
       "73        6  0.054120        year\n",
       "73        7  0.114660        year\n",
       "73        8  0.004586        year\n",
       "73       10  0.000917        year\n",
       "1723      5  0.992735         yen\n",
       "\n",
       "[1564 rows x 3 columns], R=30, lambda_step=0.01, plot_opts={'xlab': 'PC1', 'ylab': 'PC2'}, topic_order=[20, 19, 11, 12, 13, 3, 8, 16, 9, 2, 17, 15, 7, 4, 10, 18, 14, 1, 5, 6])"
      ]
     },
     "execution_count": 46,
     "metadata": {},
     "output_type": "execute_result"
    }
   ],
   "source": [
    "# Visualize the topics\n",
    "pyLDAvis.enable_notebook()\n",
    "vis = pyLDAvis.gensim.prepare(lda_model, corpus, id2word)\n",
    "vis"
   ]
  },
  {
   "cell_type": "markdown",
   "metadata": {},
   "source": [
    "## Hyperparameter Tuning - Number of Topics and Alpha\n",
    "\n"
   ]
  },
  {
   "cell_type": "code",
   "execution_count": 47,
   "metadata": {
    "execution": {
     "iopub.execute_input": "2021-01-30T06:42:52.224182Z",
     "iopub.status.busy": "2021-01-30T06:42:52.223205Z",
     "iopub.status.idle": "2021-01-30T06:43:25.409953Z",
     "shell.execute_reply": "2021-01-30T06:43:25.410495Z"
    },
    "papermill": {
     "duration": 33.262776,
     "end_time": "2021-01-30T06:43:25.410664",
     "exception": false,
     "start_time": "2021-01-30T06:42:52.147888",
     "status": "completed"
    },
    "tags": []
   },
   "outputs": [
    {
     "data": {
      "text/html": [
       "<div>\n",
       "<style scoped>\n",
       "    .dataframe tbody tr th:only-of-type {\n",
       "        vertical-align: middle;\n",
       "    }\n",
       "\n",
       "    .dataframe tbody tr th {\n",
       "        vertical-align: top;\n",
       "    }\n",
       "\n",
       "    .dataframe thead th {\n",
       "        text-align: right;\n",
       "    }\n",
       "</style>\n",
       "<table border=\"1\" class=\"dataframe\">\n",
       "  <thead>\n",
       "    <tr style=\"text-align: right;\">\n",
       "      <th></th>\n",
       "      <th>alpha</th>\n",
       "      <th>num_topics</th>\n",
       "      <th>coherence_value</th>\n",
       "    </tr>\n",
       "  </thead>\n",
       "  <tbody>\n",
       "    <tr>\n",
       "      <th>0</th>\n",
       "      <td>0.01</td>\n",
       "      <td>2</td>\n",
       "      <td>0.307777</td>\n",
       "    </tr>\n",
       "    <tr>\n",
       "      <th>1</th>\n",
       "      <td>0.01</td>\n",
       "      <td>6</td>\n",
       "      <td>0.294715</td>\n",
       "    </tr>\n",
       "    <tr>\n",
       "      <th>2</th>\n",
       "      <td>0.01</td>\n",
       "      <td>10</td>\n",
       "      <td>0.300718</td>\n",
       "    </tr>\n",
       "    <tr>\n",
       "      <th>3</th>\n",
       "      <td>0.01</td>\n",
       "      <td>15</td>\n",
       "      <td>0.284745</td>\n",
       "    </tr>\n",
       "    <tr>\n",
       "      <th>4</th>\n",
       "      <td>0.10</td>\n",
       "      <td>2</td>\n",
       "      <td>0.297096</td>\n",
       "    </tr>\n",
       "    <tr>\n",
       "      <th>5</th>\n",
       "      <td>0.10</td>\n",
       "      <td>6</td>\n",
       "      <td>0.307790</td>\n",
       "    </tr>\n",
       "    <tr>\n",
       "      <th>6</th>\n",
       "      <td>0.10</td>\n",
       "      <td>10</td>\n",
       "      <td>0.295126</td>\n",
       "    </tr>\n",
       "    <tr>\n",
       "      <th>7</th>\n",
       "      <td>0.10</td>\n",
       "      <td>15</td>\n",
       "      <td>0.300221</td>\n",
       "    </tr>\n",
       "    <tr>\n",
       "      <th>8</th>\n",
       "      <td>1.00</td>\n",
       "      <td>2</td>\n",
       "      <td>0.295729</td>\n",
       "    </tr>\n",
       "    <tr>\n",
       "      <th>9</th>\n",
       "      <td>1.00</td>\n",
       "      <td>6</td>\n",
       "      <td>0.307726</td>\n",
       "    </tr>\n",
       "    <tr>\n",
       "      <th>10</th>\n",
       "      <td>1.00</td>\n",
       "      <td>10</td>\n",
       "      <td>0.301536</td>\n",
       "    </tr>\n",
       "    <tr>\n",
       "      <th>11</th>\n",
       "      <td>1.00</td>\n",
       "      <td>15</td>\n",
       "      <td>0.301697</td>\n",
       "    </tr>\n",
       "  </tbody>\n",
       "</table>\n",
       "</div>"
      ],
      "text/plain": [
       "    alpha  num_topics  coherence_value\n",
       "0    0.01           2         0.307777\n",
       "1    0.01           6         0.294715\n",
       "2    0.01          10         0.300718\n",
       "3    0.01          15         0.284745\n",
       "4    0.10           2         0.297096\n",
       "5    0.10           6         0.307790\n",
       "6    0.10          10         0.295126\n",
       "7    0.10          15         0.300221\n",
       "8    1.00           2         0.295729\n",
       "9    1.00           6         0.307726\n",
       "10   1.00          10         0.301536\n",
       "11   1.00          15         0.301697"
      ]
     },
     "execution_count": 47,
     "metadata": {},
     "output_type": "execute_result"
    }
   ],
   "source": [
    "# build models across a range of num_topics and alpha\n",
    "num_topics_range=[2,6,10,15]\n",
    "alpha_range=[0.01,0.1,1]\n",
    "model_list, coherence_values=compute_coherence_values(dictionary=id2word,corpus=corpus,texts=data_lemmatized,\\\n",
    "                                                      num_topics_range=num_topics_range,\\\n",
    "                                                     alpha_range=alpha_range)\n",
    "coherence_df=pd.DataFrame(coherence_values,columns=['alpha','num_topics','coherence_value'])\n",
    "coherence_df"
   ]
  },
  {
   "cell_type": "markdown",
   "metadata": {},
   "source": [
    "## Coherence plots"
   ]
  },
  {
   "cell_type": "code",
   "execution_count": 48,
   "metadata": {
    "execution": {
     "iopub.execute_input": "2021-01-30T06:43:25.562540Z",
     "iopub.status.busy": "2021-01-30T06:43:25.561377Z",
     "iopub.status.idle": "2021-01-30T06:43:25.931112Z",
     "shell.execute_reply": "2021-01-30T06:43:25.930441Z"
    },
    "papermill": {
     "duration": 0.452186,
     "end_time": "2021-01-30T06:43:25.931245",
     "exception": false,
     "start_time": "2021-01-30T06:43:25.479059",
     "status": "completed"
    },
    "tags": []
   },
   "outputs": [
    {
     "data": {
      "image/png": "[encoded data removed]",
      "text/plain": [
       "<Figure size 1152x432 with 3 Axes>"
      ]
     },
     "metadata": {
      "needs_background": "light"
     },
     "output_type": "display_data"
    }
   ],
   "source": [
    "# plot\n",
    "plot_coherence(coherence_df, alpha_range, num_topics_range)"
   ]
  },
  {
   "cell_type": "code",
   "execution_count": null,
   "metadata": {
    "papermill": {
     "duration": 0.067265,
     "end_time": "2021-01-30T06:43:26.201623",
     "exception": false,
     "start_time": "2021-01-30T06:43:26.134358",
     "status": "completed"
    },
    "tags": []
   },
   "outputs": [],
   "source": []
  }
 ],
 "metadata": {
  "kernelspec": {
   "display_name": "Python 3 (ipykernel)",
   "language": "python",
   "name": "python3"
  },
  "language_info": {
   "codemirror_mode": {
    "name": "ipython",
    "version": 3
   },
   "file_extension": ".py",
   "mimetype": "text/x-python",
   "name": "python",
   "nbconvert_exporter": "python",
   "pygments_lexer": "ipython3",
   "version": "3.9.7"
  },
  "papermill": {
   "duration": 227.010203,
   "end_time": "2021-01-30T06:43:26.381935",
   "environment_variables": {},
   "exception": null,
   "input_path": "__notebook__.ipynb",
   "output_path": "__notebook__.ipynb",
   "parameters": {},
   "start_time": "2021-01-30T06:39:39.371732",
   "version": "2.1.0"
  }
 },
 "nbformat": 4,
 "nbformat_minor": 4
}
